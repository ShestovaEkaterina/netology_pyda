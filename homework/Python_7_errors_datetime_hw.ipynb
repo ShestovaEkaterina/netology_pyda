{
 "cells": [
  {
   "cell_type": "markdown",
   "metadata": {},
   "source": [
    "ДОМАШНЕЕ ЗАДАНИЕ"
   ]
  },
  {
   "cell_type": "markdown",
   "metadata": {},
   "source": [
    "Задание 1\n",
    "Напишите функцию date_range, которая возвращает список дней между датами start_date и end_date. Даты должны вводиться в формате YYYY-MM-DD.\n"
   ]
  },
  {
   "cell_type": "code",
   "execution_count": 1,
   "metadata": {},
   "outputs": [
    {
     "name": "stdout",
     "output_type": "stream",
     "text": [
      "Введите дату начала интервала: 2019-01-01\n",
      "Введите дату конца интервала: 2019-01-10\n",
      "2019-01-01\n",
      "2019-01-02\n",
      "2019-01-03\n",
      "2019-01-04\n",
      "2019-01-05\n",
      "2019-01-06\n",
      "2019-01-07\n",
      "2019-01-08\n",
      "2019-01-09\n",
      "2019-01-10\n"
     ]
    }
   ],
   "source": [
    "from datetime import datetime\n",
    "from datetime import timedelta\n",
    "\n",
    "def date_range():\n",
    "    start_date = input ('Введите дату начала интервала: ')\n",
    "    end_date = input('Введите дату конца интервала: ')\n",
    "    \n",
    "    start_date_dt = datetime.strptime(start_date, '%Y-%m-%d')\n",
    "    end_date_dt = datetime.strptime(end_date, '%Y-%m-%d')\n",
    "    \n",
    "    current_dt = start_date_dt\n",
    "    while current_dt <= end_date_dt:\n",
    "        print(current_dt.strftime('%Y-%m-%d'))\n",
    "        current_dt += timedelta(days=1)\n",
    "        \n",
    "date_range()\n"
   ]
  },
  {
   "cell_type": "markdown",
   "metadata": {},
   "source": [
    "Задание 2\n",
    "Дополните функцию из первого задания проверкой на корректность дат. В случае неверного формата или если start_date > end_date должен возвращаться пустой список.\n"
   ]
  },
  {
   "cell_type": "code",
   "execution_count": 3,
   "metadata": {},
   "outputs": [
    {
     "name": "stdout",
     "output_type": "stream",
     "text": [
      "Введите дату начала интервала: 2019.01.01\n",
      "Введите дату конца интервала: 2019.01.10\n",
      "['']\n"
     ]
    }
   ],
   "source": [
    "from datetime import datetime\n",
    "from datetime import timedelta\n",
    "\n",
    "def date_range():\n",
    "    date_list = []\n",
    "    try:\n",
    "        start_date = input ('Введите дату начала интервала: ')\n",
    "        end_date = input('Введите дату конца интервала: ')\n",
    "    \n",
    "        start_date_dt = datetime.strptime(start_date, '%Y-%m-%d')\n",
    "        end_date_dt = datetime.strptime(end_date, '%Y-%m-%d')\n",
    "        \n",
    "        current_dt = start_date_dt\n",
    "        while current_dt <= end_date_dt:\n",
    "            date_list.append(current_dt.strftime('%Y-%m-%d'))\n",
    "            current_dt += timedelta(days=1)\n",
    "            \n",
    "        if start_date_dt > end_date_dt:\n",
    "            date_list.append('')\n",
    "            \n",
    "    except ValueError:\n",
    "        date_list.append('')\n",
    "        \n",
    "    return date_list\n",
    "        \n",
    "print(date_range())\n"
   ]
  },
  {
   "cell_type": "markdown",
   "metadata": {},
   "source": [
    "Задание 3\n",
    "Дан поток дат в формате YYYY-MM-DD, в которых встречаются некорректные значения:\n",
    "stream = [‘2018-04-02’, ‘2018-02-29’, ‘2018-19-02’]\n",
    "\n",
    "Напишите функцию, которая проверяет эти даты на корректность. Т. е. для каждой даты возвращает True (дата корректна) или False (некорректная дата).\n"
   ]
  },
  {
   "cell_type": "code",
   "execution_count": 3,
   "metadata": {},
   "outputs": [],
   "source": [
    "stream = ['2018-04-02','2018-02-29', '2018-19-02']\n"
   ]
  },
  {
   "cell_type": "code",
   "execution_count": 4,
   "metadata": {},
   "outputs": [
    {
     "name": "stdout",
     "output_type": "stream",
     "text": [
      "[True, False, False]\n"
     ]
    }
   ],
   "source": [
    "from datetime import datetime\n",
    "\n",
    "def check_date(date_list):\n",
    "    check_list = []\n",
    "    for date in date_list:\n",
    "        try:\n",
    "            result = datetime.strptime(date,'%Y-%m-%d')\n",
    "            check_list.append(True)\n",
    "        except ValueError:\n",
    "            check_list.append (False)\n",
    "            \n",
    "    return check_list\n",
    "       \n",
    "\n",
    "print (check_date(stream))\n",
    "    \n",
    "\n"
   ]
  },
  {
   "cell_type": "markdown",
   "metadata": {},
   "source": [
    "Задание 4 (бонусное)\n",
    "Ваш коллега прислал код функции:\n",
    "\n",
    "DEFAULT_USER_COUNT = 3\n",
    "\n",
    "def delete_and_return_last_user(region, default_list=[‘A100’, ‘A101’, ‘A102’]):\n",
    "\"\"“\n",
    "Удаляет из списка default_list последнего пользователя\n",
    "и возвращает ID нового последнего пользователя.\n",
    "”\"\"\n",
    "element_to_delete = default_list[-1]\n",
    "default_list.remove(element_to_delete)\n",
    "\n",
    "return default_list[DEFAULT_USER_COUNT-2]\n",
    "При однократном вызове этой функции все работает корректно:\n",
    "delete_and_return_last_user(1)\n",
    "‘A101’\n",
    "\n",
    "Однако, при повторном вызове получается ошибка IndexError: list index out of range.\n",
    "\n",
    "Задание:\n",
    "Что значит ошибка list index out of range?\n",
    "Почему при первом запуске функция работает корректно, а при втором - нет?\n",
    "\n"
   ]
  },
  {
   "cell_type": "code",
   "execution_count": 5,
   "metadata": {},
   "outputs": [],
   "source": [
    "DEFAULT_USER_COUNT = 3\n",
    "\n",
    "def delete_and_return_last_user(region, default_list=['A100', 'A101', 'A102']):\n",
    "    \"\"\"\n",
    "    Удаляет из списка default_list последнего пользователя\n",
    "    и возвращает ID нового последнего пользователя.\n",
    "    \"\"\"\n",
    "    element_to_delete = default_list[-1]\n",
    "    default_list.remove(element_to_delete)\n",
    "\n",
    "    return default_list[DEFAULT_USER_COUNT-2]\n"
   ]
  },
  {
   "cell_type": "code",
   "execution_count": 6,
   "metadata": {},
   "outputs": [
    {
     "data": {
      "text/plain": [
       "'A101'"
      ]
     },
     "execution_count": 6,
     "metadata": {},
     "output_type": "execute_result"
    }
   ],
   "source": [
    "delete_and_return_last_user(1)\n"
   ]
  },
  {
   "cell_type": "markdown",
   "metadata": {},
   "source": [
    "Ошибка list index out of range означает, что такого индекса, к которому мы обращаемся в списке, по факту нет (индекс за пределами существующего списка). \n",
    "При первом вызове все в порядке, список default_list состоит из двух элементов и мы извлекаем элемент с индексом 1. При повторном вызове список default_list состоит из одного элемента, а мы по-прежнему пытаемся извлечь элемент с индексом 1 (такого элемента нет, поэтому возникает ошибка)."
   ]
  },
  {
   "cell_type": "markdown",
   "metadata": {},
   "source": [
    "Задача про интервалы\n",
    "\n",
    "\n",
    "Имеется список отсортированных по возрастанию целых чисел data. А также целое число n, которое лежит между минимальным\n",
    "и максимальным значениями из списка data. Вам необходимо определить минимальное ближайшее число к n из списка data.\n",
    "Пример:\n",
    "data = [1, 7, 17, 23, 27, 35, 65]\n",
    "n = 20\n",
    "Ответ: 17\n",
    "Подобные алгоритмы используются для классификации объекта по значению одной метрики. \n",
    "Например, это может пригодиться для классификации учащегося по его возрасту:\n",
    "ages = {\n",
    "    1: 'дети',\n",
    "    7: 'школьники',\n",
    "    17: 'студенты',\n",
    "    23: 'аспиранты',\n",
    "    27: 'молодые ученые',\n",
    "    35: 'преподаватели',\n",
    "    65: 'пенсионеры',\n",
    "}\n",
    "Итого напишите функцию, которая по списку data и числу n возвращает минимальное ближайшее к n число. \n",
    "Список может быть любым, поэтому не рассчитывайте на написание цепочки условий через if.\n",
    "\n",
    "Бонусные варианты:\n",
    "    \n",
    "Рассмотрите ситуацию, в которой при фиксированном списке data вам необходимо классифицировать большое количество \n",
    "пользователей с разными значениями n. Например, вам необходимо классифицировать базу из 100 миллионов человек по \n",
    "возрастам по словарю ages из примера выше. Можно ли в таком случае ускорить проход по такому числу пользователей?\n",
    "\n",
    "Если вы решали основное задание перебором элементов списка data и сравнением с n, то сложность такого алгоритма O(N).\n",
    "Т. е. при увеличении числа элементов списка data в N раз время работы алгоритма тоже вырастет в N раз. \n",
    "Попробуйте ускорить этот алгоритм. Например, с помощью аналога бинарного поиска."
   ]
  },
  {
   "cell_type": "code",
   "execution_count": 5,
   "metadata": {},
   "outputs": [],
   "source": [
    "data = [1, 7, 17, 23, 27, 35, 65]\n",
    "n = 20\n"
   ]
  },
  {
   "cell_type": "markdown",
   "metadata": {},
   "source": [
    "Простой вариант:"
   ]
  },
  {
   "cell_type": "code",
   "execution_count": 78,
   "metadata": {},
   "outputs": [
    {
     "name": "stdout",
     "output_type": "stream",
     "text": [
      "65\n"
     ]
    }
   ],
   "source": [
    "def categorize (n, data):\n",
    "    new_data = []\n",
    "\n",
    "    for elem in data:\n",
    "        if elem - n <= 0:\n",
    "            new_data.append(elem)\n",
    "    \n",
    "    return new_data[-1]\n",
    "\n",
    "print(categorize(65, [1, 7, 17, 23, 27, 35, 65]))\n"
   ]
  },
  {
   "cell_type": "markdown",
   "metadata": {},
   "source": [
    "Усовершенствованный варинат:"
   ]
  },
  {
   "cell_type": "code",
   "execution_count": 24,
   "metadata": {},
   "outputs": [
    {
     "name": "stdout",
     "output_type": "stream",
     "text": [
      "17\n"
     ]
    }
   ],
   "source": [
    "def binary_search(n, data): \n",
    "    left = 0\n",
    "    right = len(data)-1\n",
    "    while right > left + 1: \n",
    "        middle = (left + right) // 2 \n",
    "        if data[middle] > n: \n",
    "            right = middle \n",
    "        else: \n",
    "            left = middle \n",
    "    return data[left]\n",
    "\n",
    "print(binary_search(19, [1, 7, 17, 23, 27, 35, 65]))\n"
   ]
  },
  {
   "cell_type": "code",
   "execution_count": 25,
   "metadata": {},
   "outputs": [],
   "source": [
    "ages = {\n",
    "    1: 'дети',\n",
    "    7: 'школьники',\n",
    "    17: 'студенты',\n",
    "    23: 'аспиранты',\n",
    "    27: 'молодые ученые',\n",
    "    35: 'преподаватели',\n",
    "    65: 'пенсионеры',\n",
    "}\n",
    "data_pro = [1, 4, 6, 7, 10, 11, 13, 14, 16, 18, 19, 21, 23, 24, 25, 26, 28, 30, 32, 33,35, 38, 43, 47, 49, 54, 56, 64, 67, 68, 70]"
   ]
  },
  {
   "cell_type": "code",
   "execution_count": 27,
   "metadata": {},
   "outputs": [
    {
     "name": "stdout",
     "output_type": "stream",
     "text": [
      "{'дети': [1, 4, 6], 'школьники': [7, 10, 11, 13, 14, 16], 'студенты': [18, 19, 21], 'аспиранты': [23, 24, 25, 26], 'молодые ученые': [28, 30, 32, 33], 'преподаватели': [35, 38, 43, 47, 49, 54, 56, 64], 'пенсионеры': [67, 68, 70]}\n"
     ]
    }
   ],
   "source": [
    "def binary_search_pro(n, data): \n",
    "    left = 0\n",
    "    right = len(data)-1\n",
    "    while right > left + 1: \n",
    "        middle = (left + right) // 2 \n",
    "        if data[middle] > n: \n",
    "            right = middle \n",
    "        else: \n",
    "            left = middle \n",
    "    if n in data:\n",
    "        return left\n",
    "    else:\n",
    "        return right\n",
    "    \n",
    "def get_intervals (data_pro, index_list, ages):\n",
    "    #Получаем список из индексов, которым соответствуют элементы data_pro из словаря ages\n",
    "    index_list = []\n",
    "    for key in ages.keys():\n",
    "        index_list.append(binary_search_pro(key, data_pro))\n",
    "    \n",
    "    #получаем список, каждый элемент которого список из набора возврастов, \n",
    "    #разбитых в соответствии с делением из словаря ages\n",
    "    \n",
    "    j=0\n",
    "    list_new_values = list()\n",
    "    for i in range(1, len(index_list)):\n",
    "        list_new_values.append(data_pro[j:index_list[i]])\n",
    "        j +=index_list[i]-index_list[i-1]\n",
    "    \n",
    "    list_new_values.append(data_pro[j:]) \n",
    "    \n",
    "    list_new_keys = list()\n",
    "    for values in ages.values():\n",
    "        list_new_keys.append(values)\n",
    "    \n",
    "    return dict(zip(list_new_keys, list_new_values))\n",
    "\n",
    "print (get_intervals (data_pro, index_list, ages))\n",
    "    "
   ]
  },
  {
   "cell_type": "code",
   "execution_count": null,
   "metadata": {},
   "outputs": [],
   "source": [
    "\n"
   ]
  },
  {
   "cell_type": "code",
   "execution_count": null,
   "metadata": {},
   "outputs": [],
   "source": []
  },
  {
   "cell_type": "code",
   "execution_count": null,
   "metadata": {},
   "outputs": [],
   "source": [
    "\n"
   ]
  },
  {
   "cell_type": "code",
   "execution_count": null,
   "metadata": {},
   "outputs": [],
   "source": [
    "  \n",
    "  "
   ]
  },
  {
   "cell_type": "code",
   "execution_count": null,
   "metadata": {},
   "outputs": [],
   "source": [
    "\n",
    "    "
   ]
  },
  {
   "cell_type": "code",
   "execution_count": null,
   "metadata": {},
   "outputs": [],
   "source": []
  },
  {
   "cell_type": "code",
   "execution_count": null,
   "metadata": {},
   "outputs": [],
   "source": []
  }
 ],
 "metadata": {
  "kernelspec": {
   "display_name": "Python 3",
   "language": "python",
   "name": "python3"
  },
  "language_info": {
   "codemirror_mode": {
    "name": "ipython",
    "version": 3
   },
   "file_extension": ".py",
   "mimetype": "text/x-python",
   "name": "python",
   "nbconvert_exporter": "python",
   "pygments_lexer": "ipython3",
   "version": "3.7.4"
  }
 },
 "nbformat": 4,
 "nbformat_minor": 2
}
