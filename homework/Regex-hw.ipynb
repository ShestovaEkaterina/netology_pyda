{
 "cells": [
  {
   "cell_type": "markdown",
   "metadata": {},
   "source": [
    "# Домашнее задание к лекции \"Регулярные выражения\"\n",
    "Для зачета необходимо выполнить 4 задания.  \n",
    "Для зачета с отличием – все."
   ]
  },
  {
   "cell_type": "markdown",
   "metadata": {},
   "source": [
    "## Задание 1"
   ]
  },
  {
   "cell_type": "markdown",
   "metadata": {},
   "source": [
    "Напишите функцию, которая принимает на вход строку и проверяет является ли она валидным транспортным номером. Если да, то функция должна возвращать отдельно номер и регион."
   ]
  },
  {
   "cell_type": "code",
   "execution_count": null,
   "metadata": {},
   "outputs": [],
   "source": [
    "В России применяются регистрационные знаки нескольких видов. \n",
    "Общего в них то, что они состоят из цифр и букв. Причём используются только 12 букв кириллицы, имеющие графические \n",
    "аналоги в латинском алфавите — А, В, Е, К, М, Н, О, Р, С, Т, У и Х.\n",
    "\n",
    "У частных легковых автомобилях номера — это буква, три цифры, две буквы, затем две или три цифры с кодом региона. \n",
    "У такси — две буквы, три цифры, затем две или три цифры с кодом региона. \n",
    "Есть также и другие виды, но в этой задаче рассматривать их не будем.\n",
    "\n",
    "Буквы в номерах — заглавные русские. \n",
    "\n"
   ]
  },
  {
   "cell_type": "code",
   "execution_count": 21,
   "metadata": {},
   "outputs": [
    {
     "name": "stdout",
     "output_type": "stream",
     "text": [
      "Введите автомобильный номер: АВ34575\n",
      "Введенный транспортный номер является корректным номером такси\n",
      "Номер: АВ345\n",
      "Регион: 75\n"
     ]
    }
   ],
   "source": [
    "import re\n",
    "def check_auto_number ():\n",
    "    auto_number = input('Введите автомобильный номер: ')\n",
    "    regex_auto_number = '([А,В,Е,К,М,Н,О,Р,С,Т,У,Х][0-9]{3}[А,В,Е,К,М,Н,О,Р,С,Т,У,Х]{2}|[А,В,Е,К,М,Н,О,Р,С,Т,У,Х]{2}[0-9]{3})[0-9]{2,3}'\n",
    "    if re.findall(regex_auto_number, auto_number):\n",
    "        if auto_number[1] == '\\[0-9]':\n",
    "            number = auto_number[0:6]\n",
    "            region = auto_number[6:]\n",
    "            print('Введенный транспортный номер является корректным частным номером')\n",
    "            print('Номер: {}'.format(number))\n",
    "            print('Регион: {}'.format(region))\n",
    "        else:\n",
    "            number = auto_number[0:5]\n",
    "            region = auto_number[5:]\n",
    "            print('Введенный транспортный номер является корректным номером такси')\n",
    "            print('Номер: {}'.format(number))\n",
    "            print('Регион: {}'.format(region))\n",
    "    else:\n",
    "        print('Введенный транспортный номер некорректен')\n",
    "            \n",
    "check_auto_number()"
   ]
  },
  {
   "cell_type": "markdown",
   "metadata": {},
   "source": [
    "## Задание 2"
   ]
  },
  {
   "cell_type": "markdown",
   "metadata": {},
   "source": [
    "Напишите функцию, которая проверяет e-mail адрес на валидность по стандарту RFC822: http://www.w3.org/Protocols/rfc822/. Для этого постарайтесь написать (в крайнем случае найти) самый полный шаблон для проверки e-mail адресов через регулярное выражение. Разберитесь и напишите примеры, какие ваш шаблон может не охватить."
   ]
  },
  {
   "cell_type": "markdown",
   "metadata": {},
   "source": [
    "Шаблон не охватывает случаи:\n",
    "1. Адрес может начинаться с +, - или _"
   ]
  },
  {
   "cell_type": "code",
   "execution_count": 81,
   "metadata": {},
   "outputs": [
    {
     "name": "stdout",
     "output_type": "stream",
     "text": [
      "Введите email: john-doe@port.de\n",
      "The email john-doe@port.de is a valid\n"
     ]
    }
   ],
   "source": [
    "def check_email():\n",
    "    user_email = input('Введите email: ')\n",
    "    regex_mail = '^([A-Za-z0-9\\+_-]+\\.)*[A-Za-z0-9\\+_-]+@[A-Za-z0-9_-]+(\\.[A-Za-z0-9_-]+)*\\.[A-Za-z]{2,6}$'\n",
    "    if re.match(regex_mail, user_email):\n",
    "        print('The email {} is a valid'.format(user_email))\n",
    "    else:\n",
    "        print('The email {} is invalid'.format(user_email))\n",
    "        \n",
    "check_email()\n"
   ]
  },
  {
   "cell_type": "markdown",
   "metadata": {},
   "source": [
    "## Задание 3\n",
    "Напишите функцию, которая будет удалять все последовательные повторы слов из заданной строки."
   ]
  },
  {
   "cell_type": "code",
   "execution_count": 57,
   "metadata": {},
   "outputs": [
    {
     "name": "stdout",
     "output_type": "stream",
     "text": [
      "Введите строку: вот вот что я вам хочу сказать сказать\n",
      "вот что я вам хочу сказать\n"
     ]
    }
   ],
   "source": [
    "def delete_iteration():\n",
    "    user_string = input('Введите строку: ')\n",
    "    new_string = []\n",
    "    words = re.findall('[\\w]+',user_string)\n",
    "    new_string.append(words[0])\n",
    "    for i in range(1,len(words)):\n",
    "        if words[i-1] != words [i]:\n",
    "            new_string.append(words[i])\n",
    "            \n",
    "    return ' '.join(new_string)\n",
    "\n",
    "print(delete_iteration())\n",
    "\n",
    "\n"
   ]
  },
  {
   "cell_type": "markdown",
   "metadata": {},
   "source": [
    "## Задание 4\n",
    "Напишите функцию, которая будет проверять номер сотового телефона на валидность, если он валиден, то переводить его в формат:   \n",
    "+7(xxx)-xxx-xx-xx  \n",
    "Постарайтесь предусмотреть как можно больше адекватных форматов изначального ввода номера.\n",
    "Примеры правильных и неправильных форматов:\n",
    "- +7 955 555-55-55;\n",
    "- 955555555;\n",
    "- 8(955)555-55-55;\n",
    "- +7 955 555 55 55;\n",
    "- 7(955) 555-55-55;\n",
    "- +7 955+555+55+55."
   ]
  },
  {
   "cell_type": "code",
   "execution_count": 82,
   "metadata": {},
   "outputs": [
    {
     "name": "stdout",
     "output_type": "stream",
     "text": [
      "Введите мобильный номер: 8(955)555-55-55\n",
      "Введенный номер +7(955)555-55-55 является корректным\n"
     ]
    }
   ],
   "source": [
    "def check_mobile_number ():\n",
    "    mobile_number = input('Введите мобильный номер: ')\n",
    "    regex_mobile_number = '(?:\\+7|8)(?:(?:-|\\s|\\(|\\)|\\+){0,1}\\d{2,3}){4}'\n",
    "    if re.findall(regex_mobile_number, mobile_number):\n",
    "        numbers = re.findall('[\\d]+', mobile_number)\n",
    "        true_format = '+7('+numbers[1]+')'+numbers[2]+'-'+numbers[3]+'-'+numbers[4]\n",
    "        print('Введенный номер {} является корректным'.format(true_format))\n",
    "    else:\n",
    "        print('Введенный номер некорректен')\n",
    "            \n",
    "check_mobile_number()\n",
    "\n",
    "\n"
   ]
  },
  {
   "cell_type": "code",
   "execution_count": null,
   "metadata": {},
   "outputs": [],
   "source": []
  },
  {
   "cell_type": "code",
   "execution_count": null,
   "metadata": {},
   "outputs": [],
   "source": []
  }
 ],
 "metadata": {
  "kernelspec": {
   "display_name": "Python 3",
   "language": "python",
   "name": "python3"
  },
  "language_info": {
   "codemirror_mode": {
    "name": "ipython",
    "version": 3
   },
   "file_extension": ".py",
   "mimetype": "text/x-python",
   "name": "python",
   "nbconvert_exporter": "python",
   "pygments_lexer": "ipython3",
   "version": "3.7.4"
  }
 },
 "nbformat": 4,
 "nbformat_minor": 2
}
