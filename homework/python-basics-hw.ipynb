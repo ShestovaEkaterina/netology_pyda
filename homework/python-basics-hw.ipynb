{
 "cells": [
  {
   "cell_type": "markdown",
   "metadata": {},
   "source": [
    "**Задание 1**. Даны 2 строки: *long_phrase* и *short_phrase*. \n",
    "Напишите код, который проверяет действительно ли длинная фраза *long_phrase* длиннее короткой *short_phrase*. И выводит *True* или *False* в зависимости от результата сравнения."
   ]
  },
  {
   "cell_type": "code",
   "execution_count": 1,
   "metadata": {},
   "outputs": [
    {
     "name": "stdout",
     "output_type": "stream",
     "text": [
      "True\n"
     ]
    }
   ],
   "source": [
    "long_phrase = 'Насколько проще было бы писать программы, если бы не заказчики'\n",
    "short_phrase = '640Кб должно хватить для любых задач. Билл Гейтс (по легенде)'\n",
    "if len(long_phrase) > len(short_phrase):\n",
    "    print('True')\n",
    "else:\n",
    "    print('False')"
   ]
  },
  {
   "cell_type": "code",
   "execution_count": null,
   "metadata": {},
   "outputs": [],
   "source": []
  },
  {
   "cell_type": "markdown",
   "metadata": {},
   "source": [
    "**Задание 2**. Дано значение объема файла в байтах. Напишите перевод этого значения в мегабайты в формате: \"*Объем файла равен 213.68Mb*\""
   ]
  },
  {
   "cell_type": "code",
   "execution_count": 7,
   "metadata": {},
   "outputs": [
    {
     "name": "stdout",
     "output_type": "stream",
     "text": [
      "Введите значение объема файла в байтах 213680000\n",
      "Объем файла равен 213.68Mb\n"
     ]
    }
   ],
   "source": [
    "file_value = int(input('Введите значение объема файла в байтах '))\n",
    "print('Объем файла равен ', round(file_value/1e+6,2),'Mb', sep='')\n"
   ]
  },
  {
   "cell_type": "markdown",
   "metadata": {},
   "source": [
    "**Задание 3**. Разработать приложение для определения знака зодиака по дате рождения. Пример:\n",
    "\n",
    "Введите месяц: март\n",
    "\n",
    "Введите число: 6\n",
    "\n",
    "Вывод:\n",
    "Рыбы\n"
   ]
  },
  {
   "cell_type": "code",
   "execution_count": 1,
   "metadata": {},
   "outputs": [
    {
     "name": "stdout",
     "output_type": "stream",
     "text": [
      "Введите месяц: март\n",
      "Введите дату: 6\n",
      "Рыбы\n"
     ]
    }
   ],
   "source": [
    "month = str(input('Введите месяц: '))\n",
    "date = int(input('Введите дату: '))\n",
    "res = ''\n",
    "if month == 'январь':\n",
    "    if date <= 20:\n",
    "        print('Козерог')\n",
    "    else:\n",
    "        print('Водолей')\n",
    "if month == 'февраль':\n",
    "    if date <= 19:\n",
    "        print('Водолей')\n",
    "    else:\n",
    "        print('Рыбы')\n",
    "if month == 'март':\n",
    "    if date <= 20:\n",
    "        print('Рыбы')\n",
    "    else:\n",
    "        print('Овен')\n",
    "if month == 'апрель':\n",
    "    if date <= 20:\n",
    "        print('Овен')\n",
    "    else:\n",
    "        print('Телец')\n",
    "if month == 'май':\n",
    "    if date <= 21:\n",
    "        print('Телец')\n",
    "    else:\n",
    "        print('Близнецы')\n",
    "if month == 'июнь':\n",
    "    if date <= 21:\n",
    "        print('Близнецы')\n",
    "    else:\n",
    "        print('Рак')\n",
    "if month == 'июль':\n",
    "    if date <= 22:\n",
    "        print('Рак')\n",
    "    else:\n",
    "        print('Лев')\n",
    "if month == 'август':\n",
    "    if date <= 21:\n",
    "        print('Лев')\n",
    "    else:\n",
    "        print('Дева')\n",
    "if month == 'сентябрь':\n",
    "    if date <= 23:\n",
    "        print('Дева')\n",
    "    else:\n",
    "        print('Весы')\n",
    "if month == 'октябрь':\n",
    "    if date <= 23:\n",
    "        print('Весы')\n",
    "    else:\n",
    "        print('Скорпион')\n",
    "if month == 'ноябрь':\n",
    "    if date <= 22:\n",
    "        print('Скорпион')\n",
    "    else:\n",
    "        print('Стрелец')\n",
    "if month == 'декабрь':\n",
    "    if date <= 22:\n",
    "        print('Стрелец')\n",
    "    else:\n",
    "        print('Козерог')"
   ]
  },
  {
   "cell_type": "markdown",
   "metadata": {},
   "source": [
    "**Задание 4**. Нужно разработать приложение для финансового планирования.\n",
    "Приложение учитывает сколько уходит на ипотеку, \"на жизнь\" и сколько нужно отложить на пенсию.\n",
    "Пользователь вводит:\n",
    "- заработанную плату в месяц.\n",
    "- сколько процентов от ЗП уходит на ипотеку.\n",
    "- сколько процентов от ЗП уходит \"на жизнь\".\n",
    "- сколько раз приходит премия в год.\n",
    "\n",
    "Остальная часть заработанной платы откладывается на пенсию.\n",
    "\n",
    "Также пользователю приходит премия в размере зарплаты, от которой половина уходит на отпуск, а вторая половина откладывается.\n",
    "\n",
    "Программа должна учитывать сколько премий было в год.\n",
    "\n",
    "Нужно вывести сколько денег тратит пользователь на ипотеку и сколько он накопит за год.\n",
    "\n",
    "Пример:\n",
    "\n",
    "Введите заработанную плату в месяц: 100000\n",
    "\n",
    "Введите сколько процентов уходит на ипотеку: 30\n",
    "\n",
    "Введите сколько процентов уходит на жизнь: 50\n",
    "\n",
    "Введите количество премий за год: 2\n",
    "\n",
    "Вывод:\n",
    "На ипотеку было потрачено: 360000 рублей\n",
    "Было накоплено: 340000 рублей"
   ]
  },
  {
   "cell_type": "code",
   "execution_count": 5,
   "metadata": {},
   "outputs": [
    {
     "name": "stdout",
     "output_type": "stream",
     "text": [
      "Введите заработную плату в месяц: 100000\n",
      "Введите сколько процентов уходит на ипотеку: 30\n",
      "Введите сколько процентов уходит на жизнь: 50\n",
      "Введите количество премий за год: 2\n",
      "На ипотеку было потрачено:  360000 рублей\n",
      "Было накоплено:  340000 рублей\n"
     ]
    }
   ],
   "source": [
    "salary = int(input('Введите заработную плату в месяц: '))\n",
    "mortgage_share = int(input('Введите сколько процентов уходит на ипотеку: '))\n",
    "daily_expenses = int(input('Введите сколько процентов уходит на жизнь: '))\n",
    "premium = int(input('Введите количество премий за год: '))\n",
    "mortgage_expenses = int(salary * mortgage_share/100*12)\n",
    "savings = int((100 - mortgage_share - daily_expenses)/100*salary *12 + premium*salary/2)\n",
    "print ('На ипотеку было потрачено: ', mortgage_expenses, 'рублей')\n",
    "print('Было накоплено: ',savings,'рублей')\n",
    "\n"
   ]
  },
  {
   "cell_type": "markdown",
   "metadata": {},
   "source": [
    "Задание дополнительное\n",
    "\n",
    "Задание 1\n",
    "https://ru.wikipedia.org/wiki/Fizz_buzz\n",
    "Начинающий произносит число “1”, и каждый следующий игрок прибавляет к предыдущему значению единицу. Когда число делится на три оно заменяется на fizz, если число делится на пять, то произносится buzz. Числа, делящиеся на три и пять одновременно заменяются на fizz buzz. Сделавший ошибку игрок исключается из игры.\n",
    "\n",
    "Типичная партия в fizz buzz выглядит так:\n",
    "1, 2, Fizz, 4, Buzz, Fizz, 7, 8, Fizz, Buzz, 11, Fizz, 13, 14, Fizz Buzz, 16, 17, Fizz, 19, Buzz, Fizz, 22, 23, Fizz, Buzz, 26, Fizz, 28, 29, Fizz Buzz, 31, 32, Fizz, 34, Buzz, Fizz, …\n",
    "\n",
    "Напишите код, выводящий на экран первые n элементов этой игры (естественно, корректные)."
   ]
  },
  {
   "cell_type": "code",
   "execution_count": 8,
   "metadata": {},
   "outputs": [
    {
     "name": "stdout",
     "output_type": "stream",
     "text": [
      "Введите количество выводимых элементов: 20\n",
      "1 2 Fizz 4 Buzz Fizz 7 8 Fizz Buzz 11 Fizz 13 14 Fizz Buzz 16 17 Fizz 19 Buzz "
     ]
    }
   ],
   "source": [
    "n = int(input('Введите количество выводимых элементов: '))\n",
    "for i in range (1,n+1):\n",
    "    if i%3 == 0 and i%5 == 0:\n",
    "        print('Fizz Buzz', end=' ')\n",
    "    elif i%3==0:\n",
    "        print('Fizz', end=' ')\n",
    "    elif i%5 == 0:\n",
    "        print('Buzz', end=' ')\n",
    "    else:\n",
    "        print(i, end=' ')\n",
    "        "
   ]
  },
  {
   "cell_type": "markdown",
   "metadata": {},
   "source": [
    "Задание 2\n",
    "Датчик принимает сигнал, состоящий из 0 и 1. Известно, что сигнал имеет периодичность, не превышающей натурального числа n. Напишите код, который вычисляет периодичность сигнала. Считайте, что 3 < n < 1000, а общая длина сигнала значительно превышает n.\n",
    "\n",
    "Пример сигнала с периодичностью 4 (повторяющийся элемент 1011):\n",
    "1011101110111011101110111011101110111011\n",
    "\n",
    "\n",
    "Еще одна интерпретация задачи, но без кода: https://tproger.ru/problems/endless-train/\n"
   ]
  },
  {
   "cell_type": "code",
   "execution_count": 3,
   "metadata": {},
   "outputs": [
    {
     "name": "stdout",
     "output_type": "stream",
     "text": [
      "Введите сигнал: 11011110111101111011\n",
      "Период сигнала:  11011\n",
      "Длина периода:  5\n"
     ]
    }
   ],
   "source": [
    "signal = str(input('Введите сигнал: '))\n",
    "i=4\n",
    "a=0\n",
    "b=i\n",
    "c = a+i\n",
    "d = b+i\n",
    "part = signal[a:b]\n",
    "while d <= len(signal):\n",
    "    if signal[a:b] == signal[c:d]:\n",
    "        a = c\n",
    "        b = d\n",
    "        c = a+i\n",
    "        d = b+i\n",
    "    else:\n",
    "        i +=1\n",
    "        a = 0\n",
    "        b = i\n",
    "        c = a+i\n",
    "        d = b+i\n",
    "\n",
    "print('Период сигнала: ',signal[a:b])\n",
    "print('Длина периода: ',len(signal[a:b]))\n"
   ]
  },
  {
   "cell_type": "markdown",
   "metadata": {},
   "source": [
    "Задание 3\n",
    "Дано слово из латинских букв. Напишите скрипт, который выводит на экран букву из середины слова (если число букв нечетное). Если букв четное число, то на экран выводятся две буквы из середины.\n",
    "\n",
    "Для ‘test’ - 'es’\n",
    "Для ‘testing’ - ‘t’\n"
   ]
  },
  {
   "cell_type": "code",
   "execution_count": 4,
   "metadata": {},
   "outputs": [
    {
     "name": "stdout",
     "output_type": "stream",
     "text": [
      "Введите слово: park\n",
      "ar\n"
     ]
    }
   ],
   "source": [
    "word = str(input('Введите слово: '))\n",
    "if len(word)%2!=0:\n",
    "    index = int(len(word)/2)\n",
    "    print(word[index])\n",
    "else:\n",
    "    index_left=int((len(word)+1)/2)-1\n",
    "    index_right=int((len(word)-1)/2)+1\n",
    "    print(word[index_left:index_right+1])\n",
    "    \n",
    "    "
   ]
  },
  {
   "cell_type": "code",
   "execution_count": null,
   "metadata": {},
   "outputs": [],
   "source": []
  }
 ],
 "metadata": {
  "kernelspec": {
   "display_name": "Python 3",
   "language": "python",
   "name": "python3"
  },
  "language_info": {
   "codemirror_mode": {
    "name": "ipython",
    "version": 3
   },
   "file_extension": ".py",
   "mimetype": "text/x-python",
   "name": "python",
   "nbconvert_exporter": "python",
   "pygments_lexer": "ipython3",
   "version": "3.7.4"
  }
 },
 "nbformat": 4,
 "nbformat_minor": 2
}
