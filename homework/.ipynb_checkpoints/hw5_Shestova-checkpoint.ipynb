{
 "cells": [
  {
   "cell_type": "markdown",
   "metadata": {},
   "source": [
    "Домашнее задание\n",
    "\n",
    "1. Переведите содержимое файла purchase_log.txt в словарь purchases вида:\n",
    "{'1840e0b9d4': 'Продукты', ...}\n",
    "2. Для каждого user_id в файле visit_log.csv добавьте третий столбец с категорией покупки (если покупка была).\n",
    "3. Запишите в файл funnel.csv визиты из файла visit_log.csv, в которых были покупки с указанием категории.\n",
    "\n",
    "Учтите условия на данные:\n",
    " - содержимое purchase_log.txt помещается в оперативную память компьютера\n",
    " - содержимое visit_log.csv - нет; используйте только построчную обработку этого файла\n",
    " "
   ]
  },
  {
   "cell_type": "code",
   "execution_count": 10,
   "metadata": {},
   "outputs": [
    {
     "name": "stdout",
     "output_type": "stream",
     "text": [
      "{'1840e0b9d4': 'Продукты', '4e4f90fcfb': 'Электроника', 'afea8d72fc': 'Электроника', '373a6055fe': 'Бытовая техника', '9b2ab046f3': 'Электроника', '9f39d307c3': 'Электроника', '44edeffc91': 'Продукты', '704474fa2d': 'Продукты', '1de31be403': 'Бытовая техника', 'b71f36a5e4': 'Продукты', '79843a685a': 'Продукты', 'ff68cee0d6': 'Бытовая техника', 'e8447c40e2': 'Досуг', '98d290be27': 'Электроника', 'fa0079a5a8': 'Досуг', '22d2f03a17': 'Досуг', '3f8e1ccd3f': 'Электроника', '81a9988b83': 'Электроника', '65f44a2eb7': 'Досуг', '5f8fbb0149': 'Бытовая техника', '3ecff691fd': 'Электроника'}\n"
     ]
    }
   ],
   "source": [
    "import json\n",
    "keys = []\n",
    "values = []\n",
    "with open ('purchase_log.txt') as f:\n",
    "    next(f)\n",
    "    i = 0\n",
    "    for line in f:\n",
    "        dict_line = json.loads(line.strip())\n",
    "        keys.append(dict_line['user_id'])\n",
    "        values.append(dict_line['category'])\n",
    "        i +=1\n",
    "        if i > 20:\n",
    "            break\n",
    "    new_dict = dict(zip(keys, values))\n",
    "    print(new_dict)\n",
    "    "
   ]
  },
  {
   "cell_type": "markdown",
   "metadata": {},
   "source": []
  },
  {
   "cell_type": "code",
   "execution_count": null,
   "metadata": {},
   "outputs": [],
   "source": []
  },
  {
   "cell_type": "code",
   "execution_count": 8,
   "metadata": {},
   "outputs": [
    {
     "name": "stdout",
     "output_type": "stream",
     "text": [
      "373a6055fe,other,Бытовая техника\n",
      "79843a685a,context,Продукты\n",
      "98d290be27,other,Электроника\n",
      "22d2f03a17,context,Досуг\n",
      "65f44a2eb7,context,Досуг\n",
      "dd0e912251,other,Электроника\n",
      "f983a69d67,other,Товары для животных\n",
      "c6de96a5e2,other,Товары для животных\n",
      "680aa815f9,other,Продукты\n",
      "1908683775,other,Электроника\n",
      "7f5f56e517,other,Досуг\n",
      "74c9201f84,context,Электроника\n",
      "d2c560746d,other,Бытовая техника\n",
      "f660dbcc3f,context,Электроника\n",
      "16dc76e94d,other,Электроника\n",
      "ee9eb52181,email,Товары для животных\n",
      "03b91dba06,other,Электроника\n",
      "9ab8f3bbb8,context,Бытовая техника\n",
      "2ffd6c724d,other,Продукты\n",
      "00ea2f7484,other,Электроника\n",
      "78ed39a415,other,Электроника\n",
      "c21b82499e,context,Электроника\n",
      "d20bf10c78,other,Бытовая техника\n",
      "dfe6f4ebb4,other,Бытовая техника\n",
      "ec11793734,other,Продукты\n",
      "\n"
     ]
    }
   ],
   "source": [
    "with open('visit_log.csv', 'r') as v:\n",
    "    with open ('funnel.csv', 'w') as fun:\n",
    "        next(v)\n",
    "        i = 0\n",
    "        for line in v:\n",
    "            line = v.readline().strip().split(',')\n",
    "        \n",
    "            key = new_dict.get(line[0])\n",
    "          \n",
    "            if key is not None:\n",
    "                new_line = ','.join(line) +',' + key +'\\n'\n",
    "                fun.write(new_line)\n",
    "        \n",
    "with open ('funnel.csv', 'r') as fun:\n",
    "    for line in fun:\n",
    "        print(fun.readline().strip())\n",
    "                    "
   ]
  },
  {
   "cell_type": "code",
   "execution_count": null,
   "metadata": {},
   "outputs": [],
   "source": []
  }
 ],
 "metadata": {
  "kernelspec": {
   "display_name": "Python 3",
   "language": "python",
   "name": "python3"
  },
  "language_info": {
   "codemirror_mode": {
    "name": "ipython",
    "version": 3
   },
   "file_extension": ".py",
   "mimetype": "text/x-python",
   "name": "python",
   "nbconvert_exporter": "python",
   "pygments_lexer": "ipython3",
   "version": "3.7.4"
  }
 },
 "nbformat": 4,
 "nbformat_minor": 2
}
