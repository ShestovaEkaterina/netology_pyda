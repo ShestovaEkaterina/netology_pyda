{
 "cells": [
  {
   "cell_type": "markdown",
   "metadata": {
    "colab_type": "text",
    "id": "view-in-github"
   },
   "source": [
    "<a href=\"https://colab.research.google.com/github/yustinaivanova/netology_statistics/blob/master/dz_2.ipynb\" target=\"_parent\"><img src=\"https://colab.research.google.com/assets/colab-badge.svg\" alt=\"Open In Colab\"/></a>"
   ]
  },
  {
   "cell_type": "markdown",
   "metadata": {
    "colab_type": "text",
    "id": "9wqpiQR2AbtX"
   },
   "source": [
    "# Виды распределений"
   ]
  },
  {
   "cell_type": "markdown",
   "metadata": {
    "colab_type": "text",
    "id": "V3N8qycM-xP9"
   },
   "source": [
    "Загрузить таблицу и построить график распределений. Найти нормальное распределение."
   ]
  },
  {
   "cell_type": "code",
   "execution_count": 1,
   "metadata": {
    "colab": {},
    "colab_type": "code",
    "id": "Zo_j9HCKCPgi"
   },
   "outputs": [],
   "source": [
    "import numpy as np\n",
    "from scipy.stats import t\n",
    "from scipy.stats import norm\n",
    "import matplotlib.pyplot as plt\n",
    "from scipy import stats\n",
    "import pandas as pd\n",
    "import io\n",
    "import requests\n",
    "import seaborn as sns\n",
    "\n",
    "%matplotlib inline"
   ]
  },
  {
   "cell_type": "markdown",
   "metadata": {
    "colab_type": "text",
    "id": "LrhPyaIACZsb"
   },
   "source": [
    "Таблица цен на дома в Бостоне"
   ]
  },
  {
   "cell_type": "markdown",
   "metadata": {
    "colab_type": "text",
    "id": "XyNNmtvIDDy3"
   },
   "source": [
    "Основные значения:\n",
    "\n",
    "* CRIM: This is the per capita crime rate by town\n",
    "* ZN: This is the proportion of residential land zoned for lots larger than 25,000 sq.ft.\n",
    "* INDUS: This is the proportion of non-retail business acres per town.\n",
    "* CHAS: This is the Charles River dummy variable (this is equal to 1 if tract bounds river; 0 otherwise)\n",
    "* NOX: This is the nitric oxides concentration (parts per 10 million)\n",
    "* RM: This is the average number of rooms per dwelling\n",
    "* AGE: This is the proportion of owner-occupied units built prior to 1940\n",
    "* DIS: This is the weighted distances to five Boston employment centers\n",
    "* RAD: This is the index of accessibility to radial highways\n",
    "* TAX: This is the full-value property-tax rate per 10,000 dollars\n",
    "* PTRATIO: This is the pupil-teacher ratio by town\n",
    "* B: This is calculated as 1000(Bk — 0.63)², where Bk is the proportion of people of African American descent by town\n",
    "* LSTAT: This is the percentage lower status of the population\n",
    "* MEDV: This is the median value of owner-occupied homes in 1000 dollars"
   ]
  },
  {
   "cell_type": "code",
   "execution_count": 2,
   "metadata": {
    "colab": {
     "base_uri": "https://localhost:8080/",
     "height": 204
    },
    "colab_type": "code",
    "id": "Ona1gs72CZOq",
    "outputId": "455f9f96-3f49-4eb7-c928-fc732141d834"
   },
   "outputs": [
    {
     "data": {
      "text/html": [
       "<div>\n",
       "<style scoped>\n",
       "    .dataframe tbody tr th:only-of-type {\n",
       "        vertical-align: middle;\n",
       "    }\n",
       "\n",
       "    .dataframe tbody tr th {\n",
       "        vertical-align: top;\n",
       "    }\n",
       "\n",
       "    .dataframe thead th {\n",
       "        text-align: right;\n",
       "    }\n",
       "</style>\n",
       "<table border=\"1\" class=\"dataframe\">\n",
       "  <thead>\n",
       "    <tr style=\"text-align: right;\">\n",
       "      <th></th>\n",
       "      <th>CRIM</th>\n",
       "      <th>ZN</th>\n",
       "      <th>INDUS</th>\n",
       "      <th>CHAS</th>\n",
       "      <th>NOX</th>\n",
       "      <th>RM</th>\n",
       "      <th>AGE</th>\n",
       "      <th>DIS</th>\n",
       "      <th>RAD</th>\n",
       "      <th>TAX</th>\n",
       "      <th>PTRATIO</th>\n",
       "      <th>B</th>\n",
       "      <th>LSTAT</th>\n",
       "      <th>MEDV</th>\n",
       "    </tr>\n",
       "  </thead>\n",
       "  <tbody>\n",
       "    <tr>\n",
       "      <td>0</td>\n",
       "      <td>0.00632</td>\n",
       "      <td>18.0</td>\n",
       "      <td>2.31</td>\n",
       "      <td>0</td>\n",
       "      <td>0.538</td>\n",
       "      <td>6.575</td>\n",
       "      <td>65.2</td>\n",
       "      <td>4.0900</td>\n",
       "      <td>1</td>\n",
       "      <td>296.0</td>\n",
       "      <td>15.3</td>\n",
       "      <td>396.90</td>\n",
       "      <td>4.98</td>\n",
       "      <td>24.0</td>\n",
       "    </tr>\n",
       "    <tr>\n",
       "      <td>1</td>\n",
       "      <td>0.02731</td>\n",
       "      <td>0.0</td>\n",
       "      <td>7.07</td>\n",
       "      <td>0</td>\n",
       "      <td>0.469</td>\n",
       "      <td>6.421</td>\n",
       "      <td>78.9</td>\n",
       "      <td>4.9671</td>\n",
       "      <td>2</td>\n",
       "      <td>242.0</td>\n",
       "      <td>17.8</td>\n",
       "      <td>396.90</td>\n",
       "      <td>9.14</td>\n",
       "      <td>21.6</td>\n",
       "    </tr>\n",
       "    <tr>\n",
       "      <td>2</td>\n",
       "      <td>0.02729</td>\n",
       "      <td>0.0</td>\n",
       "      <td>7.07</td>\n",
       "      <td>0</td>\n",
       "      <td>0.469</td>\n",
       "      <td>7.185</td>\n",
       "      <td>61.1</td>\n",
       "      <td>4.9671</td>\n",
       "      <td>2</td>\n",
       "      <td>242.0</td>\n",
       "      <td>17.8</td>\n",
       "      <td>392.83</td>\n",
       "      <td>4.03</td>\n",
       "      <td>34.7</td>\n",
       "    </tr>\n",
       "    <tr>\n",
       "      <td>3</td>\n",
       "      <td>0.03237</td>\n",
       "      <td>0.0</td>\n",
       "      <td>2.18</td>\n",
       "      <td>0</td>\n",
       "      <td>0.458</td>\n",
       "      <td>6.998</td>\n",
       "      <td>45.8</td>\n",
       "      <td>6.0622</td>\n",
       "      <td>3</td>\n",
       "      <td>222.0</td>\n",
       "      <td>18.7</td>\n",
       "      <td>394.63</td>\n",
       "      <td>2.94</td>\n",
       "      <td>33.4</td>\n",
       "    </tr>\n",
       "    <tr>\n",
       "      <td>4</td>\n",
       "      <td>0.06905</td>\n",
       "      <td>0.0</td>\n",
       "      <td>2.18</td>\n",
       "      <td>0</td>\n",
       "      <td>0.458</td>\n",
       "      <td>7.147</td>\n",
       "      <td>54.2</td>\n",
       "      <td>6.0622</td>\n",
       "      <td>3</td>\n",
       "      <td>222.0</td>\n",
       "      <td>18.7</td>\n",
       "      <td>396.90</td>\n",
       "      <td>5.33</td>\n",
       "      <td>36.2</td>\n",
       "    </tr>\n",
       "  </tbody>\n",
       "</table>\n",
       "</div>"
      ],
      "text/plain": [
       "      CRIM    ZN  INDUS  CHAS    NOX     RM   AGE     DIS  RAD    TAX  \\\n",
       "0  0.00632  18.0   2.31     0  0.538  6.575  65.2  4.0900    1  296.0   \n",
       "1  0.02731   0.0   7.07     0  0.469  6.421  78.9  4.9671    2  242.0   \n",
       "2  0.02729   0.0   7.07     0  0.469  7.185  61.1  4.9671    2  242.0   \n",
       "3  0.03237   0.0   2.18     0  0.458  6.998  45.8  6.0622    3  222.0   \n",
       "4  0.06905   0.0   2.18     0  0.458  7.147  54.2  6.0622    3  222.0   \n",
       "\n",
       "   PTRATIO       B  LSTAT  MEDV  \n",
       "0     15.3  396.90   4.98  24.0  \n",
       "1     17.8  396.90   9.14  21.6  \n",
       "2     17.8  392.83   4.03  34.7  \n",
       "3     18.7  394.63   2.94  33.4  \n",
       "4     18.7  396.90   5.33  36.2  "
      ]
     },
     "execution_count": 2,
     "metadata": {},
     "output_type": "execute_result"
    }
   ],
   "source": [
    "import ssl\n",
    "# следующая строчка подключает сертификат для защищенного соединения\n",
    "ssl._create_default_https_context = ssl._create_unverified_context\n",
    "url='http://yustiks.ru/dataset/housing.csv'\n",
    "names = ['CRIM', 'ZN', 'INDUS', 'CHAS', 'NOX', 'RM', 'AGE', 'DIS', 'RAD', 'TAX', 'PTRATIO', 'B', 'LSTAT', 'MEDV']\n",
    "data=pd.read_csv(url,  delim_whitespace=True, names=names)\n",
    "data.head()"
   ]
  },
  {
   "cell_type": "markdown",
   "metadata": {
    "colab_type": "text",
    "id": "KwpYBJZiE1EO"
   },
   "source": [
    "Нарисовать частотные графики для всех значений. Можете ли вы найти следующие распределения в данных графиках?\n",
    "\n",
    "\n",
    "1.   Нормальное\n",
    "2.   Равномерное\n",
    "3.   Биноминальное\n",
    "4.   Бернулли\n",
    "5.   Геометрическое\n",
    "6.   Логнормальное\n",
    "\n"
   ]
  },
  {
   "cell_type": "markdown",
   "metadata": {},
   "source": [
    "CRIM - уровень преступности на душу населения, непрерывная величина"
   ]
  },
  {
   "cell_type": "code",
   "execution_count": 43,
   "metadata": {},
   "outputs": [
    {
     "data": {
      "image/png": "[encoded data removed]",
      "text/plain": [
       "<Figure size 432x288 with 1 Axes>"
      ]
     },
     "metadata": {
      "needs_background": "light"
     },
     "output_type": "display_data"
    }
   ],
   "source": [
    "plt.hist(data['CRIM'], 30)\n",
    "plt.xlabel('Уровень преступности на душу населения(CRIM)')\n",
    "plt.ylabel('Частота')\n",
    "plt.title('Частотный график CRIM')\n",
    "plt.show()"
   ]
  },
  {
   "cell_type": "markdown",
   "metadata": {},
   "source": [
    "Показатель CRIM имеет экспоненциальное распределение (CRIM - непрерывная величина)"
   ]
  },
  {
   "cell_type": "markdown",
   "metadata": {},
   "source": [
    "Показатель ZN - доля резидентных земель, зонированных для участков более 25000 кв футов. Непрерывная величина."
   ]
  },
  {
   "cell_type": "code",
   "execution_count": 45,
   "metadata": {},
   "outputs": [
    {
     "data": {
      "text/plain": [
       "array([ 18. ,   0. ,  12.5,  75. ,  21. ,  90. ,  85. , 100. ,  25. ,\n",
       "        17.5,  80. ,  28. ,  45. ,  60. ,  95. ,  82.5,  30. ,  22. ,\n",
       "        20. ,  40. ,  55. ,  52.5,  70. ,  34. ,  33. ,  35. ])"
      ]
     },
     "execution_count": 45,
     "metadata": {},
     "output_type": "execute_result"
    }
   ],
   "source": [
    "data['ZN'].unique()"
   ]
  },
  {
   "cell_type": "code",
   "execution_count": 44,
   "metadata": {},
   "outputs": [
    {
     "data": {
      "image/png": "[encoded data removed]",
      "text/plain": [
       "<Figure size 432x288 with 1 Axes>"
      ]
     },
     "metadata": {
      "needs_background": "light"
     },
     "output_type": "display_data"
    }
   ],
   "source": [
    "plt.hist(data['ZN'], 30)\n",
    "plt.xlabel('Показатель ZN')\n",
    "plt.ylabel('Частота')\n",
    "plt.title('Частотный график ZN')\n",
    "plt.show()"
   ]
  },
  {
   "cell_type": "markdown",
   "metadata": {},
   "source": [
    "Показатель ZN имеет распределение, похожее на экспоненциальное"
   ]
  },
  {
   "cell_type": "markdown",
   "metadata": {},
   "source": [
    "Показатель INDUS - доля не торгового бизнеса. Непрерывная вечличина."
   ]
  },
  {
   "cell_type": "code",
   "execution_count": 51,
   "metadata": {},
   "outputs": [
    {
     "data": {
      "image/png": "[encoded data removed]",
      "text/plain": [
       "<Figure size 432x288 with 1 Axes>"
      ]
     },
     "metadata": {
      "needs_background": "light"
     },
     "output_type": "display_data"
    }
   ],
   "source": [
    "plt.hist(data['INDUS'], 50)\n",
    "plt.xlabel('Доля не торгового бизнеса(показатель INDUS)')\n",
    "plt.ylabel('Частота')\n",
    "plt.title('Частотный график INDUS')\n",
    "plt.show()"
   ]
  },
  {
   "cell_type": "markdown",
   "metadata": {},
   "source": [
    "Трудно ответить на вопрос, какой тип распределения имеет показатель INDUS. Необходимо больше данных для построения более точного графика. Можно лишь предположить, что данное распределение похоже на нормальное."
   ]
  },
  {
   "cell_type": "markdown",
   "metadata": {},
   "source": [
    "Показатель CHAS - коэффициент, относящийся к реке Чарльз. Принимает значение 0 или 1. CHAS - величина дискретная."
   ]
  },
  {
   "cell_type": "code",
   "execution_count": 13,
   "metadata": {},
   "outputs": [
    {
     "data": {
      "image/png": "[encoded data removed]",
      "text/plain": [
       "<Figure size 432x288 with 1 Axes>"
      ]
     },
     "metadata": {
      "needs_background": "light"
     },
     "output_type": "display_data"
    }
   ],
   "source": [
    "plt.hist(data['CHAS'])\n",
    "plt.xlabel('Показатель CHAS')\n",
    "plt.ylabel('Частота')\n",
    "plt.title('Частотный график CHAS')\n",
    "plt.show()"
   ]
  },
  {
   "cell_type": "markdown",
   "metadata": {},
   "source": [
    "Показатель CHAS имеет распределение Бернулли."
   ]
  },
  {
   "cell_type": "markdown",
   "metadata": {},
   "source": [
    "Показатель NOX - концентрация оксидов азота. Непрерывная величина."
   ]
  },
  {
   "cell_type": "code",
   "execution_count": 53,
   "metadata": {},
   "outputs": [
    {
     "data": {
      "image/png": "[encoded data removed]",
      "text/plain": [
       "<Figure size 432x288 with 1 Axes>"
      ]
     },
     "metadata": {
      "needs_background": "light"
     },
     "output_type": "display_data"
    }
   ],
   "source": [
    "plt.hist(data['NOX'], 30)\n",
    "plt.xlabel('Концентрация оксидов азота (показатель NOX)')\n",
    "plt.ylabel('Частота')\n",
    "plt.title('Частотный график NOX')\n",
    "plt.show()"
   ]
  },
  {
   "cell_type": "markdown",
   "metadata": {},
   "source": [
    "Показатель NOX имеет распределение, похожее на логнормальное. Для построения более точного графика необходимо больше данных."
   ]
  },
  {
   "cell_type": "markdown",
   "metadata": {},
   "source": [
    "Показатель RM - среднее количество комнат на одно жилище. Непрерывная величина."
   ]
  },
  {
   "cell_type": "code",
   "execution_count": 22,
   "metadata": {},
   "outputs": [
    {
     "data": {
      "image/png": "[encoded data removed]",
      "text/plain": [
       "<Figure size 432x288 with 1 Axes>"
      ]
     },
     "metadata": {
      "needs_background": "light"
     },
     "output_type": "display_data"
    }
   ],
   "source": [
    "plt.hist(data['RM'], 30)\n",
    "plt.xlabel('Среднее количество комнат на одно жилище (показатель RM)')\n",
    "plt.ylabel('Частота')\n",
    "plt.title('Частотный график RM')\n",
    "plt.show()"
   ]
  },
  {
   "cell_type": "markdown",
   "metadata": {},
   "source": [
    "Показатель RM имеет нормальное распределение."
   ]
  },
  {
   "cell_type": "markdown",
   "metadata": {},
   "source": [
    "Показатель AGE - доля занимаемыхзданий, построенных до 1940 года. Величина непрерывная. "
   ]
  },
  {
   "cell_type": "code",
   "execution_count": 54,
   "metadata": {},
   "outputs": [
    {
     "data": {
      "image/png": "[encoded data removed]",
      "text/plain": [
       "<Figure size 432x288 with 1 Axes>"
      ]
     },
     "metadata": {
      "needs_background": "light"
     },
     "output_type": "display_data"
    }
   ],
   "source": [
    "plt.hist(data['AGE'], 30)\n",
    "plt.xlabel('Доля занимаемых зданий, построенных до 1940 года (показатель AGE)')\n",
    "plt.ylabel('Частота')\n",
    "plt.title('Частотный график AGE')\n",
    "plt.show()"
   ]
  },
  {
   "cell_type": "markdown",
   "metadata": {},
   "source": [
    "Показатель AGE имеет экспоненациальное распределение."
   ]
  },
  {
   "cell_type": "markdown",
   "metadata": {},
   "source": [
    "Показатель DIS - взвешенное расстояние до 5ти Бостонских центров занятости. Непрерывная величина."
   ]
  },
  {
   "cell_type": "code",
   "execution_count": 27,
   "metadata": {},
   "outputs": [
    {
     "data": {
      "image/png": "[encoded data removed]",
      "text/plain": [
       "<Figure size 432x288 with 1 Axes>"
      ]
     },
     "metadata": {
      "needs_background": "light"
     },
     "output_type": "display_data"
    }
   ],
   "source": [
    "plt.hist(data['DIS'], 40)\n",
    "plt.xlabel('Взвешенные расстояния до 5ти Бостонских центров занятости (показатель DIS)')\n",
    "plt.ylabel('Частота')\n",
    "plt.title('Частотный график DIS')\n",
    "plt.show()"
   ]
  },
  {
   "cell_type": "markdown",
   "metadata": {},
   "source": [
    "Показатель DIS имеет логнормальное распределение."
   ]
  },
  {
   "cell_type": "markdown",
   "metadata": {},
   "source": [
    "Показатель RAD характиризует доступность радиальных магистралей. Величина дискретная."
   ]
  },
  {
   "cell_type": "code",
   "execution_count": 55,
   "metadata": {},
   "outputs": [
    {
     "data": {
      "text/plain": [
       "array([ 1,  2,  3,  5,  4,  8,  6,  7, 24])"
      ]
     },
     "execution_count": 55,
     "metadata": {},
     "output_type": "execute_result"
    }
   ],
   "source": [
    "data['RAD'].unique()"
   ]
  },
  {
   "cell_type": "code",
   "execution_count": 57,
   "metadata": {},
   "outputs": [
    {
     "data": {
      "image/png": "[encoded data removed]",
      "text/plain": [
       "<Figure size 432x288 with 1 Axes>"
      ]
     },
     "metadata": {
      "needs_background": "light"
     },
     "output_type": "display_data"
    }
   ],
   "source": [
    "plt.hist(data['RAD'], 50)\n",
    "plt.xlabel('Показатель доступности радиальных магистралей (показатель RAD)')\n",
    "plt.ylabel('Частота')\n",
    "plt.title('Частотный график RAD')\n",
    "plt.show()"
   ]
  },
  {
   "cell_type": "markdown",
   "metadata": {},
   "source": [
    "Затруднительно определить вид распредления показателя RAD. Из графика видно, что показатель чаще всего принимает значение 24, 5 и 4. Возможно необходимо большее количество данных, а также понимание того, как этот коэффициент рассчитывается."
   ]
  },
  {
   "cell_type": "markdown",
   "metadata": {},
   "source": [
    "Показатель TAX - величина налога на имущество на 10 тыс долларов. Величина неппрерывная."
   ]
  },
  {
   "cell_type": "code",
   "execution_count": 58,
   "metadata": {},
   "outputs": [
    {
     "data": {
      "image/png": "[encoded data removed]",
      "text/plain": [
       "<Figure size 432x288 with 1 Axes>"
      ]
     },
     "metadata": {
      "needs_background": "light"
     },
     "output_type": "display_data"
    }
   ],
   "source": [
    "plt.hist(data['TAX'], 50)\n",
    "plt.xlabel('Величина налога на имущество на 10 тыс долларов (показатель TAX)')\n",
    "plt.ylabel('Частота')\n",
    "plt.title('Частотный график TAX')\n",
    "plt.show()"
   ]
  },
  {
   "cell_type": "markdown",
   "metadata": {},
   "source": [
    "Затруднительно сделать вывод о характере распределния величины TAX, необходимо больше данных. Если исходить из предположения, что налог на имущество прямопроорционален площади дома (чем больше площадь, тем больше комнат), то распределение при росте количества данных должно стремиться к нормальному."
   ]
  },
  {
   "cell_type": "markdown",
   "metadata": {},
   "source": [
    "Показатель PTRATIO - соотношение учеников и учителей. Непрерыная величина."
   ]
  },
  {
   "cell_type": "code",
   "execution_count": 36,
   "metadata": {},
   "outputs": [
    {
     "data": {
      "image/png": "[encoded data removed]",
      "text/plain": [
       "<Figure size 432x288 with 1 Axes>"
      ]
     },
     "metadata": {
      "needs_background": "light"
     },
     "output_type": "display_data"
    }
   ],
   "source": [
    "plt.hist(data['PTRATIO'], 30)\n",
    "plt.xlabel('Соотношение учеников и учителей (показатель PTRATIO)')\n",
    "plt.ylabel('Частота')\n",
    "plt.title('Частотный график PTRATIO')\n",
    "plt.show()"
   ]
  },
  {
   "cell_type": "markdown",
   "metadata": {},
   "source": [
    "Распределение показателя PTRATIO похоже на нормальное со сдвигом пика вправо."
   ]
  },
  {
   "cell_type": "markdown",
   "metadata": {},
   "source": [
    "Показатель B - доля людей афроамериканского происхождения. Непрерывная величина."
   ]
  },
  {
   "cell_type": "code",
   "execution_count": 37,
   "metadata": {},
   "outputs": [
    {
     "data": {
      "image/png": "[encoded data removed]",
      "text/plain": [
       "<Figure size 432x288 with 1 Axes>"
      ]
     },
     "metadata": {
      "needs_background": "light"
     },
     "output_type": "display_data"
    }
   ],
   "source": [
    "plt.hist(data['B'], 30)\n",
    "plt.xlabel('Доля людей афроамериканского происхождения(показатель B)')\n",
    "plt.ylabel('Частота')\n",
    "plt.title('Частотный график показателя B')\n",
    "plt.show()"
   ]
  },
  {
   "cell_type": "markdown",
   "metadata": {},
   "source": [
    "Показатель B имеет экспоненциальное распределение."
   ]
  },
  {
   "cell_type": "markdown",
   "metadata": {},
   "source": [
    "Показатель LSTAT - доля людей низкого социального статуса.Величина непрерывная."
   ]
  },
  {
   "cell_type": "code",
   "execution_count": 60,
   "metadata": {},
   "outputs": [
    {
     "data": {
      "image/png": "[encoded data removed]",
      "text/plain": [
       "<Figure size 432x288 with 1 Axes>"
      ]
     },
     "metadata": {
      "needs_background": "light"
     },
     "output_type": "display_data"
    }
   ],
   "source": [
    "plt.hist(data['LSTAT'], 50)\n",
    "plt.xlabel('Доля людей низкого социального статуса (показатель LSTAT)')\n",
    "plt.ylabel('Частота')\n",
    "plt.title('Частотный график показателя LSTAT')\n",
    "plt.show()"
   ]
  },
  {
   "cell_type": "markdown",
   "metadata": {},
   "source": [
    "Величина LSTAT иметт логнормальное распределение."
   ]
  },
  {
   "cell_type": "markdown",
   "metadata": {},
   "source": [
    "Показатель MEDV - медианная стоимость занимаемых жилых домов. Величина непрерывная."
   ]
  },
  {
   "cell_type": "code",
   "execution_count": 62,
   "metadata": {},
   "outputs": [
    {
     "data": {
      "image/png": "[encoded data removed]",
      "text/plain": [
       "<Figure size 432x288 with 1 Axes>"
      ]
     },
     "metadata": {
      "needs_background": "light"
     },
     "output_type": "display_data"
    }
   ],
   "source": [
    "plt.hist(data['MEDV'], 30)\n",
    "plt.xlabel('Медианная стоимость занимаемых жилых домов (показатель MEDV)')\n",
    "plt.ylabel('Частота')\n",
    "plt.title('Частотный график показателя MEDV')\n",
    "plt.show()"
   ]
  },
  {
   "cell_type": "markdown",
   "metadata": {},
   "source": [
    "Можно сделать предположение о нормальном или логнормальном распределнии показателя MEDV в случае увеличения количества данных. "
   ]
  },
  {
   "cell_type": "markdown",
   "metadata": {},
   "source": [
    "Построить матрицу корреляций и выбрать несколько атрибутов, которые больше всех коррелируют с показателем MEDV."
   ]
  },
  {
   "cell_type": "code",
   "execution_count": 63,
   "metadata": {},
   "outputs": [
    {
     "data": {
      "text/html": [
       "<style  type=\"text/css\" >\n",
       "    #T_077196ee_50a2_11ea_af72_98fe94465cfarow0_col0 {\n",
       "            background-color:  #b40426;\n",
       "            color:  #f1f1f1;\n",
       "        }    #T_077196ee_50a2_11ea_af72_98fe94465cfarow0_col1 {\n",
       "            background-color:  #88abfd;\n",
       "            color:  #000000;\n",
       "        }    #T_077196ee_50a2_11ea_af72_98fe94465cfarow0_col2 {\n",
       "            background-color:  #f7bca1;\n",
       "            color:  #000000;\n",
       "        }    #T_077196ee_50a2_11ea_af72_98fe94465cfarow0_col3 {\n",
       "            background-color:  #4b64d5;\n",
       "            color:  #f1f1f1;\n",
       "        }    #T_077196ee_50a2_11ea_af72_98fe94465cfarow0_col4 {\n",
       "            background-color:  #f7b599;\n",
       "            color:  #000000;\n",
       "        }    #T_077196ee_50a2_11ea_af72_98fe94465cfarow0_col5 {\n",
       "            background-color:  #8badfd;\n",
       "            color:  #000000;\n",
       "        }    #T_077196ee_50a2_11ea_af72_98fe94465cfarow0_col6 {\n",
       "            background-color:  #f5c2aa;\n",
       "            color:  #000000;\n",
       "        }    #T_077196ee_50a2_11ea_af72_98fe94465cfarow0_col7 {\n",
       "            background-color:  #82a6fb;\n",
       "            color:  #000000;\n",
       "        }    #T_077196ee_50a2_11ea_af72_98fe94465cfarow0_col8 {\n",
       "            background-color:  #f49a7b;\n",
       "            color:  #000000;\n",
       "        }    #T_077196ee_50a2_11ea_af72_98fe94465cfarow0_col9 {\n",
       "            background-color:  #f6a283;\n",
       "            color:  #000000;\n",
       "        }    #T_077196ee_50a2_11ea_af72_98fe94465cfarow0_col10 {\n",
       "            background-color:  #e4d9d2;\n",
       "            color:  #000000;\n",
       "        }    #T_077196ee_50a2_11ea_af72_98fe94465cfarow0_col11 {\n",
       "            background-color:  #465ecf;\n",
       "            color:  #f1f1f1;\n",
       "        }    #T_077196ee_50a2_11ea_af72_98fe94465cfarow0_col12 {\n",
       "            background-color:  #f7b194;\n",
       "            color:  #000000;\n",
       "        }    #T_077196ee_50a2_11ea_af72_98fe94465cfarow0_col13 {\n",
       "            background-color:  #7b9ff9;\n",
       "            color:  #000000;\n",
       "        }    #T_077196ee_50a2_11ea_af72_98fe94465cfarow1_col0 {\n",
       "            background-color:  #6485ec;\n",
       "            color:  #000000;\n",
       "        }    #T_077196ee_50a2_11ea_af72_98fe94465cfarow1_col1 {\n",
       "            background-color:  #b40426;\n",
       "            color:  #f1f1f1;\n",
       "        }    #T_077196ee_50a2_11ea_af72_98fe94465cfarow1_col2 {\n",
       "            background-color:  #5a78e4;\n",
       "            color:  #000000;\n",
       "        }    #T_077196ee_50a2_11ea_af72_98fe94465cfarow1_col3 {\n",
       "            background-color:  #4f69d9;\n",
       "            color:  #000000;\n",
       "        }    #T_077196ee_50a2_11ea_af72_98fe94465cfarow1_col4 {\n",
       "            background-color:  #6788ee;\n",
       "            color:  #000000;\n",
       "        }    #T_077196ee_50a2_11ea_af72_98fe94465cfarow1_col5 {\n",
       "            background-color:  #edd1c2;\n",
       "            color:  #000000;\n",
       "        }    #T_077196ee_50a2_11ea_af72_98fe94465cfarow1_col6 {\n",
       "            background-color:  #5a78e4;\n",
       "            color:  #000000;\n",
       "        }    #T_077196ee_50a2_11ea_af72_98fe94465cfarow1_col7 {\n",
       "            background-color:  #ec7f63;\n",
       "            color:  #000000;\n",
       "        }    #T_077196ee_50a2_11ea_af72_98fe94465cfarow1_col8 {\n",
       "            background-color:  #6180e9;\n",
       "            color:  #000000;\n",
       "        }    #T_077196ee_50a2_11ea_af72_98fe94465cfarow1_col9 {\n",
       "            background-color:  #6788ee;\n",
       "            color:  #000000;\n",
       "        }    #T_077196ee_50a2_11ea_af72_98fe94465cfarow1_col10 {\n",
       "            background-color:  #516ddb;\n",
       "            color:  #000000;\n",
       "        }    #T_077196ee_50a2_11ea_af72_98fe94465cfarow1_col11 {\n",
       "            background-color:  #c9d7f0;\n",
       "            color:  #000000;\n",
       "        }    #T_077196ee_50a2_11ea_af72_98fe94465cfarow1_col12 {\n",
       "            background-color:  #7699f6;\n",
       "            color:  #000000;\n",
       "        }    #T_077196ee_50a2_11ea_af72_98fe94465cfarow1_col13 {\n",
       "            background-color:  #f5c2aa;\n",
       "            color:  #000000;\n",
       "        }    #T_077196ee_50a2_11ea_af72_98fe94465cfarow2_col0 {\n",
       "            background-color:  #edd1c2;\n",
       "            color:  #000000;\n",
       "        }    #T_077196ee_50a2_11ea_af72_98fe94465cfarow2_col1 {\n",
       "            background-color:  #4055c8;\n",
       "            color:  #f1f1f1;\n",
       "        }    #T_077196ee_50a2_11ea_af72_98fe94465cfarow2_col2 {\n",
       "            background-color:  #b40426;\n",
       "            color:  #f1f1f1;\n",
       "        }    #T_077196ee_50a2_11ea_af72_98fe94465cfarow2_col3 {\n",
       "            background-color:  #6f92f3;\n",
       "            color:  #000000;\n",
       "        }    #T_077196ee_50a2_11ea_af72_98fe94465cfarow2_col4 {\n",
       "            background-color:  #e0654f;\n",
       "            color:  #000000;\n",
       "        }    #T_077196ee_50a2_11ea_af72_98fe94465cfarow2_col5 {\n",
       "            background-color:  #6687ed;\n",
       "            color:  #000000;\n",
       "        }    #T_077196ee_50a2_11ea_af72_98fe94465cfarow2_col6 {\n",
       "            background-color:  #ee8669;\n",
       "            color:  #000000;\n",
       "        }    #T_077196ee_50a2_11ea_af72_98fe94465cfarow2_col7 {\n",
       "            background-color:  #445acc;\n",
       "            color:  #f1f1f1;\n",
       "        }    #T_077196ee_50a2_11ea_af72_98fe94465cfarow2_col8 {\n",
       "            background-color:  #f6a283;\n",
       "            color:  #000000;\n",
       "        }    #T_077196ee_50a2_11ea_af72_98fe94465cfarow2_col9 {\n",
       "            background-color:  #ea7b60;\n",
       "            color:  #000000;\n",
       "        }    #T_077196ee_50a2_11ea_af72_98fe94465cfarow2_col10 {\n",
       "            background-color:  #f1cdba;\n",
       "            color:  #000000;\n",
       "        }    #T_077196ee_50a2_11ea_af72_98fe94465cfarow2_col11 {\n",
       "            background-color:  #4c66d6;\n",
       "            color:  #000000;\n",
       "        }    #T_077196ee_50a2_11ea_af72_98fe94465cfarow2_col12 {\n",
       "            background-color:  #f29072;\n",
       "            color:  #000000;\n",
       "        }    #T_077196ee_50a2_11ea_af72_98fe94465cfarow2_col13 {\n",
       "            background-color:  #688aef;\n",
       "            color:  #000000;\n",
       "        }    #T_077196ee_50a2_11ea_af72_98fe94465cfarow3_col0 {\n",
       "            background-color:  #89acfd;\n",
       "            color:  #000000;\n",
       "        }    #T_077196ee_50a2_11ea_af72_98fe94465cfarow3_col1 {\n",
       "            background-color:  #aac7fd;\n",
       "            color:  #000000;\n",
       "        }    #T_077196ee_50a2_11ea_af72_98fe94465cfarow3_col2 {\n",
       "            background-color:  #cfdaea;\n",
       "            color:  #000000;\n",
       "        }    #T_077196ee_50a2_11ea_af72_98fe94465cfarow3_col3 {\n",
       "            background-color:  #b40426;\n",
       "            color:  #f1f1f1;\n",
       "        }    #T_077196ee_50a2_11ea_af72_98fe94465cfarow3_col4 {\n",
       "            background-color:  #d9dce1;\n",
       "            color:  #000000;\n",
       "        }    #T_077196ee_50a2_11ea_af72_98fe94465cfarow3_col5 {\n",
       "            background-color:  #cbd8ee;\n",
       "            color:  #000000;\n",
       "        }    #T_077196ee_50a2_11ea_af72_98fe94465cfarow3_col6 {\n",
       "            background-color:  #d7dce3;\n",
       "            color:  #000000;\n",
       "        }    #T_077196ee_50a2_11ea_af72_98fe94465cfarow3_col7 {\n",
       "            background-color:  #b9d0f9;\n",
       "            color:  #000000;\n",
       "        }    #T_077196ee_50a2_11ea_af72_98fe94465cfarow3_col8 {\n",
       "            background-color:  #a7c5fe;\n",
       "            color:  #000000;\n",
       "        }    #T_077196ee_50a2_11ea_af72_98fe94465cfarow3_col9 {\n",
       "            background-color:  #a7c5fe;\n",
       "            color:  #000000;\n",
       "        }    #T_077196ee_50a2_11ea_af72_98fe94465cfarow3_col10 {\n",
       "            background-color:  #8fb1fe;\n",
       "            color:  #000000;\n",
       "        }    #T_077196ee_50a2_11ea_af72_98fe94465cfarow3_col11 {\n",
       "            background-color:  #adc9fd;\n",
       "            color:  #000000;\n",
       "        }    #T_077196ee_50a2_11ea_af72_98fe94465cfarow3_col12 {\n",
       "            background-color:  #bed2f6;\n",
       "            color:  #000000;\n",
       "        }    #T_077196ee_50a2_11ea_af72_98fe94465cfarow3_col13 {\n",
       "            background-color:  #e3d9d3;\n",
       "            color:  #000000;\n",
       "        }    #T_077196ee_50a2_11ea_af72_98fe94465cfarow4_col0 {\n",
       "            background-color:  #efcebd;\n",
       "            color:  #000000;\n",
       "        }    #T_077196ee_50a2_11ea_af72_98fe94465cfarow4_col1 {\n",
       "            background-color:  #445acc;\n",
       "            color:  #f1f1f1;\n",
       "        }    #T_077196ee_50a2_11ea_af72_98fe94465cfarow4_col2 {\n",
       "            background-color:  #e16751;\n",
       "            color:  #000000;\n",
       "        }    #T_077196ee_50a2_11ea_af72_98fe94465cfarow4_col3 {\n",
       "            background-color:  #779af7;\n",
       "            color:  #000000;\n",
       "        }    #T_077196ee_50a2_11ea_af72_98fe94465cfarow4_col4 {\n",
       "            background-color:  #b40426;\n",
       "            color:  #f1f1f1;\n",
       "        }    #T_077196ee_50a2_11ea_af72_98fe94465cfarow4_col5 {\n",
       "            background-color:  #799cf8;\n",
       "            color:  #000000;\n",
       "        }    #T_077196ee_50a2_11ea_af72_98fe94465cfarow4_col6 {\n",
       "            background-color:  #e46e56;\n",
       "            color:  #000000;\n",
       "        }    #T_077196ee_50a2_11ea_af72_98fe94465cfarow4_col7 {\n",
       "            background-color:  #3b4cc0;\n",
       "            color:  #f1f1f1;\n",
       "        }    #T_077196ee_50a2_11ea_af72_98fe94465cfarow4_col8 {\n",
       "            background-color:  #f59d7e;\n",
       "            color:  #000000;\n",
       "        }    #T_077196ee_50a2_11ea_af72_98fe94465cfarow4_col9 {\n",
       "            background-color:  #f08b6e;\n",
       "            color:  #000000;\n",
       "        }    #T_077196ee_50a2_11ea_af72_98fe94465cfarow4_col10 {\n",
       "            background-color:  #d3dbe7;\n",
       "            color:  #000000;\n",
       "        }    #T_077196ee_50a2_11ea_af72_98fe94465cfarow4_col11 {\n",
       "            background-color:  #485fd1;\n",
       "            color:  #f1f1f1;\n",
       "        }    #T_077196ee_50a2_11ea_af72_98fe94465cfarow4_col12 {\n",
       "            background-color:  #f39475;\n",
       "            color:  #000000;\n",
       "        }    #T_077196ee_50a2_11ea_af72_98fe94465cfarow4_col13 {\n",
       "            background-color:  #7396f5;\n",
       "            color:  #000000;\n",
       "        }    #T_077196ee_50a2_11ea_af72_98fe94465cfarow5_col0 {\n",
       "            background-color:  #6180e9;\n",
       "            color:  #000000;\n",
       "        }    #T_077196ee_50a2_11ea_af72_98fe94465cfarow5_col1 {\n",
       "            background-color:  #ebd3c6;\n",
       "            color:  #000000;\n",
       "        }    #T_077196ee_50a2_11ea_af72_98fe94465cfarow5_col2 {\n",
       "            background-color:  #7699f6;\n",
       "            color:  #000000;\n",
       "        }    #T_077196ee_50a2_11ea_af72_98fe94465cfarow5_col3 {\n",
       "            background-color:  #779af7;\n",
       "            color:  #000000;\n",
       "        }    #T_077196ee_50a2_11ea_af72_98fe94465cfarow5_col4 {\n",
       "            background-color:  #92b4fe;\n",
       "            color:  #000000;\n",
       "        }    #T_077196ee_50a2_11ea_af72_98fe94465cfarow5_col5 {\n",
       "            background-color:  #b40426;\n",
       "            color:  #f1f1f1;\n",
       "        }    #T_077196ee_50a2_11ea_af72_98fe94465cfarow5_col6 {\n",
       "            background-color:  #9bbcff;\n",
       "            color:  #000000;\n",
       "        }    #T_077196ee_50a2_11ea_af72_98fe94465cfarow5_col7 {\n",
       "            background-color:  #ead5c9;\n",
       "            color:  #000000;\n",
       "        }    #T_077196ee_50a2_11ea_af72_98fe94465cfarow5_col8 {\n",
       "            background-color:  #779af7;\n",
       "            color:  #000000;\n",
       "        }    #T_077196ee_50a2_11ea_af72_98fe94465cfarow5_col9 {\n",
       "            background-color:  #6c8ff1;\n",
       "            color:  #000000;\n",
       "        }    #T_077196ee_50a2_11ea_af72_98fe94465cfarow5_col10 {\n",
       "            background-color:  #5977e3;\n",
       "            color:  #000000;\n",
       "        }    #T_077196ee_50a2_11ea_af72_98fe94465cfarow5_col11 {\n",
       "            background-color:  #bfd3f6;\n",
       "            color:  #000000;\n",
       "        }    #T_077196ee_50a2_11ea_af72_98fe94465cfarow5_col12 {\n",
       "            background-color:  #506bda;\n",
       "            color:  #000000;\n",
       "        }    #T_077196ee_50a2_11ea_af72_98fe94465cfarow5_col13 {\n",
       "            background-color:  #e9785d;\n",
       "            color:  #000000;\n",
       "        }    #T_077196ee_50a2_11ea_af72_98fe94465cfarow6_col0 {\n",
       "            background-color:  #e5d8d1;\n",
       "            color:  #000000;\n",
       "        }    #T_077196ee_50a2_11ea_af72_98fe94465cfarow6_col1 {\n",
       "            background-color:  #3b4cc0;\n",
       "            color:  #f1f1f1;\n",
       "        }    #T_077196ee_50a2_11ea_af72_98fe94465cfarow6_col2 {\n",
       "            background-color:  #ef886b;\n",
       "            color:  #000000;\n",
       "        }    #T_077196ee_50a2_11ea_af72_98fe94465cfarow6_col3 {\n",
       "            background-color:  #7699f6;\n",
       "            color:  #000000;\n",
       "        }    #T_077196ee_50a2_11ea_af72_98fe94465cfarow6_col4 {\n",
       "            background-color:  #e36c55;\n",
       "            color:  #000000;\n",
       "        }    #T_077196ee_50a2_11ea_af72_98fe94465cfarow6_col5 {\n",
       "            background-color:  #86a9fc;\n",
       "            color:  #000000;\n",
       "        }    #T_077196ee_50a2_11ea_af72_98fe94465cfarow6_col6 {\n",
       "            background-color:  #b40426;\n",
       "            color:  #f1f1f1;\n",
       "        }    #T_077196ee_50a2_11ea_af72_98fe94465cfarow6_col7 {\n",
       "            background-color:  #3e51c5;\n",
       "            color:  #f1f1f1;\n",
       "        }    #T_077196ee_50a2_11ea_af72_98fe94465cfarow6_col8 {\n",
       "            background-color:  #f5c1a9;\n",
       "            color:  #000000;\n",
       "        }    #T_077196ee_50a2_11ea_af72_98fe94465cfarow6_col9 {\n",
       "            background-color:  #f7b497;\n",
       "            color:  #000000;\n",
       "        }    #T_077196ee_50a2_11ea_af72_98fe94465cfarow6_col10 {\n",
       "            background-color:  #dfdbd9;\n",
       "            color:  #000000;\n",
       "        }    #T_077196ee_50a2_11ea_af72_98fe94465cfarow6_col11 {\n",
       "            background-color:  #5f7fe8;\n",
       "            color:  #000000;\n",
       "        }    #T_077196ee_50a2_11ea_af72_98fe94465cfarow6_col12 {\n",
       "            background-color:  #f29072;\n",
       "            color:  #000000;\n",
       "        }    #T_077196ee_50a2_11ea_af72_98fe94465cfarow6_col13 {\n",
       "            background-color:  #7ea1fa;\n",
       "            color:  #000000;\n",
       "        }    #T_077196ee_50a2_11ea_af72_98fe94465cfarow7_col0 {\n",
       "            background-color:  #3c4ec2;\n",
       "            color:  #f1f1f1;\n",
       "        }    #T_077196ee_50a2_11ea_af72_98fe94465cfarow7_col1 {\n",
       "            background-color:  #f08a6c;\n",
       "            color:  #000000;\n",
       "        }    #T_077196ee_50a2_11ea_af72_98fe94465cfarow7_col2 {\n",
       "            background-color:  #3b4cc0;\n",
       "            color:  #f1f1f1;\n",
       "        }    #T_077196ee_50a2_11ea_af72_98fe94465cfarow7_col3 {\n",
       "            background-color:  #4055c8;\n",
       "            color:  #f1f1f1;\n",
       "        }    #T_077196ee_50a2_11ea_af72_98fe94465cfarow7_col4 {\n",
       "            background-color:  #3b4cc0;\n",
       "            color:  #f1f1f1;\n",
       "        }    #T_077196ee_50a2_11ea_af72_98fe94465cfarow7_col5 {\n",
       "            background-color:  #dedcdb;\n",
       "            color:  #000000;\n",
       "        }    #T_077196ee_50a2_11ea_af72_98fe94465cfarow7_col6 {\n",
       "            background-color:  #3b4cc0;\n",
       "            color:  #f1f1f1;\n",
       "        }    #T_077196ee_50a2_11ea_af72_98fe94465cfarow7_col7 {\n",
       "            background-color:  #b40426;\n",
       "            color:  #f1f1f1;\n",
       "        }    #T_077196ee_50a2_11ea_af72_98fe94465cfarow7_col8 {\n",
       "            background-color:  #3b4cc0;\n",
       "            color:  #f1f1f1;\n",
       "        }    #T_077196ee_50a2_11ea_af72_98fe94465cfarow7_col9 {\n",
       "            background-color:  #3b4cc0;\n",
       "            color:  #f1f1f1;\n",
       "        }    #T_077196ee_50a2_11ea_af72_98fe94465cfarow7_col10 {\n",
       "            background-color:  #7597f6;\n",
       "            color:  #000000;\n",
       "        }    #T_077196ee_50a2_11ea_af72_98fe94465cfarow7_col11 {\n",
       "            background-color:  #dfdbd9;\n",
       "            color:  #000000;\n",
       "        }    #T_077196ee_50a2_11ea_af72_98fe94465cfarow7_col12 {\n",
       "            background-color:  #6687ed;\n",
       "            color:  #000000;\n",
       "        }    #T_077196ee_50a2_11ea_af72_98fe94465cfarow7_col13 {\n",
       "            background-color:  #edd2c3;\n",
       "            color:  #000000;\n",
       "        }    #T_077196ee_50a2_11ea_af72_98fe94465cfarow8_col0 {\n",
       "            background-color:  #f6a283;\n",
       "            color:  #000000;\n",
       "        }    #T_077196ee_50a2_11ea_af72_98fe94465cfarow8_col1 {\n",
       "            background-color:  #6f92f3;\n",
       "            color:  #000000;\n",
       "        }    #T_077196ee_50a2_11ea_af72_98fe94465cfarow8_col2 {\n",
       "            background-color:  #f39475;\n",
       "            color:  #000000;\n",
       "        }    #T_077196ee_50a2_11ea_af72_98fe94465cfarow8_col3 {\n",
       "            background-color:  #5a78e4;\n",
       "            color:  #000000;\n",
       "        }    #T_077196ee_50a2_11ea_af72_98fe94465cfarow8_col4 {\n",
       "            background-color:  #f18d6f;\n",
       "            color:  #000000;\n",
       "        }    #T_077196ee_50a2_11ea_af72_98fe94465cfarow8_col5 {\n",
       "            background-color:  #8db0fe;\n",
       "            color:  #000000;\n",
       "        }    #T_077196ee_50a2_11ea_af72_98fe94465cfarow8_col6 {\n",
       "            background-color:  #f7b093;\n",
       "            color:  #000000;\n",
       "        }    #T_077196ee_50a2_11ea_af72_98fe94465cfarow8_col7 {\n",
       "            background-color:  #6b8df0;\n",
       "            color:  #000000;\n",
       "        }    #T_077196ee_50a2_11ea_af72_98fe94465cfarow8_col8 {\n",
       "            background-color:  #b40426;\n",
       "            color:  #f1f1f1;\n",
       "        }    #T_077196ee_50a2_11ea_af72_98fe94465cfarow8_col9 {\n",
       "            background-color:  #c83836;\n",
       "            color:  #f1f1f1;\n",
       "        }    #T_077196ee_50a2_11ea_af72_98fe94465cfarow8_col10 {\n",
       "            background-color:  #f6bea4;\n",
       "            color:  #000000;\n",
       "        }    #T_077196ee_50a2_11ea_af72_98fe94465cfarow8_col11 {\n",
       "            background-color:  #3b4cc0;\n",
       "            color:  #f1f1f1;\n",
       "        }    #T_077196ee_50a2_11ea_af72_98fe94465cfarow8_col12 {\n",
       "            background-color:  #f7aa8c;\n",
       "            color:  #000000;\n",
       "        }    #T_077196ee_50a2_11ea_af72_98fe94465cfarow8_col13 {\n",
       "            background-color:  #7da0f9;\n",
       "            color:  #000000;\n",
       "        }    #T_077196ee_50a2_11ea_af72_98fe94465cfarow9_col0 {\n",
       "            background-color:  #f7ac8e;\n",
       "            color:  #000000;\n",
       "        }    #T_077196ee_50a2_11ea_af72_98fe94465cfarow9_col1 {\n",
       "            background-color:  #6e90f2;\n",
       "            color:  #000000;\n",
       "        }    #T_077196ee_50a2_11ea_af72_98fe94465cfarow9_col2 {\n",
       "            background-color:  #e67259;\n",
       "            color:  #000000;\n",
       "        }    #T_077196ee_50a2_11ea_af72_98fe94465cfarow9_col3 {\n",
       "            background-color:  #516ddb;\n",
       "            color:  #000000;\n",
       "        }    #T_077196ee_50a2_11ea_af72_98fe94465cfarow9_col4 {\n",
       "            background-color:  #ec7f63;\n",
       "            color:  #000000;\n",
       "        }    #T_077196ee_50a2_11ea_af72_98fe94465cfarow9_col5 {\n",
       "            background-color:  #7b9ff9;\n",
       "            color:  #000000;\n",
       "        }    #T_077196ee_50a2_11ea_af72_98fe94465cfarow9_col6 {\n",
       "            background-color:  #f7a688;\n",
       "            color:  #000000;\n",
       "        }    #T_077196ee_50a2_11ea_af72_98fe94465cfarow9_col7 {\n",
       "            background-color:  #6384eb;\n",
       "            color:  #000000;\n",
       "        }    #T_077196ee_50a2_11ea_af72_98fe94465cfarow9_col8 {\n",
       "            background-color:  #ca3b37;\n",
       "            color:  #f1f1f1;\n",
       "        }    #T_077196ee_50a2_11ea_af72_98fe94465cfarow9_col9 {\n",
       "            background-color:  #b40426;\n",
       "            color:  #f1f1f1;\n",
       "        }    #T_077196ee_50a2_11ea_af72_98fe94465cfarow9_col10 {\n",
       "            background-color:  #f6bfa6;\n",
       "            color:  #000000;\n",
       "        }    #T_077196ee_50a2_11ea_af72_98fe94465cfarow9_col11 {\n",
       "            background-color:  #3b4cc0;\n",
       "            color:  #f1f1f1;\n",
       "        }    #T_077196ee_50a2_11ea_af72_98fe94465cfarow9_col12 {\n",
       "            background-color:  #f59f80;\n",
       "            color:  #000000;\n",
       "        }    #T_077196ee_50a2_11ea_af72_98fe94465cfarow9_col13 {\n",
       "            background-color:  #6b8df0;\n",
       "            color:  #000000;\n",
       "        }    #T_077196ee_50a2_11ea_af72_98fe94465cfarow10_col0 {\n",
       "            background-color:  #dadce0;\n",
       "            color:  #000000;\n",
       "        }    #T_077196ee_50a2_11ea_af72_98fe94465cfarow10_col1 {\n",
       "            background-color:  #5e7de7;\n",
       "            color:  #000000;\n",
       "        }    #T_077196ee_50a2_11ea_af72_98fe94465cfarow10_col2 {\n",
       "            background-color:  #f5c0a7;\n",
       "            color:  #000000;\n",
       "        }    #T_077196ee_50a2_11ea_af72_98fe94465cfarow10_col3 {\n",
       "            background-color:  #3b4cc0;\n",
       "            color:  #f1f1f1;\n",
       "        }    #T_077196ee_50a2_11ea_af72_98fe94465cfarow10_col4 {\n",
       "            background-color:  #e7d7ce;\n",
       "            color:  #000000;\n",
       "        }    #T_077196ee_50a2_11ea_af72_98fe94465cfarow10_col5 {\n",
       "            background-color:  #6c8ff1;\n",
       "            color:  #000000;\n",
       "        }    #T_077196ee_50a2_11ea_af72_98fe94465cfarow10_col6 {\n",
       "            background-color:  #eed0c0;\n",
       "            color:  #000000;\n",
       "        }    #T_077196ee_50a2_11ea_af72_98fe94465cfarow10_col7 {\n",
       "            background-color:  #9fbfff;\n",
       "            color:  #000000;\n",
       "        }    #T_077196ee_50a2_11ea_af72_98fe94465cfarow10_col8 {\n",
       "            background-color:  #f6bfa6;\n",
       "            color:  #000000;\n",
       "        }    #T_077196ee_50a2_11ea_af72_98fe94465cfarow10_col9 {\n",
       "            background-color:  #f6bda2;\n",
       "            color:  #000000;\n",
       "        }    #T_077196ee_50a2_11ea_af72_98fe94465cfarow10_col10 {\n",
       "            background-color:  #b40426;\n",
       "            color:  #f1f1f1;\n",
       "        }    #T_077196ee_50a2_11ea_af72_98fe94465cfarow10_col11 {\n",
       "            background-color:  #7699f6;\n",
       "            color:  #000000;\n",
       "        }    #T_077196ee_50a2_11ea_af72_98fe94465cfarow10_col12 {\n",
       "            background-color:  #f5c0a7;\n",
       "            color:  #000000;\n",
       "        }    #T_077196ee_50a2_11ea_af72_98fe94465cfarow10_col13 {\n",
       "            background-color:  #6384eb;\n",
       "            color:  #000000;\n",
       "        }    #T_077196ee_50a2_11ea_af72_98fe94465cfarow11_col0 {\n",
       "            background-color:  #3b4cc0;\n",
       "            color:  #f1f1f1;\n",
       "        }    #T_077196ee_50a2_11ea_af72_98fe94465cfarow11_col1 {\n",
       "            background-color:  #d6dce4;\n",
       "            color:  #000000;\n",
       "        }    #T_077196ee_50a2_11ea_af72_98fe94465cfarow11_col2 {\n",
       "            background-color:  #7da0f9;\n",
       "            color:  #000000;\n",
       "        }    #T_077196ee_50a2_11ea_af72_98fe94465cfarow11_col3 {\n",
       "            background-color:  #6a8bef;\n",
       "            color:  #000000;\n",
       "        }    #T_077196ee_50a2_11ea_af72_98fe94465cfarow11_col4 {\n",
       "            background-color:  #82a6fb;\n",
       "            color:  #000000;\n",
       "        }    #T_077196ee_50a2_11ea_af72_98fe94465cfarow11_col5 {\n",
       "            background-color:  #d2dbe8;\n",
       "            color:  #000000;\n",
       "        }    #T_077196ee_50a2_11ea_af72_98fe94465cfarow11_col6 {\n",
       "            background-color:  #94b6ff;\n",
       "            color:  #000000;\n",
       "        }    #T_077196ee_50a2_11ea_af72_98fe94465cfarow11_col7 {\n",
       "            background-color:  #f2cbb7;\n",
       "            color:  #000000;\n",
       "        }    #T_077196ee_50a2_11ea_af72_98fe94465cfarow11_col8 {\n",
       "            background-color:  #445acc;\n",
       "            color:  #f1f1f1;\n",
       "        }    #T_077196ee_50a2_11ea_af72_98fe94465cfarow11_col9 {\n",
       "            background-color:  #4c66d6;\n",
       "            color:  #000000;\n",
       "        }    #T_077196ee_50a2_11ea_af72_98fe94465cfarow11_col10 {\n",
       "            background-color:  #82a6fb;\n",
       "            color:  #000000;\n",
       "        }    #T_077196ee_50a2_11ea_af72_98fe94465cfarow11_col11 {\n",
       "            background-color:  #b40426;\n",
       "            color:  #f1f1f1;\n",
       "        }    #T_077196ee_50a2_11ea_af72_98fe94465cfarow11_col12 {\n",
       "            background-color:  #80a3fa;\n",
       "            color:  #000000;\n",
       "        }    #T_077196ee_50a2_11ea_af72_98fe94465cfarow11_col13 {\n",
       "            background-color:  #f3c7b1;\n",
       "            color:  #000000;\n",
       "        }    #T_077196ee_50a2_11ea_af72_98fe94465cfarow12_col0 {\n",
       "            background-color:  #f2c9b4;\n",
       "            color:  #000000;\n",
       "        }    #T_077196ee_50a2_11ea_af72_98fe94465cfarow12_col1 {\n",
       "            background-color:  #5977e3;\n",
       "            color:  #000000;\n",
       "        }    #T_077196ee_50a2_11ea_af72_98fe94465cfarow12_col2 {\n",
       "            background-color:  #f29274;\n",
       "            color:  #000000;\n",
       "        }    #T_077196ee_50a2_11ea_af72_98fe94465cfarow12_col3 {\n",
       "            background-color:  #4c66d6;\n",
       "            color:  #000000;\n",
       "        }    #T_077196ee_50a2_11ea_af72_98fe94465cfarow12_col4 {\n",
       "            background-color:  #f29274;\n",
       "            color:  #000000;\n",
       "        }    #T_077196ee_50a2_11ea_af72_98fe94465cfarow12_col5 {\n",
       "            background-color:  #3b4cc0;\n",
       "            color:  #f1f1f1;\n",
       "        }    #T_077196ee_50a2_11ea_af72_98fe94465cfarow12_col6 {\n",
       "            background-color:  #f29072;\n",
       "            color:  #000000;\n",
       "        }    #T_077196ee_50a2_11ea_af72_98fe94465cfarow12_col7 {\n",
       "            background-color:  #6b8df0;\n",
       "            color:  #000000;\n",
       "        }    #T_077196ee_50a2_11ea_af72_98fe94465cfarow12_col8 {\n",
       "            background-color:  #f7ba9f;\n",
       "            color:  #000000;\n",
       "        }    #T_077196ee_50a2_11ea_af72_98fe94465cfarow12_col9 {\n",
       "            background-color:  #f7ac8e;\n",
       "            color:  #000000;\n",
       "        }    #T_077196ee_50a2_11ea_af72_98fe94465cfarow12_col10 {\n",
       "            background-color:  #efcebd;\n",
       "            color:  #000000;\n",
       "        }    #T_077196ee_50a2_11ea_af72_98fe94465cfarow12_col11 {\n",
       "            background-color:  #4a63d3;\n",
       "            color:  #f1f1f1;\n",
       "        }    #T_077196ee_50a2_11ea_af72_98fe94465cfarow12_col12 {\n",
       "            background-color:  #b40426;\n",
       "            color:  #f1f1f1;\n",
       "        }    #T_077196ee_50a2_11ea_af72_98fe94465cfarow12_col13 {\n",
       "            background-color:  #3b4cc0;\n",
       "            color:  #f1f1f1;\n",
       "        }    #T_077196ee_50a2_11ea_af72_98fe94465cfarow13_col0 {\n",
       "            background-color:  #3b4cc0;\n",
       "            color:  #f1f1f1;\n",
       "        }    #T_077196ee_50a2_11ea_af72_98fe94465cfarow13_col1 {\n",
       "            background-color:  #f1cdba;\n",
       "            color:  #000000;\n",
       "        }    #T_077196ee_50a2_11ea_af72_98fe94465cfarow13_col2 {\n",
       "            background-color:  #6384eb;\n",
       "            color:  #000000;\n",
       "        }    #T_077196ee_50a2_11ea_af72_98fe94465cfarow13_col3 {\n",
       "            background-color:  #92b4fe;\n",
       "            color:  #000000;\n",
       "        }    #T_077196ee_50a2_11ea_af72_98fe94465cfarow13_col4 {\n",
       "            background-color:  #799cf8;\n",
       "            color:  #000000;\n",
       "        }    #T_077196ee_50a2_11ea_af72_98fe94465cfarow13_col5 {\n",
       "            background-color:  #ec7f63;\n",
       "            color:  #000000;\n",
       "        }    #T_077196ee_50a2_11ea_af72_98fe94465cfarow13_col6 {\n",
       "            background-color:  #80a3fa;\n",
       "            color:  #000000;\n",
       "        }    #T_077196ee_50a2_11ea_af72_98fe94465cfarow13_col7 {\n",
       "            background-color:  #eed0c0;\n",
       "            color:  #000000;\n",
       "        }    #T_077196ee_50a2_11ea_af72_98fe94465cfarow13_col8 {\n",
       "            background-color:  #516ddb;\n",
       "            color:  #000000;\n",
       "        }    #T_077196ee_50a2_11ea_af72_98fe94465cfarow13_col9 {\n",
       "            background-color:  #465ecf;\n",
       "            color:  #f1f1f1;\n",
       "        }    #T_077196ee_50a2_11ea_af72_98fe94465cfarow13_col10 {\n",
       "            background-color:  #3b4cc0;\n",
       "            color:  #f1f1f1;\n",
       "        }    #T_077196ee_50a2_11ea_af72_98fe94465cfarow13_col11 {\n",
       "            background-color:  #e6d7cf;\n",
       "            color:  #000000;\n",
       "        }    #T_077196ee_50a2_11ea_af72_98fe94465cfarow13_col12 {\n",
       "            background-color:  #3b4cc0;\n",
       "            color:  #f1f1f1;\n",
       "        }    #T_077196ee_50a2_11ea_af72_98fe94465cfarow13_col13 {\n",
       "            background-color:  #b40426;\n",
       "            color:  #f1f1f1;\n",
       "        }</style><table id=\"T_077196ee_50a2_11ea_af72_98fe94465cfa\" ><thead>    <tr>        <th class=\"blank level0\" ></th>        <th class=\"col_heading level0 col0\" >CRIM</th>        <th class=\"col_heading level0 col1\" >ZN</th>        <th class=\"col_heading level0 col2\" >INDUS</th>        <th class=\"col_heading level0 col3\" >CHAS</th>        <th class=\"col_heading level0 col4\" >NOX</th>        <th class=\"col_heading level0 col5\" >RM</th>        <th class=\"col_heading level0 col6\" >AGE</th>        <th class=\"col_heading level0 col7\" >DIS</th>        <th class=\"col_heading level0 col8\" >RAD</th>        <th class=\"col_heading level0 col9\" >TAX</th>        <th class=\"col_heading level0 col10\" >PTRATIO</th>        <th class=\"col_heading level0 col11\" >B</th>        <th class=\"col_heading level0 col12\" >LSTAT</th>        <th class=\"col_heading level0 col13\" >MEDV</th>    </tr></thead><tbody>\n",
       "                <tr>\n",
       "                        <th id=\"T_077196ee_50a2_11ea_af72_98fe94465cfalevel0_row0\" class=\"row_heading level0 row0\" >CRIM</th>\n",
       "                        <td id=\"T_077196ee_50a2_11ea_af72_98fe94465cfarow0_col0\" class=\"data row0 col0\" >1</td>\n",
       "                        <td id=\"T_077196ee_50a2_11ea_af72_98fe94465cfarow0_col1\" class=\"data row0 col1\" >-0.2</td>\n",
       "                        <td id=\"T_077196ee_50a2_11ea_af72_98fe94465cfarow0_col2\" class=\"data row0 col2\" >0.41</td>\n",
       "                        <td id=\"T_077196ee_50a2_11ea_af72_98fe94465cfarow0_col3\" class=\"data row0 col3\" >-0.056</td>\n",
       "                        <td id=\"T_077196ee_50a2_11ea_af72_98fe94465cfarow0_col4\" class=\"data row0 col4\" >0.42</td>\n",
       "                        <td id=\"T_077196ee_50a2_11ea_af72_98fe94465cfarow0_col5\" class=\"data row0 col5\" >-0.22</td>\n",
       "                        <td id=\"T_077196ee_50a2_11ea_af72_98fe94465cfarow0_col6\" class=\"data row0 col6\" >0.35</td>\n",
       "                        <td id=\"T_077196ee_50a2_11ea_af72_98fe94465cfarow0_col7\" class=\"data row0 col7\" >-0.38</td>\n",
       "                        <td id=\"T_077196ee_50a2_11ea_af72_98fe94465cfarow0_col8\" class=\"data row0 col8\" >0.63</td>\n",
       "                        <td id=\"T_077196ee_50a2_11ea_af72_98fe94465cfarow0_col9\" class=\"data row0 col9\" >0.58</td>\n",
       "                        <td id=\"T_077196ee_50a2_11ea_af72_98fe94465cfarow0_col10\" class=\"data row0 col10\" >0.29</td>\n",
       "                        <td id=\"T_077196ee_50a2_11ea_af72_98fe94465cfarow0_col11\" class=\"data row0 col11\" >-0.39</td>\n",
       "                        <td id=\"T_077196ee_50a2_11ea_af72_98fe94465cfarow0_col12\" class=\"data row0 col12\" >0.46</td>\n",
       "                        <td id=\"T_077196ee_50a2_11ea_af72_98fe94465cfarow0_col13\" class=\"data row0 col13\" >-0.39</td>\n",
       "            </tr>\n",
       "            <tr>\n",
       "                        <th id=\"T_077196ee_50a2_11ea_af72_98fe94465cfalevel0_row1\" class=\"row_heading level0 row1\" >ZN</th>\n",
       "                        <td id=\"T_077196ee_50a2_11ea_af72_98fe94465cfarow1_col0\" class=\"data row1 col0\" >-0.2</td>\n",
       "                        <td id=\"T_077196ee_50a2_11ea_af72_98fe94465cfarow1_col1\" class=\"data row1 col1\" >1</td>\n",
       "                        <td id=\"T_077196ee_50a2_11ea_af72_98fe94465cfarow1_col2\" class=\"data row1 col2\" >-0.53</td>\n",
       "                        <td id=\"T_077196ee_50a2_11ea_af72_98fe94465cfarow1_col3\" class=\"data row1 col3\" >-0.043</td>\n",
       "                        <td id=\"T_077196ee_50a2_11ea_af72_98fe94465cfarow1_col4\" class=\"data row1 col4\" >-0.52</td>\n",
       "                        <td id=\"T_077196ee_50a2_11ea_af72_98fe94465cfarow1_col5\" class=\"data row1 col5\" >0.31</td>\n",
       "                        <td id=\"T_077196ee_50a2_11ea_af72_98fe94465cfarow1_col6\" class=\"data row1 col6\" >-0.57</td>\n",
       "                        <td id=\"T_077196ee_50a2_11ea_af72_98fe94465cfarow1_col7\" class=\"data row1 col7\" >0.66</td>\n",
       "                        <td id=\"T_077196ee_50a2_11ea_af72_98fe94465cfarow1_col8\" class=\"data row1 col8\" >-0.31</td>\n",
       "                        <td id=\"T_077196ee_50a2_11ea_af72_98fe94465cfarow1_col9\" class=\"data row1 col9\" >-0.31</td>\n",
       "                        <td id=\"T_077196ee_50a2_11ea_af72_98fe94465cfarow1_col10\" class=\"data row1 col10\" >-0.39</td>\n",
       "                        <td id=\"T_077196ee_50a2_11ea_af72_98fe94465cfarow1_col11\" class=\"data row1 col11\" >0.18</td>\n",
       "                        <td id=\"T_077196ee_50a2_11ea_af72_98fe94465cfarow1_col12\" class=\"data row1 col12\" >-0.41</td>\n",
       "                        <td id=\"T_077196ee_50a2_11ea_af72_98fe94465cfarow1_col13\" class=\"data row1 col13\" >0.36</td>\n",
       "            </tr>\n",
       "            <tr>\n",
       "                        <th id=\"T_077196ee_50a2_11ea_af72_98fe94465cfalevel0_row2\" class=\"row_heading level0 row2\" >INDUS</th>\n",
       "                        <td id=\"T_077196ee_50a2_11ea_af72_98fe94465cfarow2_col0\" class=\"data row2 col0\" >0.41</td>\n",
       "                        <td id=\"T_077196ee_50a2_11ea_af72_98fe94465cfarow2_col1\" class=\"data row2 col1\" >-0.53</td>\n",
       "                        <td id=\"T_077196ee_50a2_11ea_af72_98fe94465cfarow2_col2\" class=\"data row2 col2\" >1</td>\n",
       "                        <td id=\"T_077196ee_50a2_11ea_af72_98fe94465cfarow2_col3\" class=\"data row2 col3\" >0.063</td>\n",
       "                        <td id=\"T_077196ee_50a2_11ea_af72_98fe94465cfarow2_col4\" class=\"data row2 col4\" >0.76</td>\n",
       "                        <td id=\"T_077196ee_50a2_11ea_af72_98fe94465cfarow2_col5\" class=\"data row2 col5\" >-0.39</td>\n",
       "                        <td id=\"T_077196ee_50a2_11ea_af72_98fe94465cfarow2_col6\" class=\"data row2 col6\" >0.64</td>\n",
       "                        <td id=\"T_077196ee_50a2_11ea_af72_98fe94465cfarow2_col7\" class=\"data row2 col7\" >-0.71</td>\n",
       "                        <td id=\"T_077196ee_50a2_11ea_af72_98fe94465cfarow2_col8\" class=\"data row2 col8\" >0.6</td>\n",
       "                        <td id=\"T_077196ee_50a2_11ea_af72_98fe94465cfarow2_col9\" class=\"data row2 col9\" >0.72</td>\n",
       "                        <td id=\"T_077196ee_50a2_11ea_af72_98fe94465cfarow2_col10\" class=\"data row2 col10\" >0.38</td>\n",
       "                        <td id=\"T_077196ee_50a2_11ea_af72_98fe94465cfarow2_col11\" class=\"data row2 col11\" >-0.36</td>\n",
       "                        <td id=\"T_077196ee_50a2_11ea_af72_98fe94465cfarow2_col12\" class=\"data row2 col12\" >0.6</td>\n",
       "                        <td id=\"T_077196ee_50a2_11ea_af72_98fe94465cfarow2_col13\" class=\"data row2 col13\" >-0.48</td>\n",
       "            </tr>\n",
       "            <tr>\n",
       "                        <th id=\"T_077196ee_50a2_11ea_af72_98fe94465cfalevel0_row3\" class=\"row_heading level0 row3\" >CHAS</th>\n",
       "                        <td id=\"T_077196ee_50a2_11ea_af72_98fe94465cfarow3_col0\" class=\"data row3 col0\" >-0.056</td>\n",
       "                        <td id=\"T_077196ee_50a2_11ea_af72_98fe94465cfarow3_col1\" class=\"data row3 col1\" >-0.043</td>\n",
       "                        <td id=\"T_077196ee_50a2_11ea_af72_98fe94465cfarow3_col2\" class=\"data row3 col2\" >0.063</td>\n",
       "                        <td id=\"T_077196ee_50a2_11ea_af72_98fe94465cfarow3_col3\" class=\"data row3 col3\" >1</td>\n",
       "                        <td id=\"T_077196ee_50a2_11ea_af72_98fe94465cfarow3_col4\" class=\"data row3 col4\" >0.091</td>\n",
       "                        <td id=\"T_077196ee_50a2_11ea_af72_98fe94465cfarow3_col5\" class=\"data row3 col5\" >0.091</td>\n",
       "                        <td id=\"T_077196ee_50a2_11ea_af72_98fe94465cfarow3_col6\" class=\"data row3 col6\" >0.087</td>\n",
       "                        <td id=\"T_077196ee_50a2_11ea_af72_98fe94465cfarow3_col7\" class=\"data row3 col7\" >-0.099</td>\n",
       "                        <td id=\"T_077196ee_50a2_11ea_af72_98fe94465cfarow3_col8\" class=\"data row3 col8\" >-0.0074</td>\n",
       "                        <td id=\"T_077196ee_50a2_11ea_af72_98fe94465cfarow3_col9\" class=\"data row3 col9\" >-0.036</td>\n",
       "                        <td id=\"T_077196ee_50a2_11ea_af72_98fe94465cfarow3_col10\" class=\"data row3 col10\" >-0.12</td>\n",
       "                        <td id=\"T_077196ee_50a2_11ea_af72_98fe94465cfarow3_col11\" class=\"data row3 col11\" >0.049</td>\n",
       "                        <td id=\"T_077196ee_50a2_11ea_af72_98fe94465cfarow3_col12\" class=\"data row3 col12\" >-0.054</td>\n",
       "                        <td id=\"T_077196ee_50a2_11ea_af72_98fe94465cfarow3_col13\" class=\"data row3 col13\" >0.18</td>\n",
       "            </tr>\n",
       "            <tr>\n",
       "                        <th id=\"T_077196ee_50a2_11ea_af72_98fe94465cfalevel0_row4\" class=\"row_heading level0 row4\" >NOX</th>\n",
       "                        <td id=\"T_077196ee_50a2_11ea_af72_98fe94465cfarow4_col0\" class=\"data row4 col0\" >0.42</td>\n",
       "                        <td id=\"T_077196ee_50a2_11ea_af72_98fe94465cfarow4_col1\" class=\"data row4 col1\" >-0.52</td>\n",
       "                        <td id=\"T_077196ee_50a2_11ea_af72_98fe94465cfarow4_col2\" class=\"data row4 col2\" >0.76</td>\n",
       "                        <td id=\"T_077196ee_50a2_11ea_af72_98fe94465cfarow4_col3\" class=\"data row4 col3\" >0.091</td>\n",
       "                        <td id=\"T_077196ee_50a2_11ea_af72_98fe94465cfarow4_col4\" class=\"data row4 col4\" >1</td>\n",
       "                        <td id=\"T_077196ee_50a2_11ea_af72_98fe94465cfarow4_col5\" class=\"data row4 col5\" >-0.3</td>\n",
       "                        <td id=\"T_077196ee_50a2_11ea_af72_98fe94465cfarow4_col6\" class=\"data row4 col6\" >0.73</td>\n",
       "                        <td id=\"T_077196ee_50a2_11ea_af72_98fe94465cfarow4_col7\" class=\"data row4 col7\" >-0.77</td>\n",
       "                        <td id=\"T_077196ee_50a2_11ea_af72_98fe94465cfarow4_col8\" class=\"data row4 col8\" >0.61</td>\n",
       "                        <td id=\"T_077196ee_50a2_11ea_af72_98fe94465cfarow4_col9\" class=\"data row4 col9\" >0.67</td>\n",
       "                        <td id=\"T_077196ee_50a2_11ea_af72_98fe94465cfarow4_col10\" class=\"data row4 col10\" >0.19</td>\n",
       "                        <td id=\"T_077196ee_50a2_11ea_af72_98fe94465cfarow4_col11\" class=\"data row4 col11\" >-0.38</td>\n",
       "                        <td id=\"T_077196ee_50a2_11ea_af72_98fe94465cfarow4_col12\" class=\"data row4 col12\" >0.59</td>\n",
       "                        <td id=\"T_077196ee_50a2_11ea_af72_98fe94465cfarow4_col13\" class=\"data row4 col13\" >-0.43</td>\n",
       "            </tr>\n",
       "            <tr>\n",
       "                        <th id=\"T_077196ee_50a2_11ea_af72_98fe94465cfalevel0_row5\" class=\"row_heading level0 row5\" >RM</th>\n",
       "                        <td id=\"T_077196ee_50a2_11ea_af72_98fe94465cfarow5_col0\" class=\"data row5 col0\" >-0.22</td>\n",
       "                        <td id=\"T_077196ee_50a2_11ea_af72_98fe94465cfarow5_col1\" class=\"data row5 col1\" >0.31</td>\n",
       "                        <td id=\"T_077196ee_50a2_11ea_af72_98fe94465cfarow5_col2\" class=\"data row5 col2\" >-0.39</td>\n",
       "                        <td id=\"T_077196ee_50a2_11ea_af72_98fe94465cfarow5_col3\" class=\"data row5 col3\" >0.091</td>\n",
       "                        <td id=\"T_077196ee_50a2_11ea_af72_98fe94465cfarow5_col4\" class=\"data row5 col4\" >-0.3</td>\n",
       "                        <td id=\"T_077196ee_50a2_11ea_af72_98fe94465cfarow5_col5\" class=\"data row5 col5\" >1</td>\n",
       "                        <td id=\"T_077196ee_50a2_11ea_af72_98fe94465cfarow5_col6\" class=\"data row5 col6\" >-0.24</td>\n",
       "                        <td id=\"T_077196ee_50a2_11ea_af72_98fe94465cfarow5_col7\" class=\"data row5 col7\" >0.21</td>\n",
       "                        <td id=\"T_077196ee_50a2_11ea_af72_98fe94465cfarow5_col8\" class=\"data row5 col8\" >-0.21</td>\n",
       "                        <td id=\"T_077196ee_50a2_11ea_af72_98fe94465cfarow5_col9\" class=\"data row5 col9\" >-0.29</td>\n",
       "                        <td id=\"T_077196ee_50a2_11ea_af72_98fe94465cfarow5_col10\" class=\"data row5 col10\" >-0.36</td>\n",
       "                        <td id=\"T_077196ee_50a2_11ea_af72_98fe94465cfarow5_col11\" class=\"data row5 col11\" >0.13</td>\n",
       "                        <td id=\"T_077196ee_50a2_11ea_af72_98fe94465cfarow5_col12\" class=\"data row5 col12\" >-0.61</td>\n",
       "                        <td id=\"T_077196ee_50a2_11ea_af72_98fe94465cfarow5_col13\" class=\"data row5 col13\" >0.7</td>\n",
       "            </tr>\n",
       "            <tr>\n",
       "                        <th id=\"T_077196ee_50a2_11ea_af72_98fe94465cfalevel0_row6\" class=\"row_heading level0 row6\" >AGE</th>\n",
       "                        <td id=\"T_077196ee_50a2_11ea_af72_98fe94465cfarow6_col0\" class=\"data row6 col0\" >0.35</td>\n",
       "                        <td id=\"T_077196ee_50a2_11ea_af72_98fe94465cfarow6_col1\" class=\"data row6 col1\" >-0.57</td>\n",
       "                        <td id=\"T_077196ee_50a2_11ea_af72_98fe94465cfarow6_col2\" class=\"data row6 col2\" >0.64</td>\n",
       "                        <td id=\"T_077196ee_50a2_11ea_af72_98fe94465cfarow6_col3\" class=\"data row6 col3\" >0.087</td>\n",
       "                        <td id=\"T_077196ee_50a2_11ea_af72_98fe94465cfarow6_col4\" class=\"data row6 col4\" >0.73</td>\n",
       "                        <td id=\"T_077196ee_50a2_11ea_af72_98fe94465cfarow6_col5\" class=\"data row6 col5\" >-0.24</td>\n",
       "                        <td id=\"T_077196ee_50a2_11ea_af72_98fe94465cfarow6_col6\" class=\"data row6 col6\" >1</td>\n",
       "                        <td id=\"T_077196ee_50a2_11ea_af72_98fe94465cfarow6_col7\" class=\"data row6 col7\" >-0.75</td>\n",
       "                        <td id=\"T_077196ee_50a2_11ea_af72_98fe94465cfarow6_col8\" class=\"data row6 col8\" >0.46</td>\n",
       "                        <td id=\"T_077196ee_50a2_11ea_af72_98fe94465cfarow6_col9\" class=\"data row6 col9\" >0.51</td>\n",
       "                        <td id=\"T_077196ee_50a2_11ea_af72_98fe94465cfarow6_col10\" class=\"data row6 col10\" >0.26</td>\n",
       "                        <td id=\"T_077196ee_50a2_11ea_af72_98fe94465cfarow6_col11\" class=\"data row6 col11\" >-0.27</td>\n",
       "                        <td id=\"T_077196ee_50a2_11ea_af72_98fe94465cfarow6_col12\" class=\"data row6 col12\" >0.6</td>\n",
       "                        <td id=\"T_077196ee_50a2_11ea_af72_98fe94465cfarow6_col13\" class=\"data row6 col13\" >-0.38</td>\n",
       "            </tr>\n",
       "            <tr>\n",
       "                        <th id=\"T_077196ee_50a2_11ea_af72_98fe94465cfalevel0_row7\" class=\"row_heading level0 row7\" >DIS</th>\n",
       "                        <td id=\"T_077196ee_50a2_11ea_af72_98fe94465cfarow7_col0\" class=\"data row7 col0\" >-0.38</td>\n",
       "                        <td id=\"T_077196ee_50a2_11ea_af72_98fe94465cfarow7_col1\" class=\"data row7 col1\" >0.66</td>\n",
       "                        <td id=\"T_077196ee_50a2_11ea_af72_98fe94465cfarow7_col2\" class=\"data row7 col2\" >-0.71</td>\n",
       "                        <td id=\"T_077196ee_50a2_11ea_af72_98fe94465cfarow7_col3\" class=\"data row7 col3\" >-0.099</td>\n",
       "                        <td id=\"T_077196ee_50a2_11ea_af72_98fe94465cfarow7_col4\" class=\"data row7 col4\" >-0.77</td>\n",
       "                        <td id=\"T_077196ee_50a2_11ea_af72_98fe94465cfarow7_col5\" class=\"data row7 col5\" >0.21</td>\n",
       "                        <td id=\"T_077196ee_50a2_11ea_af72_98fe94465cfarow7_col6\" class=\"data row7 col6\" >-0.75</td>\n",
       "                        <td id=\"T_077196ee_50a2_11ea_af72_98fe94465cfarow7_col7\" class=\"data row7 col7\" >1</td>\n",
       "                        <td id=\"T_077196ee_50a2_11ea_af72_98fe94465cfarow7_col8\" class=\"data row7 col8\" >-0.49</td>\n",
       "                        <td id=\"T_077196ee_50a2_11ea_af72_98fe94465cfarow7_col9\" class=\"data row7 col9\" >-0.53</td>\n",
       "                        <td id=\"T_077196ee_50a2_11ea_af72_98fe94465cfarow7_col10\" class=\"data row7 col10\" >-0.23</td>\n",
       "                        <td id=\"T_077196ee_50a2_11ea_af72_98fe94465cfarow7_col11\" class=\"data row7 col11\" >0.29</td>\n",
       "                        <td id=\"T_077196ee_50a2_11ea_af72_98fe94465cfarow7_col12\" class=\"data row7 col12\" >-0.5</td>\n",
       "                        <td id=\"T_077196ee_50a2_11ea_af72_98fe94465cfarow7_col13\" class=\"data row7 col13\" >0.25</td>\n",
       "            </tr>\n",
       "            <tr>\n",
       "                        <th id=\"T_077196ee_50a2_11ea_af72_98fe94465cfalevel0_row8\" class=\"row_heading level0 row8\" >RAD</th>\n",
       "                        <td id=\"T_077196ee_50a2_11ea_af72_98fe94465cfarow8_col0\" class=\"data row8 col0\" >0.63</td>\n",
       "                        <td id=\"T_077196ee_50a2_11ea_af72_98fe94465cfarow8_col1\" class=\"data row8 col1\" >-0.31</td>\n",
       "                        <td id=\"T_077196ee_50a2_11ea_af72_98fe94465cfarow8_col2\" class=\"data row8 col2\" >0.6</td>\n",
       "                        <td id=\"T_077196ee_50a2_11ea_af72_98fe94465cfarow8_col3\" class=\"data row8 col3\" >-0.0074</td>\n",
       "                        <td id=\"T_077196ee_50a2_11ea_af72_98fe94465cfarow8_col4\" class=\"data row8 col4\" >0.61</td>\n",
       "                        <td id=\"T_077196ee_50a2_11ea_af72_98fe94465cfarow8_col5\" class=\"data row8 col5\" >-0.21</td>\n",
       "                        <td id=\"T_077196ee_50a2_11ea_af72_98fe94465cfarow8_col6\" class=\"data row8 col6\" >0.46</td>\n",
       "                        <td id=\"T_077196ee_50a2_11ea_af72_98fe94465cfarow8_col7\" class=\"data row8 col7\" >-0.49</td>\n",
       "                        <td id=\"T_077196ee_50a2_11ea_af72_98fe94465cfarow8_col8\" class=\"data row8 col8\" >1</td>\n",
       "                        <td id=\"T_077196ee_50a2_11ea_af72_98fe94465cfarow8_col9\" class=\"data row8 col9\" >0.91</td>\n",
       "                        <td id=\"T_077196ee_50a2_11ea_af72_98fe94465cfarow8_col10\" class=\"data row8 col10\" >0.46</td>\n",
       "                        <td id=\"T_077196ee_50a2_11ea_af72_98fe94465cfarow8_col11\" class=\"data row8 col11\" >-0.44</td>\n",
       "                        <td id=\"T_077196ee_50a2_11ea_af72_98fe94465cfarow8_col12\" class=\"data row8 col12\" >0.49</td>\n",
       "                        <td id=\"T_077196ee_50a2_11ea_af72_98fe94465cfarow8_col13\" class=\"data row8 col13\" >-0.38</td>\n",
       "            </tr>\n",
       "            <tr>\n",
       "                        <th id=\"T_077196ee_50a2_11ea_af72_98fe94465cfalevel0_row9\" class=\"row_heading level0 row9\" >TAX</th>\n",
       "                        <td id=\"T_077196ee_50a2_11ea_af72_98fe94465cfarow9_col0\" class=\"data row9 col0\" >0.58</td>\n",
       "                        <td id=\"T_077196ee_50a2_11ea_af72_98fe94465cfarow9_col1\" class=\"data row9 col1\" >-0.31</td>\n",
       "                        <td id=\"T_077196ee_50a2_11ea_af72_98fe94465cfarow9_col2\" class=\"data row9 col2\" >0.72</td>\n",
       "                        <td id=\"T_077196ee_50a2_11ea_af72_98fe94465cfarow9_col3\" class=\"data row9 col3\" >-0.036</td>\n",
       "                        <td id=\"T_077196ee_50a2_11ea_af72_98fe94465cfarow9_col4\" class=\"data row9 col4\" >0.67</td>\n",
       "                        <td id=\"T_077196ee_50a2_11ea_af72_98fe94465cfarow9_col5\" class=\"data row9 col5\" >-0.29</td>\n",
       "                        <td id=\"T_077196ee_50a2_11ea_af72_98fe94465cfarow9_col6\" class=\"data row9 col6\" >0.51</td>\n",
       "                        <td id=\"T_077196ee_50a2_11ea_af72_98fe94465cfarow9_col7\" class=\"data row9 col7\" >-0.53</td>\n",
       "                        <td id=\"T_077196ee_50a2_11ea_af72_98fe94465cfarow9_col8\" class=\"data row9 col8\" >0.91</td>\n",
       "                        <td id=\"T_077196ee_50a2_11ea_af72_98fe94465cfarow9_col9\" class=\"data row9 col9\" >1</td>\n",
       "                        <td id=\"T_077196ee_50a2_11ea_af72_98fe94465cfarow9_col10\" class=\"data row9 col10\" >0.46</td>\n",
       "                        <td id=\"T_077196ee_50a2_11ea_af72_98fe94465cfarow9_col11\" class=\"data row9 col11\" >-0.44</td>\n",
       "                        <td id=\"T_077196ee_50a2_11ea_af72_98fe94465cfarow9_col12\" class=\"data row9 col12\" >0.54</td>\n",
       "                        <td id=\"T_077196ee_50a2_11ea_af72_98fe94465cfarow9_col13\" class=\"data row9 col13\" >-0.47</td>\n",
       "            </tr>\n",
       "            <tr>\n",
       "                        <th id=\"T_077196ee_50a2_11ea_af72_98fe94465cfalevel0_row10\" class=\"row_heading level0 row10\" >PTRATIO</th>\n",
       "                        <td id=\"T_077196ee_50a2_11ea_af72_98fe94465cfarow10_col0\" class=\"data row10 col0\" >0.29</td>\n",
       "                        <td id=\"T_077196ee_50a2_11ea_af72_98fe94465cfarow10_col1\" class=\"data row10 col1\" >-0.39</td>\n",
       "                        <td id=\"T_077196ee_50a2_11ea_af72_98fe94465cfarow10_col2\" class=\"data row10 col2\" >0.38</td>\n",
       "                        <td id=\"T_077196ee_50a2_11ea_af72_98fe94465cfarow10_col3\" class=\"data row10 col3\" >-0.12</td>\n",
       "                        <td id=\"T_077196ee_50a2_11ea_af72_98fe94465cfarow10_col4\" class=\"data row10 col4\" >0.19</td>\n",
       "                        <td id=\"T_077196ee_50a2_11ea_af72_98fe94465cfarow10_col5\" class=\"data row10 col5\" >-0.36</td>\n",
       "                        <td id=\"T_077196ee_50a2_11ea_af72_98fe94465cfarow10_col6\" class=\"data row10 col6\" >0.26</td>\n",
       "                        <td id=\"T_077196ee_50a2_11ea_af72_98fe94465cfarow10_col7\" class=\"data row10 col7\" >-0.23</td>\n",
       "                        <td id=\"T_077196ee_50a2_11ea_af72_98fe94465cfarow10_col8\" class=\"data row10 col8\" >0.46</td>\n",
       "                        <td id=\"T_077196ee_50a2_11ea_af72_98fe94465cfarow10_col9\" class=\"data row10 col9\" >0.46</td>\n",
       "                        <td id=\"T_077196ee_50a2_11ea_af72_98fe94465cfarow10_col10\" class=\"data row10 col10\" >1</td>\n",
       "                        <td id=\"T_077196ee_50a2_11ea_af72_98fe94465cfarow10_col11\" class=\"data row10 col11\" >-0.18</td>\n",
       "                        <td id=\"T_077196ee_50a2_11ea_af72_98fe94465cfarow10_col12\" class=\"data row10 col12\" >0.37</td>\n",
       "                        <td id=\"T_077196ee_50a2_11ea_af72_98fe94465cfarow10_col13\" class=\"data row10 col13\" >-0.51</td>\n",
       "            </tr>\n",
       "            <tr>\n",
       "                        <th id=\"T_077196ee_50a2_11ea_af72_98fe94465cfalevel0_row11\" class=\"row_heading level0 row11\" >B</th>\n",
       "                        <td id=\"T_077196ee_50a2_11ea_af72_98fe94465cfarow11_col0\" class=\"data row11 col0\" >-0.39</td>\n",
       "                        <td id=\"T_077196ee_50a2_11ea_af72_98fe94465cfarow11_col1\" class=\"data row11 col1\" >0.18</td>\n",
       "                        <td id=\"T_077196ee_50a2_11ea_af72_98fe94465cfarow11_col2\" class=\"data row11 col2\" >-0.36</td>\n",
       "                        <td id=\"T_077196ee_50a2_11ea_af72_98fe94465cfarow11_col3\" class=\"data row11 col3\" >0.049</td>\n",
       "                        <td id=\"T_077196ee_50a2_11ea_af72_98fe94465cfarow11_col4\" class=\"data row11 col4\" >-0.38</td>\n",
       "                        <td id=\"T_077196ee_50a2_11ea_af72_98fe94465cfarow11_col5\" class=\"data row11 col5\" >0.13</td>\n",
       "                        <td id=\"T_077196ee_50a2_11ea_af72_98fe94465cfarow11_col6\" class=\"data row11 col6\" >-0.27</td>\n",
       "                        <td id=\"T_077196ee_50a2_11ea_af72_98fe94465cfarow11_col7\" class=\"data row11 col7\" >0.29</td>\n",
       "                        <td id=\"T_077196ee_50a2_11ea_af72_98fe94465cfarow11_col8\" class=\"data row11 col8\" >-0.44</td>\n",
       "                        <td id=\"T_077196ee_50a2_11ea_af72_98fe94465cfarow11_col9\" class=\"data row11 col9\" >-0.44</td>\n",
       "                        <td id=\"T_077196ee_50a2_11ea_af72_98fe94465cfarow11_col10\" class=\"data row11 col10\" >-0.18</td>\n",
       "                        <td id=\"T_077196ee_50a2_11ea_af72_98fe94465cfarow11_col11\" class=\"data row11 col11\" >1</td>\n",
       "                        <td id=\"T_077196ee_50a2_11ea_af72_98fe94465cfarow11_col12\" class=\"data row11 col12\" >-0.37</td>\n",
       "                        <td id=\"T_077196ee_50a2_11ea_af72_98fe94465cfarow11_col13\" class=\"data row11 col13\" >0.33</td>\n",
       "            </tr>\n",
       "            <tr>\n",
       "                        <th id=\"T_077196ee_50a2_11ea_af72_98fe94465cfalevel0_row12\" class=\"row_heading level0 row12\" >LSTAT</th>\n",
       "                        <td id=\"T_077196ee_50a2_11ea_af72_98fe94465cfarow12_col0\" class=\"data row12 col0\" >0.46</td>\n",
       "                        <td id=\"T_077196ee_50a2_11ea_af72_98fe94465cfarow12_col1\" class=\"data row12 col1\" >-0.41</td>\n",
       "                        <td id=\"T_077196ee_50a2_11ea_af72_98fe94465cfarow12_col2\" class=\"data row12 col2\" >0.6</td>\n",
       "                        <td id=\"T_077196ee_50a2_11ea_af72_98fe94465cfarow12_col3\" class=\"data row12 col3\" >-0.054</td>\n",
       "                        <td id=\"T_077196ee_50a2_11ea_af72_98fe94465cfarow12_col4\" class=\"data row12 col4\" >0.59</td>\n",
       "                        <td id=\"T_077196ee_50a2_11ea_af72_98fe94465cfarow12_col5\" class=\"data row12 col5\" >-0.61</td>\n",
       "                        <td id=\"T_077196ee_50a2_11ea_af72_98fe94465cfarow12_col6\" class=\"data row12 col6\" >0.6</td>\n",
       "                        <td id=\"T_077196ee_50a2_11ea_af72_98fe94465cfarow12_col7\" class=\"data row12 col7\" >-0.5</td>\n",
       "                        <td id=\"T_077196ee_50a2_11ea_af72_98fe94465cfarow12_col8\" class=\"data row12 col8\" >0.49</td>\n",
       "                        <td id=\"T_077196ee_50a2_11ea_af72_98fe94465cfarow12_col9\" class=\"data row12 col9\" >0.54</td>\n",
       "                        <td id=\"T_077196ee_50a2_11ea_af72_98fe94465cfarow12_col10\" class=\"data row12 col10\" >0.37</td>\n",
       "                        <td id=\"T_077196ee_50a2_11ea_af72_98fe94465cfarow12_col11\" class=\"data row12 col11\" >-0.37</td>\n",
       "                        <td id=\"T_077196ee_50a2_11ea_af72_98fe94465cfarow12_col12\" class=\"data row12 col12\" >1</td>\n",
       "                        <td id=\"T_077196ee_50a2_11ea_af72_98fe94465cfarow12_col13\" class=\"data row12 col13\" >-0.74</td>\n",
       "            </tr>\n",
       "            <tr>\n",
       "                        <th id=\"T_077196ee_50a2_11ea_af72_98fe94465cfalevel0_row13\" class=\"row_heading level0 row13\" >MEDV</th>\n",
       "                        <td id=\"T_077196ee_50a2_11ea_af72_98fe94465cfarow13_col0\" class=\"data row13 col0\" >-0.39</td>\n",
       "                        <td id=\"T_077196ee_50a2_11ea_af72_98fe94465cfarow13_col1\" class=\"data row13 col1\" >0.36</td>\n",
       "                        <td id=\"T_077196ee_50a2_11ea_af72_98fe94465cfarow13_col2\" class=\"data row13 col2\" >-0.48</td>\n",
       "                        <td id=\"T_077196ee_50a2_11ea_af72_98fe94465cfarow13_col3\" class=\"data row13 col3\" >0.18</td>\n",
       "                        <td id=\"T_077196ee_50a2_11ea_af72_98fe94465cfarow13_col4\" class=\"data row13 col4\" >-0.43</td>\n",
       "                        <td id=\"T_077196ee_50a2_11ea_af72_98fe94465cfarow13_col5\" class=\"data row13 col5\" >0.7</td>\n",
       "                        <td id=\"T_077196ee_50a2_11ea_af72_98fe94465cfarow13_col6\" class=\"data row13 col6\" >-0.38</td>\n",
       "                        <td id=\"T_077196ee_50a2_11ea_af72_98fe94465cfarow13_col7\" class=\"data row13 col7\" >0.25</td>\n",
       "                        <td id=\"T_077196ee_50a2_11ea_af72_98fe94465cfarow13_col8\" class=\"data row13 col8\" >-0.38</td>\n",
       "                        <td id=\"T_077196ee_50a2_11ea_af72_98fe94465cfarow13_col9\" class=\"data row13 col9\" >-0.47</td>\n",
       "                        <td id=\"T_077196ee_50a2_11ea_af72_98fe94465cfarow13_col10\" class=\"data row13 col10\" >-0.51</td>\n",
       "                        <td id=\"T_077196ee_50a2_11ea_af72_98fe94465cfarow13_col11\" class=\"data row13 col11\" >0.33</td>\n",
       "                        <td id=\"T_077196ee_50a2_11ea_af72_98fe94465cfarow13_col12\" class=\"data row13 col12\" >-0.74</td>\n",
       "                        <td id=\"T_077196ee_50a2_11ea_af72_98fe94465cfarow13_col13\" class=\"data row13 col13\" >1</td>\n",
       "            </tr>\n",
       "    </tbody></table>"
      ],
      "text/plain": [
       "<pandas.io.formats.style.Styler at 0x1a1ce59210>"
      ]
     },
     "execution_count": 63,
     "metadata": {},
     "output_type": "execute_result"
    }
   ],
   "source": [
    "data.corr().style.background_gradient(cmap='coolwarm').set_precision(2)"
   ]
  },
  {
   "cell_type": "markdown",
   "metadata": {},
   "source": [
    "Из матрицы корреляций видно, что больше всего цена дома (показатель MEDV) коррелирует с показателем LSTAT, причем корреляция обратная (чем больше доля людей с низким социальным статусом, тем ниже цена на дом).\n",
    "Также есть прямая корреляция цены и количества комнат (показатель RM): чем больше комнат в доме, тем выше цена."
   ]
  },
  {
   "cell_type": "markdown",
   "metadata": {
    "colab_type": "text",
    "id": "111lURJGVrbU"
   },
   "source": [
    "Написать **линейную регрессию** на два атрибута. Допустим, мы хотим предсказать цену дома (MEDV) в Бостоне, зная что цена на дом имеет линейную зависимость с атрибутом LSTAT. "
   ]
  },
  {
   "cell_type": "markdown",
   "metadata": {
    "colab_type": "text",
    "id": "Naz_Byg1WKhm"
   },
   "source": [
    "\n",
    "\n",
    "1.   Разделить данные на 80% тренировочных, 20% тестовых\n",
    "2.   Составить модель линейной регрессии\n",
    "3.   Посчитать ошибку модели на тестовых данных\n",
    "4.   Сделать точечный график данных и полученной прямой линейной регрессии\n",
    "\n"
   ]
  },
  {
   "cell_type": "code",
   "execution_count": 69,
   "metadata": {},
   "outputs": [],
   "source": [
    "medv = data['MEDV']\n",
    "lstat = data['LSTAT']\n",
    "medv = np.array(medv).reshape(-1,1)\n",
    "lstat = np.array(lstat).reshape(-1,1)"
   ]
  },
  {
   "cell_type": "code",
   "execution_count": 70,
   "metadata": {},
   "outputs": [],
   "source": [
    "from sklearn.linear_model import LinearRegression\n",
    "model = LinearRegression()"
   ]
  },
  {
   "cell_type": "code",
   "execution_count": 71,
   "metadata": {},
   "outputs": [],
   "source": [
    "from sklearn.model_selection import train_test_split\n",
    "\n",
    "# x = medv,\n",
    "# y = lstat\n",
    "X_train, X_test, y_train, y_test = train_test_split(\n",
    "   medv,\n",
    "    lstat,\n",
    "    test_size = 0.2\n",
    ")"
   ]
  },
  {
   "cell_type": "code",
   "execution_count": 72,
   "metadata": {},
   "outputs": [
    {
     "data": {
      "text/plain": [
       "LinearRegression(copy_X=True, fit_intercept=True, n_jobs=None, normalize=False)"
      ]
     },
     "execution_count": 72,
     "metadata": {},
     "output_type": "execute_result"
    }
   ],
   "source": [
    "model.fit(X_train, y_train)"
   ]
  },
  {
   "cell_type": "code",
   "execution_count": 73,
   "metadata": {},
   "outputs": [],
   "source": [
    "predicted_y = model.predict(X_test)"
   ]
  },
  {
   "cell_type": "code",
   "execution_count": 74,
   "metadata": {},
   "outputs": [
    {
     "data": {
      "text/plain": [
       "0.4306146112873146"
      ]
     },
     "execution_count": 74,
     "metadata": {},
     "output_type": "execute_result"
    }
   ],
   "source": [
    "model.score(X_test, y_test)"
   ]
  },
  {
   "cell_type": "code",
   "execution_count": 79,
   "metadata": {},
   "outputs": [
    {
     "data": {
      "image/png": "[encoded data removed]",
      "text/plain": [
       "<Figure size 432x288 with 1 Axes>"
      ]
     },
     "metadata": {
      "needs_background": "light"
     },
     "output_type": "display_data"
    }
   ],
   "source": [
    "plt.xlabel('Цена на дом (показатель MEDV)')\n",
    "plt.ylabel('Доля людей с низким социальным статусом (показатель LSTAT)')\n",
    "plt.title('Линейная регрессия от одной переменной')\n",
    "# Построим прямую для регрессии\n",
    "# Создадим 100 точек для предсказаний\n",
    "x = np.linspace(0, 60, 100)\n",
    "# Посчитаем предсказанные значения\n",
    "# y = kx + b\n",
    "# k = model.coef_\n",
    "# b = model.intercept_\n",
    "y = model.coef_*x + model.intercept_\n",
    "y = np.transpose(y)\n",
    "plt.plot(x,y)\n",
    "plt.plot(X_train, y_train, 'r.')\n",
    "plt.plot(X_test, y_test, 'go')\n",
    "plt.legend(['Прямая линейной регрессии', 'Тренировочные данные', 'Тестовые данные'])\n",
    "plt.show()"
   ]
  },
  {
   "cell_type": "markdown",
   "metadata": {},
   "source": [
    "Получили очень большую ошибку (43%). Это обьяснимо, так как изначально корреляция между MEDV и LSTAT не достаточно высока (-0,74), следовательно ошибка в предсказании цены по значение параметра LSTAT всегда будет высокой."
   ]
  },
  {
   "cell_type": "markdown",
   "metadata": {
    "colab_type": "text",
    "id": "zqiJHPz7FUT2"
   },
   "source": [
    "Загрузить таблицу Happiness report. Посчитать матрицу ковариаций попарно. "
   ]
  },
  {
   "cell_type": "code",
   "execution_count": 99,
   "metadata": {
    "colab": {
     "base_uri": "https://localhost:8080/",
     "height": 238
    },
    "colab_type": "code",
    "id": "4FVMs-hUiv4i",
    "outputId": "4f8bb858-e745-4832-e05a-a40c48f8fa8a"
   },
   "outputs": [
    {
     "data": {
      "text/html": [
       "<div>\n",
       "<style scoped>\n",
       "    .dataframe tbody tr th:only-of-type {\n",
       "        vertical-align: middle;\n",
       "    }\n",
       "\n",
       "    .dataframe tbody tr th {\n",
       "        vertical-align: top;\n",
       "    }\n",
       "\n",
       "    .dataframe thead th {\n",
       "        text-align: right;\n",
       "    }\n",
       "</style>\n",
       "<table border=\"1\" class=\"dataframe\">\n",
       "  <thead>\n",
       "    <tr style=\"text-align: right;\">\n",
       "      <th></th>\n",
       "      <th>Country (region)</th>\n",
       "      <th>Ladder</th>\n",
       "      <th>SD of Ladder</th>\n",
       "      <th>Positive affect</th>\n",
       "      <th>Negative affect</th>\n",
       "      <th>Social support</th>\n",
       "      <th>Freedom</th>\n",
       "      <th>Corruption</th>\n",
       "      <th>Generosity</th>\n",
       "      <th>Log of GDP\\nper capita</th>\n",
       "      <th>Healthy life\\nexpectancy</th>\n",
       "    </tr>\n",
       "  </thead>\n",
       "  <tbody>\n",
       "    <tr>\n",
       "      <td>0</td>\n",
       "      <td>Finland</td>\n",
       "      <td>1</td>\n",
       "      <td>4</td>\n",
       "      <td>41.0</td>\n",
       "      <td>10.0</td>\n",
       "      <td>2.0</td>\n",
       "      <td>5.0</td>\n",
       "      <td>4.0</td>\n",
       "      <td>47.0</td>\n",
       "      <td>22.0</td>\n",
       "      <td>27.0</td>\n",
       "    </tr>\n",
       "    <tr>\n",
       "      <td>1</td>\n",
       "      <td>Denmark</td>\n",
       "      <td>2</td>\n",
       "      <td>13</td>\n",
       "      <td>24.0</td>\n",
       "      <td>26.0</td>\n",
       "      <td>4.0</td>\n",
       "      <td>6.0</td>\n",
       "      <td>3.0</td>\n",
       "      <td>22.0</td>\n",
       "      <td>14.0</td>\n",
       "      <td>23.0</td>\n",
       "    </tr>\n",
       "    <tr>\n",
       "      <td>2</td>\n",
       "      <td>Norway</td>\n",
       "      <td>3</td>\n",
       "      <td>8</td>\n",
       "      <td>16.0</td>\n",
       "      <td>29.0</td>\n",
       "      <td>3.0</td>\n",
       "      <td>3.0</td>\n",
       "      <td>8.0</td>\n",
       "      <td>11.0</td>\n",
       "      <td>7.0</td>\n",
       "      <td>12.0</td>\n",
       "    </tr>\n",
       "    <tr>\n",
       "      <td>3</td>\n",
       "      <td>Iceland</td>\n",
       "      <td>4</td>\n",
       "      <td>9</td>\n",
       "      <td>3.0</td>\n",
       "      <td>3.0</td>\n",
       "      <td>1.0</td>\n",
       "      <td>7.0</td>\n",
       "      <td>45.0</td>\n",
       "      <td>3.0</td>\n",
       "      <td>15.0</td>\n",
       "      <td>13.0</td>\n",
       "    </tr>\n",
       "    <tr>\n",
       "      <td>4</td>\n",
       "      <td>Netherlands</td>\n",
       "      <td>5</td>\n",
       "      <td>1</td>\n",
       "      <td>12.0</td>\n",
       "      <td>25.0</td>\n",
       "      <td>15.0</td>\n",
       "      <td>19.0</td>\n",
       "      <td>12.0</td>\n",
       "      <td>7.0</td>\n",
       "      <td>12.0</td>\n",
       "      <td>18.0</td>\n",
       "    </tr>\n",
       "  </tbody>\n",
       "</table>\n",
       "</div>"
      ],
      "text/plain": [
       "  Country (region)  Ladder  SD of Ladder  Positive affect  Negative affect  \\\n",
       "0          Finland       1             4             41.0             10.0   \n",
       "1          Denmark       2            13             24.0             26.0   \n",
       "2           Norway       3             8             16.0             29.0   \n",
       "3          Iceland       4             9              3.0              3.0   \n",
       "4      Netherlands       5             1             12.0             25.0   \n",
       "\n",
       "   Social support  Freedom  Corruption  Generosity  Log of GDP\\nper capita  \\\n",
       "0             2.0      5.0         4.0        47.0                    22.0   \n",
       "1             4.0      6.0         3.0        22.0                    14.0   \n",
       "2             3.0      3.0         8.0        11.0                     7.0   \n",
       "3             1.0      7.0        45.0         3.0                    15.0   \n",
       "4            15.0     19.0        12.0         7.0                    12.0   \n",
       "\n",
       "   Healthy life\\nexpectancy  \n",
       "0                      27.0  \n",
       "1                      23.0  \n",
       "2                      12.0  \n",
       "3                      13.0  \n",
       "4                      18.0  "
      ]
     },
     "execution_count": 99,
     "metadata": {},
     "output_type": "execute_result"
    }
   ],
   "source": [
    "url=\"http://yustiks.ru/dataset/world-happiness-report-2019.csv\"\n",
    "data=pd.read_csv(url)\n",
    "data.head()\n"
   ]
  },
  {
   "cell_type": "markdown",
   "metadata": {
    "colab_type": "text",
    "id": "AEV-w8iDrzwl"
   },
   "source": [
    "Сколько в данной таблице отсутствующих значений? Написать ответ. Если есть отсутствующие значения в выборке country, убрать (drop)."
   ]
  },
  {
   "cell_type": "markdown",
   "metadata": {
    "colab_type": "text",
    "id": "Sa3-2X8RputT"
   },
   "source": [
    "Сколько стран в выборке? Написать ответ. "
   ]
  },
  {
   "cell_type": "markdown",
   "metadata": {
    "colab_type": "text",
    "id": "Xo3Q738TsMBV"
   },
   "source": [
    "Построить матрицу корреляций для таблицы. Какие можно сделать выводы?"
   ]
  },
  {
   "cell_type": "code",
   "execution_count": 100,
   "metadata": {},
   "outputs": [
    {
     "name": "stdout",
     "output_type": "stream",
     "text": [
      "<class 'pandas.core.frame.DataFrame'>\n",
      "RangeIndex: 156 entries, 0 to 155\n",
      "Data columns (total 11 columns):\n",
      "Country (region)           156 non-null object\n",
      "Ladder                     156 non-null int64\n",
      "SD of Ladder               156 non-null int64\n",
      "Positive affect            155 non-null float64\n",
      "Negative affect            155 non-null float64\n",
      "Social support             155 non-null float64\n",
      "Freedom                    155 non-null float64\n",
      "Corruption                 148 non-null float64\n",
      "Generosity                 155 non-null float64\n",
      "Log of GDP\n",
      "per capita      152 non-null float64\n",
      "Healthy life\n",
      "expectancy    150 non-null float64\n",
      "dtypes: float64(8), int64(2), object(1)\n",
      "memory usage: 13.5+ KB\n"
     ]
    }
   ],
   "source": [
    "data.info()"
   ]
  },
  {
   "cell_type": "markdown",
   "metadata": {},
   "source": [
    "В столбцах Positive affect, Negative affect, Social support, Freedom, Generosity отстутствует по одному значению. В стобце Corruption отсутствует 8 значений.\n",
    "В столбце Country нет отстутвующих значений."
   ]
  },
  {
   "cell_type": "code",
   "execution_count": 96,
   "metadata": {},
   "outputs": [
    {
     "data": {
      "text/html": [
       "<div>\n",
       "<style scoped>\n",
       "    .dataframe tbody tr th:only-of-type {\n",
       "        vertical-align: middle;\n",
       "    }\n",
       "\n",
       "    .dataframe tbody tr th {\n",
       "        vertical-align: top;\n",
       "    }\n",
       "\n",
       "    .dataframe thead th {\n",
       "        text-align: right;\n",
       "    }\n",
       "</style>\n",
       "<table border=\"1\" class=\"dataframe\">\n",
       "  <thead>\n",
       "    <tr style=\"text-align: right;\">\n",
       "      <th></th>\n",
       "      <th>Country (region)</th>\n",
       "      <th>Ladder</th>\n",
       "      <th>SD of Ladder</th>\n",
       "      <th>Positive affect</th>\n",
       "      <th>Negative affect</th>\n",
       "      <th>Social support</th>\n",
       "      <th>Freedom</th>\n",
       "      <th>Corruption</th>\n",
       "      <th>Generosity</th>\n",
       "      <th>Log of GDP\\nper capita</th>\n",
       "      <th>Healthy life\\nexpectancy</th>\n",
       "    </tr>\n",
       "  </thead>\n",
       "  <tbody>\n",
       "    <tr>\n",
       "      <td>28</td>\n",
       "      <td>Qatar</td>\n",
       "      <td>29</td>\n",
       "      <td>86</td>\n",
       "      <td>NaN</td>\n",
       "      <td>NaN</td>\n",
       "      <td>NaN</td>\n",
       "      <td>NaN</td>\n",
       "      <td>NaN</td>\n",
       "      <td>NaN</td>\n",
       "      <td>1.0</td>\n",
       "      <td>43.0</td>\n",
       "    </tr>\n",
       "  </tbody>\n",
       "</table>\n",
       "</div>"
      ],
      "text/plain": [
       "   Country (region)  Ladder  SD of Ladder  Positive affect  Negative affect  \\\n",
       "28            Qatar      29            86              NaN              NaN   \n",
       "\n",
       "    Social support  Freedom  Corruption  Generosity  Log of GDP\\nper capita  \\\n",
       "28             NaN      NaN         NaN         NaN                     1.0   \n",
       "\n",
       "    Healthy life\\nexpectancy  \n",
       "28                      43.0  "
      ]
     },
     "execution_count": 96,
     "metadata": {},
     "output_type": "execute_result"
    }
   ],
   "source": [
    "data.loc[data['Positive affect'].isnull()]"
   ]
  },
  {
   "cell_type": "code",
   "execution_count": 97,
   "metadata": {},
   "outputs": [
    {
     "data": {
      "text/html": [
       "<div>\n",
       "<style scoped>\n",
       "    .dataframe tbody tr th:only-of-type {\n",
       "        vertical-align: middle;\n",
       "    }\n",
       "\n",
       "    .dataframe tbody tr th {\n",
       "        vertical-align: top;\n",
       "    }\n",
       "\n",
       "    .dataframe thead th {\n",
       "        text-align: right;\n",
       "    }\n",
       "</style>\n",
       "<table border=\"1\" class=\"dataframe\">\n",
       "  <thead>\n",
       "    <tr style=\"text-align: right;\">\n",
       "      <th></th>\n",
       "      <th>Country (region)</th>\n",
       "      <th>Ladder</th>\n",
       "      <th>SD of Ladder</th>\n",
       "      <th>Positive affect</th>\n",
       "      <th>Negative affect</th>\n",
       "      <th>Social support</th>\n",
       "      <th>Freedom</th>\n",
       "      <th>Corruption</th>\n",
       "      <th>Generosity</th>\n",
       "      <th>Log of GDP\\nper capita</th>\n",
       "      <th>Healthy life\\nexpectancy</th>\n",
       "    </tr>\n",
       "  </thead>\n",
       "  <tbody>\n",
       "    <tr>\n",
       "      <td>20</td>\n",
       "      <td>United Arab Emirates</td>\n",
       "      <td>21</td>\n",
       "      <td>65</td>\n",
       "      <td>43.0</td>\n",
       "      <td>56.0</td>\n",
       "      <td>72.0</td>\n",
       "      <td>4.0</td>\n",
       "      <td>NaN</td>\n",
       "      <td>15.0</td>\n",
       "      <td>4.0</td>\n",
       "      <td>60.0</td>\n",
       "    </tr>\n",
       "    <tr>\n",
       "      <td>27</td>\n",
       "      <td>Saudi Arabia</td>\n",
       "      <td>28</td>\n",
       "      <td>93</td>\n",
       "      <td>49.0</td>\n",
       "      <td>82.0</td>\n",
       "      <td>62.0</td>\n",
       "      <td>68.0</td>\n",
       "      <td>NaN</td>\n",
       "      <td>82.0</td>\n",
       "      <td>11.0</td>\n",
       "      <td>74.0</td>\n",
       "    </tr>\n",
       "    <tr>\n",
       "      <td>28</td>\n",
       "      <td>Qatar</td>\n",
       "      <td>29</td>\n",
       "      <td>86</td>\n",
       "      <td>NaN</td>\n",
       "      <td>NaN</td>\n",
       "      <td>NaN</td>\n",
       "      <td>NaN</td>\n",
       "      <td>NaN</td>\n",
       "      <td>NaN</td>\n",
       "      <td>1.0</td>\n",
       "      <td>43.0</td>\n",
       "    </tr>\n",
       "    <tr>\n",
       "      <td>36</td>\n",
       "      <td>Bahrain</td>\n",
       "      <td>37</td>\n",
       "      <td>83</td>\n",
       "      <td>39.0</td>\n",
       "      <td>83.0</td>\n",
       "      <td>59.0</td>\n",
       "      <td>24.0</td>\n",
       "      <td>NaN</td>\n",
       "      <td>23.0</td>\n",
       "      <td>20.0</td>\n",
       "      <td>42.0</td>\n",
       "    </tr>\n",
       "    <tr>\n",
       "      <td>50</td>\n",
       "      <td>Kuwait</td>\n",
       "      <td>51</td>\n",
       "      <td>98</td>\n",
       "      <td>89.0</td>\n",
       "      <td>97.0</td>\n",
       "      <td>69.0</td>\n",
       "      <td>47.0</td>\n",
       "      <td>NaN</td>\n",
       "      <td>42.0</td>\n",
       "      <td>5.0</td>\n",
       "      <td>70.0</td>\n",
       "    </tr>\n",
       "    <tr>\n",
       "      <td>86</td>\n",
       "      <td>Turkmenistan</td>\n",
       "      <td>87</td>\n",
       "      <td>2</td>\n",
       "      <td>135.0</td>\n",
       "      <td>63.0</td>\n",
       "      <td>8.0</td>\n",
       "      <td>83.0</td>\n",
       "      <td>NaN</td>\n",
       "      <td>33.0</td>\n",
       "      <td>60.0</td>\n",
       "      <td>100.0</td>\n",
       "    </tr>\n",
       "    <tr>\n",
       "      <td>92</td>\n",
       "      <td>China</td>\n",
       "      <td>93</td>\n",
       "      <td>72</td>\n",
       "      <td>21.0</td>\n",
       "      <td>11.0</td>\n",
       "      <td>108.0</td>\n",
       "      <td>31.0</td>\n",
       "      <td>NaN</td>\n",
       "      <td>133.0</td>\n",
       "      <td>68.0</td>\n",
       "      <td>34.0</td>\n",
       "    </tr>\n",
       "    <tr>\n",
       "      <td>100</td>\n",
       "      <td>Jordan</td>\n",
       "      <td>101</td>\n",
       "      <td>127</td>\n",
       "      <td>112.0</td>\n",
       "      <td>120.0</td>\n",
       "      <td>88.0</td>\n",
       "      <td>88.0</td>\n",
       "      <td>NaN</td>\n",
       "      <td>118.0</td>\n",
       "      <td>92.0</td>\n",
       "      <td>63.0</td>\n",
       "    </tr>\n",
       "  </tbody>\n",
       "</table>\n",
       "</div>"
      ],
      "text/plain": [
       "         Country (region)  Ladder  SD of Ladder  Positive affect  \\\n",
       "20   United Arab Emirates      21            65             43.0   \n",
       "27           Saudi Arabia      28            93             49.0   \n",
       "28                  Qatar      29            86              NaN   \n",
       "36                Bahrain      37            83             39.0   \n",
       "50                 Kuwait      51            98             89.0   \n",
       "86           Turkmenistan      87             2            135.0   \n",
       "92                  China      93            72             21.0   \n",
       "100                Jordan     101           127            112.0   \n",
       "\n",
       "     Negative affect  Social support  Freedom  Corruption  Generosity  \\\n",
       "20              56.0            72.0      4.0         NaN        15.0   \n",
       "27              82.0            62.0     68.0         NaN        82.0   \n",
       "28               NaN             NaN      NaN         NaN         NaN   \n",
       "36              83.0            59.0     24.0         NaN        23.0   \n",
       "50              97.0            69.0     47.0         NaN        42.0   \n",
       "86              63.0             8.0     83.0         NaN        33.0   \n",
       "92              11.0           108.0     31.0         NaN       133.0   \n",
       "100            120.0            88.0     88.0         NaN       118.0   \n",
       "\n",
       "     Log of GDP\\nper capita  Healthy life\\nexpectancy  \n",
       "20                      4.0                      60.0  \n",
       "27                     11.0                      74.0  \n",
       "28                      1.0                      43.0  \n",
       "36                     20.0                      42.0  \n",
       "50                      5.0                      70.0  \n",
       "86                     60.0                     100.0  \n",
       "92                     68.0                      34.0  \n",
       "100                    92.0                      63.0  "
      ]
     },
     "execution_count": 97,
     "metadata": {},
     "output_type": "execute_result"
    }
   ],
   "source": [
    "data.loc[data['Corruption'].isnull()]"
   ]
  },
  {
   "cell_type": "code",
   "execution_count": 85,
   "metadata": {},
   "outputs": [
    {
     "data": {
      "text/plain": [
       "array(['Finland', 'Denmark', 'Norway', 'Iceland', 'Netherlands',\n",
       "       'Switzerland', 'Sweden', 'New Zealand', 'Canada', 'Austria',\n",
       "       'Australia', 'Costa Rica', 'Israel', 'Luxembourg',\n",
       "       'United Kingdom', 'Ireland', 'Germany', 'Belgium', 'United States',\n",
       "       'Czech Republic', 'United Arab Emirates', 'Malta', 'Mexico',\n",
       "       'France', 'Taiwan', 'Chile', 'Guatemala', 'Saudi Arabia', 'Qatar',\n",
       "       'Spain', 'Panama', 'Brazil', 'Uruguay', 'Singapore', 'El Salvador',\n",
       "       'Italy', 'Bahrain', 'Slovakia', 'Trinidad and Tobago', 'Poland',\n",
       "       'Uzbekistan', 'Lithuania', 'Colombia', 'Slovenia', 'Nicaragua',\n",
       "       'Kosovo', 'Argentina', 'Romania', 'Cyprus', 'Ecuador', 'Kuwait',\n",
       "       'Thailand', 'Latvia', 'South Korea', 'Estonia', 'Jamaica',\n",
       "       'Mauritius', 'Japan', 'Honduras', 'Kazakhstan', 'Bolivia',\n",
       "       'Hungary', 'Paraguay', 'Northern Cyprus', 'Peru', 'Portugal',\n",
       "       'Pakistan', 'Russia', 'Philippines', 'Serbia', 'Moldova', 'Libya',\n",
       "       'Montenegro', 'Tajikistan', 'Croatia', 'Hong Kong',\n",
       "       'Dominican Republic', 'Bosnia and Herzegovina ', 'Turkey',\n",
       "       'Malaysia', 'Belarus', 'Greece', 'Mongolia', 'Macedonia',\n",
       "       'Nigeria', 'Kyrgyzstan', 'Turkmenistan', 'Algeria', 'Morocco',\n",
       "       'Azerbaijan', 'Lebanon', 'Indonesia', 'China', 'Vietnam', 'Bhutan',\n",
       "       'Cameroon', 'Bulgaria', 'Ghana', 'Ivory Coast', 'Nepal', 'Jordan',\n",
       "       'Benin', 'Congo (Brazzaville)', 'Gabon', 'Laos', 'South Africa',\n",
       "       'Albania', 'Venezuela', 'Cambodia', 'Palestinian Territories',\n",
       "       'Senegal', 'Somalia', 'Namibia', 'Niger', 'Burkina Faso',\n",
       "       'Armenia', 'Iran', 'Guinea', 'Georgia', 'Gambia', 'Kenya',\n",
       "       'Mauritania', 'Mozambique', 'Tunisia', 'Bangladesh', 'Iraq',\n",
       "       'Congo (Kinshasa)', 'Mali', 'Sierra Leone', 'Sri Lanka', 'Myanmar',\n",
       "       'Chad', 'Ukraine', 'Ethiopia', 'Swaziland', 'Uganda', 'Egypt',\n",
       "       'Zambia', 'Togo', 'India', 'Liberia', 'Comoros', 'Madagascar',\n",
       "       'Lesotho', 'Burundi', 'Zimbabwe', 'Haiti', 'Botswana', 'Syria',\n",
       "       'Malawi', 'Yemen', 'Rwanda', 'Tanzania', 'Afghanistan',\n",
       "       'Central African Republic', 'South Sudan'], dtype=object)"
      ]
     },
     "execution_count": 85,
     "metadata": {},
     "output_type": "execute_result"
    }
   ],
   "source": [
    "data['Country (region)'].unique()"
   ]
  },
  {
   "cell_type": "code",
   "execution_count": 88,
   "metadata": {},
   "outputs": [
    {
     "data": {
      "text/plain": [
       "156"
      ]
     },
     "execution_count": 88,
     "metadata": {},
     "output_type": "execute_result"
    }
   ],
   "source": [
    "len(data['Country (region)'].unique())"
   ]
  },
  {
   "cell_type": "markdown",
   "metadata": {},
   "source": [
    "В столбце Country (region) 156 стран."
   ]
  },
  {
   "cell_type": "code",
   "execution_count": 104,
   "metadata": {},
   "outputs": [],
   "source": [
    "# Исключим Катар из датасета (индекс строки 28, все показатели NaN) \n",
    "# Все оставшиеся значения NaN в столбце Corruption заполним нулями\n",
    "data = data[data.index != 28]\n",
    "data['Corruption'].fillna(0, inplace = True)"
   ]
  },
  {
   "cell_type": "code",
   "execution_count": 105,
   "metadata": {},
   "outputs": [
    {
     "name": "stdout",
     "output_type": "stream",
     "text": [
      "<class 'pandas.core.frame.DataFrame'>\n",
      "Int64Index: 155 entries, 0 to 155\n",
      "Data columns (total 11 columns):\n",
      "Country (region)           155 non-null object\n",
      "Ladder                     155 non-null int64\n",
      "SD of Ladder               155 non-null int64\n",
      "Positive affect            155 non-null float64\n",
      "Negative affect            155 non-null float64\n",
      "Social support             155 non-null float64\n",
      "Freedom                    155 non-null float64\n",
      "Corruption                 155 non-null float64\n",
      "Generosity                 155 non-null float64\n",
      "Log of GDP\n",
      "per capita      155 non-null float64\n",
      "Healthy life\n",
      "expectancy    155 non-null float64\n",
      "dtypes: float64(8), int64(2), object(1)\n",
      "memory usage: 14.5+ KB\n"
     ]
    }
   ],
   "source": [
    "data.info()"
   ]
  },
  {
   "cell_type": "code",
   "execution_count": 106,
   "metadata": {},
   "outputs": [
    {
     "data": {
      "text/html": [
       "<div>\n",
       "<style scoped>\n",
       "    .dataframe tbody tr th:only-of-type {\n",
       "        vertical-align: middle;\n",
       "    }\n",
       "\n",
       "    .dataframe tbody tr th {\n",
       "        vertical-align: top;\n",
       "    }\n",
       "\n",
       "    .dataframe thead th {\n",
       "        text-align: right;\n",
       "    }\n",
       "</style>\n",
       "<table border=\"1\" class=\"dataframe\">\n",
       "  <thead>\n",
       "    <tr style=\"text-align: right;\">\n",
       "      <th></th>\n",
       "      <th>Ladder</th>\n",
       "      <th>SD of Ladder</th>\n",
       "      <th>Positive affect</th>\n",
       "      <th>Negative affect</th>\n",
       "      <th>Social support</th>\n",
       "      <th>Freedom</th>\n",
       "      <th>Corruption</th>\n",
       "      <th>Generosity</th>\n",
       "      <th>Log of GDP\\nper capita</th>\n",
       "      <th>Healthy life\\nexpectancy</th>\n",
       "    </tr>\n",
       "  </thead>\n",
       "  <tbody>\n",
       "    <tr>\n",
       "      <td>Ladder</td>\n",
       "      <td>1.00</td>\n",
       "      <td>0.54</td>\n",
       "      <td>0.49</td>\n",
       "      <td>0.52</td>\n",
       "      <td>0.82</td>\n",
       "      <td>0.55</td>\n",
       "      <td>0.21</td>\n",
       "      <td>0.50</td>\n",
       "      <td>0.76</td>\n",
       "      <td>0.77</td>\n",
       "    </tr>\n",
       "    <tr>\n",
       "      <td>SD of Ladder</td>\n",
       "      <td>0.54</td>\n",
       "      <td>1.00</td>\n",
       "      <td>0.09</td>\n",
       "      <td>0.62</td>\n",
       "      <td>0.60</td>\n",
       "      <td>0.25</td>\n",
       "      <td>0.24</td>\n",
       "      <td>0.39</td>\n",
       "      <td>0.61</td>\n",
       "      <td>0.58</td>\n",
       "    </tr>\n",
       "    <tr>\n",
       "      <td>Positive affect</td>\n",
       "      <td>0.49</td>\n",
       "      <td>0.09</td>\n",
       "      <td>1.00</td>\n",
       "      <td>0.39</td>\n",
       "      <td>0.39</td>\n",
       "      <td>0.68</td>\n",
       "      <td>0.21</td>\n",
       "      <td>0.35</td>\n",
       "      <td>0.28</td>\n",
       "      <td>0.30</td>\n",
       "    </tr>\n",
       "    <tr>\n",
       "      <td>Negative affect</td>\n",
       "      <td>0.52</td>\n",
       "      <td>0.62</td>\n",
       "      <td>0.39</td>\n",
       "      <td>1.00</td>\n",
       "      <td>0.62</td>\n",
       "      <td>0.43</td>\n",
       "      <td>0.16</td>\n",
       "      <td>0.34</td>\n",
       "      <td>0.52</td>\n",
       "      <td>0.48</td>\n",
       "    </tr>\n",
       "    <tr>\n",
       "      <td>Social support</td>\n",
       "      <td>0.82</td>\n",
       "      <td>0.60</td>\n",
       "      <td>0.39</td>\n",
       "      <td>0.62</td>\n",
       "      <td>1.00</td>\n",
       "      <td>0.45</td>\n",
       "      <td>0.13</td>\n",
       "      <td>0.44</td>\n",
       "      <td>0.70</td>\n",
       "      <td>0.70</td>\n",
       "    </tr>\n",
       "    <tr>\n",
       "      <td>Freedom</td>\n",
       "      <td>0.55</td>\n",
       "      <td>0.25</td>\n",
       "      <td>0.68</td>\n",
       "      <td>0.43</td>\n",
       "      <td>0.45</td>\n",
       "      <td>1.00</td>\n",
       "      <td>0.40</td>\n",
       "      <td>0.49</td>\n",
       "      <td>0.38</td>\n",
       "      <td>0.37</td>\n",
       "    </tr>\n",
       "    <tr>\n",
       "      <td>Corruption</td>\n",
       "      <td>0.21</td>\n",
       "      <td>0.24</td>\n",
       "      <td>0.21</td>\n",
       "      <td>0.16</td>\n",
       "      <td>0.13</td>\n",
       "      <td>0.40</td>\n",
       "      <td>1.00</td>\n",
       "      <td>0.27</td>\n",
       "      <td>0.28</td>\n",
       "      <td>0.14</td>\n",
       "    </tr>\n",
       "    <tr>\n",
       "      <td>Generosity</td>\n",
       "      <td>0.50</td>\n",
       "      <td>0.39</td>\n",
       "      <td>0.35</td>\n",
       "      <td>0.34</td>\n",
       "      <td>0.44</td>\n",
       "      <td>0.49</td>\n",
       "      <td>0.27</td>\n",
       "      <td>1.00</td>\n",
       "      <td>0.47</td>\n",
       "      <td>0.40</td>\n",
       "    </tr>\n",
       "    <tr>\n",
       "      <td>Log of GDP\\nper capita</td>\n",
       "      <td>0.76</td>\n",
       "      <td>0.61</td>\n",
       "      <td>0.28</td>\n",
       "      <td>0.52</td>\n",
       "      <td>0.70</td>\n",
       "      <td>0.38</td>\n",
       "      <td>0.28</td>\n",
       "      <td>0.47</td>\n",
       "      <td>1.00</td>\n",
       "      <td>0.76</td>\n",
       "    </tr>\n",
       "    <tr>\n",
       "      <td>Healthy life\\nexpectancy</td>\n",
       "      <td>0.77</td>\n",
       "      <td>0.58</td>\n",
       "      <td>0.30</td>\n",
       "      <td>0.48</td>\n",
       "      <td>0.70</td>\n",
       "      <td>0.37</td>\n",
       "      <td>0.14</td>\n",
       "      <td>0.40</td>\n",
       "      <td>0.76</td>\n",
       "      <td>1.00</td>\n",
       "    </tr>\n",
       "  </tbody>\n",
       "</table>\n",
       "</div>"
      ],
      "text/plain": [
       "                          Ladder  SD of Ladder  Positive affect  \\\n",
       "Ladder                      1.00          0.54             0.49   \n",
       "SD of Ladder                0.54          1.00             0.09   \n",
       "Positive affect             0.49          0.09             1.00   \n",
       "Negative affect             0.52          0.62             0.39   \n",
       "Social support              0.82          0.60             0.39   \n",
       "Freedom                     0.55          0.25             0.68   \n",
       "Corruption                  0.21          0.24             0.21   \n",
       "Generosity                  0.50          0.39             0.35   \n",
       "Log of GDP\\nper capita      0.76          0.61             0.28   \n",
       "Healthy life\\nexpectancy    0.77          0.58             0.30   \n",
       "\n",
       "                          Negative affect  Social support  Freedom  \\\n",
       "Ladder                               0.52            0.82     0.55   \n",
       "SD of Ladder                         0.62            0.60     0.25   \n",
       "Positive affect                      0.39            0.39     0.68   \n",
       "Negative affect                      1.00            0.62     0.43   \n",
       "Social support                       0.62            1.00     0.45   \n",
       "Freedom                              0.43            0.45     1.00   \n",
       "Corruption                           0.16            0.13     0.40   \n",
       "Generosity                           0.34            0.44     0.49   \n",
       "Log of GDP\\nper capita               0.52            0.70     0.38   \n",
       "Healthy life\\nexpectancy             0.48            0.70     0.37   \n",
       "\n",
       "                          Corruption  Generosity  Log of GDP\\nper capita  \\\n",
       "Ladder                          0.21        0.50                    0.76   \n",
       "SD of Ladder                    0.24        0.39                    0.61   \n",
       "Positive affect                 0.21        0.35                    0.28   \n",
       "Negative affect                 0.16        0.34                    0.52   \n",
       "Social support                  0.13        0.44                    0.70   \n",
       "Freedom                         0.40        0.49                    0.38   \n",
       "Corruption                      1.00        0.27                    0.28   \n",
       "Generosity                      0.27        1.00                    0.47   \n",
       "Log of GDP\\nper capita          0.28        0.47                    1.00   \n",
       "Healthy life\\nexpectancy        0.14        0.40                    0.76   \n",
       "\n",
       "                          Healthy life\\nexpectancy  \n",
       "Ladder                                        0.77  \n",
       "SD of Ladder                                  0.58  \n",
       "Positive affect                               0.30  \n",
       "Negative affect                               0.48  \n",
       "Social support                                0.70  \n",
       "Freedom                                       0.37  \n",
       "Corruption                                    0.14  \n",
       "Generosity                                    0.40  \n",
       "Log of GDP\\nper capita                        0.76  \n",
       "Healthy life\\nexpectancy                      1.00  "
      ]
     },
     "execution_count": 106,
     "metadata": {},
     "output_type": "execute_result"
    }
   ],
   "source": [
    "# Матрица корреляций\n",
    "np.round_(data.corr(), decimals=2)"
   ]
  },
  {
   "cell_type": "markdown",
   "metadata": {},
   "source": [
    "Значительная прямая корреляция (более 75%) наблюдается между показателями:\n",
    " - Уровень жизни (Ladder) и ВВП на душу населения (Log of GDP per capita) - 76%\n",
    " - Уровень жизни (Ladder) и уровень здоровья (Healthy Life expectancy) - 77%\n",
    " - ВВП на душу населения (Log of GDP per capita) и уровень здоровья (Healthy Life expectancy) - 76%\n",
    " \n",
    "Сильная прямая корреляция (более 80%) наблюдается между показателями:\n",
    " - Социальная поддержка (Social support) и уровень жизни (Ladder) - 82%\n"
   ]
  },
  {
   "cell_type": "code",
   "execution_count": 107,
   "metadata": {},
   "outputs": [
    {
     "data": {
      "text/html": [
       "<div>\n",
       "<style scoped>\n",
       "    .dataframe tbody tr th:only-of-type {\n",
       "        vertical-align: middle;\n",
       "    }\n",
       "\n",
       "    .dataframe tbody tr th {\n",
       "        vertical-align: top;\n",
       "    }\n",
       "\n",
       "    .dataframe thead th {\n",
       "        text-align: right;\n",
       "    }\n",
       "</style>\n",
       "<table border=\"1\" class=\"dataframe\">\n",
       "  <thead>\n",
       "    <tr style=\"text-align: right;\">\n",
       "      <th></th>\n",
       "      <th>Social support</th>\n",
       "      <th>Ladder</th>\n",
       "    </tr>\n",
       "  </thead>\n",
       "  <tbody>\n",
       "    <tr>\n",
       "      <td>Social support</td>\n",
       "      <td>2015.000000</td>\n",
       "      <td>1657.428571</td>\n",
       "    </tr>\n",
       "    <tr>\n",
       "      <td>Ladder</td>\n",
       "      <td>1657.428571</td>\n",
       "      <td>2038.239883</td>\n",
       "    </tr>\n",
       "  </tbody>\n",
       "</table>\n",
       "</div>"
      ],
      "text/plain": [
       "                Social support       Ladder\n",
       "Social support     2015.000000  1657.428571\n",
       "Ladder             1657.428571  2038.239883"
      ]
     },
     "execution_count": 107,
     "metadata": {},
     "output_type": "execute_result"
    }
   ],
   "source": [
    "# Посчитаем ковариацию Social support и Ladder:\n",
    "data[['Social support', 'Ladder']].cov()"
   ]
  },
  {
   "cell_type": "code",
   "execution_count": 110,
   "metadata": {},
   "outputs": [
    {
     "data": {
      "text/plain": [
       "0.8231531139906075"
      ]
     },
     "execution_count": 110,
     "metadata": {},
     "output_type": "execute_result"
    }
   ],
   "source": [
    "# Посчитаем коэффициент корреляции Пирсона через ковариацию и стандартные отклонения:\n",
    "import statistics\n",
    "1657.428571/(statistics.pstdev(data['Social support'])*statistics.pstdev(data['Ladder']))"
   ]
  },
  {
   "cell_type": "markdown",
   "metadata": {},
   "source": [
    "Получили те же 82%"
   ]
  },
  {
   "cell_type": "markdown",
   "metadata": {
    "colab_type": "text",
    "id": "bwPmjFqesXOC"
   },
   "source": [
    "# Дискретное распределение случайной величины"
   ]
  },
  {
   "cell_type": "markdown",
   "metadata": {
    "colab_type": "text",
    "id": "5xwVwFr_s11_"
   },
   "source": [
    "Напишите код для моделирования 10 подбрасываний игрального кубика. Начертите диаграму histogram. Какое это распределение?"
   ]
  },
  {
   "cell_type": "code",
   "execution_count": 144,
   "metadata": {
    "colab": {},
    "colab_type": "code",
    "id": "3EEu6ofKs0x7"
   },
   "outputs": [
    {
     "data": {
      "image/png": "[encoded data removed]",
      "text/plain": [
       "<Figure size 432x288 with 1 Axes>"
      ]
     },
     "metadata": {
      "needs_background": "light"
     },
     "output_type": "display_data"
    }
   ],
   "source": [
    "# Количество испытаний\n",
    "n = 10\n",
    "# Геренируем последовательность из 10 случайных чисел в промежутке от 1 до 6 включительно\n",
    "values = np.random.randint(1, 7, size = n)\n",
    "plt.hist(values)\n",
    "\n",
    "plt.xlabel('Значение, выпавшее на кубике')\n",
    "plt.ylabel('Количества раз')\n",
    "plt.title('Подбрасывание кубика ' + str(n) + ' раз')\n",
    "plt.show()"
   ]
  },
  {
   "cell_type": "markdown",
   "metadata": {},
   "source": [
    "Это биномиальное распределение."
   ]
  },
  {
   "cell_type": "markdown",
   "metadata": {
    "colab_type": "text",
    "id": "irGnJ9bxtAor"
   },
   "source": [
    "Cмоделируйте 1000 раз сумму по 100 подбрасываний. Начертите диаграму histogram. Почему график изменился? Почему можно применить центральную предельную теорему?"
   ]
  },
  {
   "cell_type": "code",
   "execution_count": 146,
   "metadata": {},
   "outputs": [
    {
     "data": {
      "image/png": "[encoded data removed]",
      "text/plain": [
       "<Figure size 432x288 with 1 Axes>"
      ]
     },
     "metadata": {
      "needs_background": "light"
     },
     "output_type": "display_data"
    }
   ],
   "source": [
    "X1 = np.zeros(1000)\n",
    "for i in range(1000):\n",
    "    X1[i] = np.sum(np.random.randint(1, 7, size = 100))\n",
    "plt.hist(X1, 50)\n",
    "plt.xlabel('Сумма выпавших очков при 100 подбрасываниях')\n",
    "plt.ylabel('Количество раз')\n",
    "plt.show()"
   ]
  },
  {
   "cell_type": "markdown",
   "metadata": {},
   "source": [
    "Центральная предельная теорема говорит о том, что сумма достаточно большого количества слабо зависимых случайных величин, имеющих примерно одинаковые масштабы имеет распределение, близкое к нормальному. \n",
    "В нашем случае выпадение того или иного значение на игральном кубике - это случайная величина. Каждый бросок независим и каждый раз вероятность выпадения того или иного значения одна и та же, следовательно при большом количестве испытаний можем применить ЦПТ."
   ]
  },
  {
   "cell_type": "markdown",
   "metadata": {},
   "source": [
    "Получили распределение, похожее на нормальное."
   ]
  },
  {
   "cell_type": "code",
   "execution_count": null,
   "metadata": {},
   "outputs": [],
   "source": []
  }
 ],
 "metadata": {
  "colab": {
   "include_colab_link": true,
   "name": "dz_2.ipynb",
   "provenance": []
  },
  "kernelspec": {
   "display_name": "Python 3",
   "language": "python",
   "name": "python3"
  },
  "language_info": {
   "codemirror_mode": {
    "name": "ipython",
    "version": 3
   },
   "file_extension": ".py",
   "mimetype": "text/x-python",
   "name": "python",
   "nbconvert_exporter": "python",
   "pygments_lexer": "ipython3",
   "version": "3.7.4"
  }
 },
 "nbformat": 4,
 "nbformat_minor": 1
}
