{
 "cells": [
  {
   "cell_type": "markdown",
   "metadata": {
    "colab_type": "text",
    "id": "view-in-github"
   },
   "source": [
    "<a href=\"https://colab.research.google.com/github/yustinaivanova/netology_statistics/blob/master/dz_4_version2.ipynb\" target=\"_parent\"><img src=\"https://colab.research.google.com/assets/colab-badge.svg\" alt=\"Open In Colab\"/></a>"
   ]
  },
  {
   "cell_type": "markdown",
   "metadata": {
    "colab_type": "text",
    "id": "eY5OAxFSfZ9j"
   },
   "source": [
    "# Домашняя работа №4"
   ]
  },
  {
   "cell_type": "markdown",
   "metadata": {
    "colab_type": "text",
    "id": "bozSzxpJfgaR"
   },
   "source": [
    "Для датасета kaggle, Credit Card Fraud Detection. https://www.kaggle.com/mlg-ulb/creditcardfraud "
   ]
  },
  {
   "cell_type": "code",
   "execution_count": 2,
   "metadata": {},
   "outputs": [
    {
     "data": {
      "text/html": [
       "<div>\n",
       "<style scoped>\n",
       "    .dataframe tbody tr th:only-of-type {\n",
       "        vertical-align: middle;\n",
       "    }\n",
       "\n",
       "    .dataframe tbody tr th {\n",
       "        vertical-align: top;\n",
       "    }\n",
       "\n",
       "    .dataframe thead th {\n",
       "        text-align: right;\n",
       "    }\n",
       "</style>\n",
       "<table border=\"1\" class=\"dataframe\">\n",
       "  <thead>\n",
       "    <tr style=\"text-align: right;\">\n",
       "      <th></th>\n",
       "      <th>Time</th>\n",
       "      <th>V1</th>\n",
       "      <th>V2</th>\n",
       "      <th>V3</th>\n",
       "      <th>V4</th>\n",
       "      <th>V5</th>\n",
       "      <th>V6</th>\n",
       "      <th>V7</th>\n",
       "      <th>V8</th>\n",
       "      <th>V9</th>\n",
       "      <th>...</th>\n",
       "      <th>V21</th>\n",
       "      <th>V22</th>\n",
       "      <th>V23</th>\n",
       "      <th>V24</th>\n",
       "      <th>V25</th>\n",
       "      <th>V26</th>\n",
       "      <th>V27</th>\n",
       "      <th>V28</th>\n",
       "      <th>Amount</th>\n",
       "      <th>Class</th>\n",
       "    </tr>\n",
       "  </thead>\n",
       "  <tbody>\n",
       "    <tr>\n",
       "      <td>0</td>\n",
       "      <td>0.0</td>\n",
       "      <td>-1.359807</td>\n",
       "      <td>-0.072781</td>\n",
       "      <td>2.536347</td>\n",
       "      <td>1.378155</td>\n",
       "      <td>-0.338321</td>\n",
       "      <td>0.462388</td>\n",
       "      <td>0.239599</td>\n",
       "      <td>0.098698</td>\n",
       "      <td>0.363787</td>\n",
       "      <td>...</td>\n",
       "      <td>-0.018307</td>\n",
       "      <td>0.277838</td>\n",
       "      <td>-0.110474</td>\n",
       "      <td>0.066928</td>\n",
       "      <td>0.128539</td>\n",
       "      <td>-0.189115</td>\n",
       "      <td>0.133558</td>\n",
       "      <td>-0.021053</td>\n",
       "      <td>149.62</td>\n",
       "      <td>0</td>\n",
       "    </tr>\n",
       "    <tr>\n",
       "      <td>1</td>\n",
       "      <td>0.0</td>\n",
       "      <td>1.191857</td>\n",
       "      <td>0.266151</td>\n",
       "      <td>0.166480</td>\n",
       "      <td>0.448154</td>\n",
       "      <td>0.060018</td>\n",
       "      <td>-0.082361</td>\n",
       "      <td>-0.078803</td>\n",
       "      <td>0.085102</td>\n",
       "      <td>-0.255425</td>\n",
       "      <td>...</td>\n",
       "      <td>-0.225775</td>\n",
       "      <td>-0.638672</td>\n",
       "      <td>0.101288</td>\n",
       "      <td>-0.339846</td>\n",
       "      <td>0.167170</td>\n",
       "      <td>0.125895</td>\n",
       "      <td>-0.008983</td>\n",
       "      <td>0.014724</td>\n",
       "      <td>2.69</td>\n",
       "      <td>0</td>\n",
       "    </tr>\n",
       "    <tr>\n",
       "      <td>2</td>\n",
       "      <td>1.0</td>\n",
       "      <td>-1.358354</td>\n",
       "      <td>-1.340163</td>\n",
       "      <td>1.773209</td>\n",
       "      <td>0.379780</td>\n",
       "      <td>-0.503198</td>\n",
       "      <td>1.800499</td>\n",
       "      <td>0.791461</td>\n",
       "      <td>0.247676</td>\n",
       "      <td>-1.514654</td>\n",
       "      <td>...</td>\n",
       "      <td>0.247998</td>\n",
       "      <td>0.771679</td>\n",
       "      <td>0.909412</td>\n",
       "      <td>-0.689281</td>\n",
       "      <td>-0.327642</td>\n",
       "      <td>-0.139097</td>\n",
       "      <td>-0.055353</td>\n",
       "      <td>-0.059752</td>\n",
       "      <td>378.66</td>\n",
       "      <td>0</td>\n",
       "    </tr>\n",
       "    <tr>\n",
       "      <td>3</td>\n",
       "      <td>1.0</td>\n",
       "      <td>-0.966272</td>\n",
       "      <td>-0.185226</td>\n",
       "      <td>1.792993</td>\n",
       "      <td>-0.863291</td>\n",
       "      <td>-0.010309</td>\n",
       "      <td>1.247203</td>\n",
       "      <td>0.237609</td>\n",
       "      <td>0.377436</td>\n",
       "      <td>-1.387024</td>\n",
       "      <td>...</td>\n",
       "      <td>-0.108300</td>\n",
       "      <td>0.005274</td>\n",
       "      <td>-0.190321</td>\n",
       "      <td>-1.175575</td>\n",
       "      <td>0.647376</td>\n",
       "      <td>-0.221929</td>\n",
       "      <td>0.062723</td>\n",
       "      <td>0.061458</td>\n",
       "      <td>123.50</td>\n",
       "      <td>0</td>\n",
       "    </tr>\n",
       "    <tr>\n",
       "      <td>4</td>\n",
       "      <td>2.0</td>\n",
       "      <td>-1.158233</td>\n",
       "      <td>0.877737</td>\n",
       "      <td>1.548718</td>\n",
       "      <td>0.403034</td>\n",
       "      <td>-0.407193</td>\n",
       "      <td>0.095921</td>\n",
       "      <td>0.592941</td>\n",
       "      <td>-0.270533</td>\n",
       "      <td>0.817739</td>\n",
       "      <td>...</td>\n",
       "      <td>-0.009431</td>\n",
       "      <td>0.798278</td>\n",
       "      <td>-0.137458</td>\n",
       "      <td>0.141267</td>\n",
       "      <td>-0.206010</td>\n",
       "      <td>0.502292</td>\n",
       "      <td>0.219422</td>\n",
       "      <td>0.215153</td>\n",
       "      <td>69.99</td>\n",
       "      <td>0</td>\n",
       "    </tr>\n",
       "  </tbody>\n",
       "</table>\n",
       "<p>5 rows × 31 columns</p>\n",
       "</div>"
      ],
      "text/plain": [
       "   Time        V1        V2        V3        V4        V5        V6        V7  \\\n",
       "0   0.0 -1.359807 -0.072781  2.536347  1.378155 -0.338321  0.462388  0.239599   \n",
       "1   0.0  1.191857  0.266151  0.166480  0.448154  0.060018 -0.082361 -0.078803   \n",
       "2   1.0 -1.358354 -1.340163  1.773209  0.379780 -0.503198  1.800499  0.791461   \n",
       "3   1.0 -0.966272 -0.185226  1.792993 -0.863291 -0.010309  1.247203  0.237609   \n",
       "4   2.0 -1.158233  0.877737  1.548718  0.403034 -0.407193  0.095921  0.592941   \n",
       "\n",
       "         V8        V9  ...       V21       V22       V23       V24       V25  \\\n",
       "0  0.098698  0.363787  ... -0.018307  0.277838 -0.110474  0.066928  0.128539   \n",
       "1  0.085102 -0.255425  ... -0.225775 -0.638672  0.101288 -0.339846  0.167170   \n",
       "2  0.247676 -1.514654  ...  0.247998  0.771679  0.909412 -0.689281 -0.327642   \n",
       "3  0.377436 -1.387024  ... -0.108300  0.005274 -0.190321 -1.175575  0.647376   \n",
       "4 -0.270533  0.817739  ... -0.009431  0.798278 -0.137458  0.141267 -0.206010   \n",
       "\n",
       "        V26       V27       V28  Amount  Class  \n",
       "0 -0.189115  0.133558 -0.021053  149.62      0  \n",
       "1  0.125895 -0.008983  0.014724    2.69      0  \n",
       "2 -0.139097 -0.055353 -0.059752  378.66      0  \n",
       "3 -0.221929  0.062723  0.061458  123.50      0  \n",
       "4  0.502292  0.219422  0.215153   69.99      0  \n",
       "\n",
       "[5 rows x 31 columns]"
      ]
     },
     "execution_count": 2,
     "metadata": {},
     "output_type": "execute_result"
    }
   ],
   "source": [
    "import io\n",
    "import requests\n",
    "import ssl\n",
    "import pandas as pd\n",
    "import seaborn as sns\n",
    "# следующая строчка подключает сертификат для защищенного соединения\n",
    "ssl._create_default_https_context = ssl._create_unverified_context\n",
    "url=\"http://yustiks.ru/dataset/creditcard.csv\"\n",
    "dataset=pd.read_csv(url)\n",
    "dataset.head()\n"
   ]
  },
  {
   "cell_type": "markdown",
   "metadata": {
    "colab_type": "text",
    "id": "qvuEya_qflkG"
   },
   "source": [
    "**1. Загрузить датасет**"
   ]
  },
  {
   "cell_type": "markdown",
   "metadata": {
    "colab_type": "text",
    "id": "6gSTHiOJfqb2"
   },
   "source": [
    "**2. Посмотреть отсутствующие значения (какое количество Nan элементов).**"
   ]
  },
  {
   "cell_type": "code",
   "execution_count": 3,
   "metadata": {},
   "outputs": [
    {
     "name": "stdout",
     "output_type": "stream",
     "text": [
      "<class 'pandas.core.frame.DataFrame'>\n",
      "RangeIndex: 284807 entries, 0 to 284806\n",
      "Data columns (total 31 columns):\n",
      "Time      284807 non-null float64\n",
      "V1        284807 non-null float64\n",
      "V2        284807 non-null float64\n",
      "V3        284807 non-null float64\n",
      "V4        284807 non-null float64\n",
      "V5        284807 non-null float64\n",
      "V6        284807 non-null float64\n",
      "V7        284807 non-null float64\n",
      "V8        284807 non-null float64\n",
      "V9        284807 non-null float64\n",
      "V10       284807 non-null float64\n",
      "V11       284807 non-null float64\n",
      "V12       284807 non-null float64\n",
      "V13       284807 non-null float64\n",
      "V14       284807 non-null float64\n",
      "V15       284807 non-null float64\n",
      "V16       284807 non-null float64\n",
      "V17       284807 non-null float64\n",
      "V18       284807 non-null float64\n",
      "V19       284807 non-null float64\n",
      "V20       284807 non-null float64\n",
      "V21       284807 non-null float64\n",
      "V22       284807 non-null float64\n",
      "V23       284807 non-null float64\n",
      "V24       284807 non-null float64\n",
      "V25       284807 non-null float64\n",
      "V26       284807 non-null float64\n",
      "V27       284807 non-null float64\n",
      "V28       284807 non-null float64\n",
      "Amount    284807 non-null float64\n",
      "Class     284807 non-null int64\n",
      "dtypes: float64(30), int64(1)\n",
      "memory usage: 67.4 MB\n"
     ]
    }
   ],
   "source": [
    "dataset.info()\n"
   ]
  },
  {
   "cell_type": "markdown",
   "metadata": {},
   "source": [
    "В данном датасете нет отстутвующих элементов"
   ]
  },
  {
   "cell_type": "markdown",
   "metadata": {
    "colab_type": "text",
    "id": "OFDGPbTpf7wn"
   },
   "source": [
    "**3. Основное таргет значение: 1 - сделка была обманной, 0 - честной. Сделать график barplot для этих двух классов из колонки 'Class'. Посчитать количество элементов в классе 1 и в классе 2.**"
   ]
  },
  {
   "cell_type": "code",
   "execution_count": 4,
   "metadata": {},
   "outputs": [
    {
     "name": "stdout",
     "output_type": "stream",
     "text": [
      "Количество значений класса 0:  (284315, 31)\n",
      "Количество значений класса 1:  (492, 31)\n"
     ]
    }
   ],
   "source": [
    "print('Количество значений класса 0: ', dataset[dataset['Class']==0].shape)\n",
    "print('Количество значений класса 1: ', dataset[dataset['Class']==1].shape)\n"
   ]
  },
  {
   "cell_type": "code",
   "execution_count": 5,
   "metadata": {},
   "outputs": [
    {
     "data": {
      "text/plain": [
       "<matplotlib.axes._subplots.AxesSubplot at 0x1036e2190>"
      ]
     },
     "execution_count": 5,
     "metadata": {},
     "output_type": "execute_result"
    },
    {
     "data": {
      "image/png": "[encoded data removed]",
      "text/plain": [
       "<Figure size 432x288 with 1 Axes>"
      ]
     },
     "metadata": {
      "needs_background": "light"
     },
     "output_type": "display_data"
    }
   ],
   "source": [
    "sns.countplot(x = 'Class', data = dataset)\n"
   ]
  },
  {
   "cell_type": "markdown",
   "metadata": {},
   "source": [
    "Видно, что обманных операций много меньше, чем честных (обманных 492, честных 284315)"
   ]
  },
  {
   "cell_type": "markdown",
   "metadata": {
    "colab_type": "text",
    "id": "lSsrxdWNhEbt"
   },
   "source": [
    "**4. Сколько денег было использовано в обманных операциях, а сколько - в нормальных операциях?** Сделать частотный график по колонке Amount для колонки Class по двум независимым выборкам: обманная операция, нормальная операция"
   ]
  },
  {
   "cell_type": "code",
   "execution_count": 6,
   "metadata": {},
   "outputs": [
    {
     "data": {
      "text/plain": [
       "<matplotlib.axes._subplots.AxesSubplot at 0x102d81250>"
      ]
     },
     "execution_count": 6,
     "metadata": {},
     "output_type": "execute_result"
    },
    {
     "data": {
      "image/png": "[encoded data removed]",
      "text/plain": [
       "<Figure size 432x288 with 1 Axes>"
      ]
     },
     "metadata": {
      "needs_background": "light"
     },
     "output_type": "display_data"
    }
   ],
   "source": [
    "sns.barplot(x = 'Class', y = 'Amount', data = dataset, estimator = sum)\n"
   ]
  },
  {
   "cell_type": "code",
   "execution_count": 7,
   "metadata": {},
   "outputs": [
    {
     "name": "stdout",
     "output_type": "stream",
     "text": [
      "Количество денег в честных сделках (сделки класса 0):  25102462.04\n",
      "Количество денег в обманных сделках (сделки класса 1):  60127.97\n"
     ]
    }
   ],
   "source": [
    "print('Количество денег в честных сделках (сделки класса 0): ', dataset[dataset['Class']==0]['Amount'].sum())\n",
    "print('Количество денег в обманных сделках (сделки класса 1): ', dataset[dataset['Class']==1]['Amount'].sum())\n"
   ]
  },
  {
   "cell_type": "code",
   "execution_count": 8,
   "metadata": {},
   "outputs": [],
   "source": [
    "fair_deals = dataset[dataset['Class']==0]\n",
    "unfair_deals = dataset[dataset['Class']==1]\n"
   ]
  },
  {
   "cell_type": "code",
   "execution_count": 9,
   "metadata": {},
   "outputs": [
    {
     "data": {
      "image/png": "[encoded data removed]",
      "text/plain": [
       "<Figure size 432x288 with 1 Axes>"
      ]
     },
     "metadata": {
      "needs_background": "light"
     },
     "output_type": "display_data"
    }
   ],
   "source": [
    "import matplotlib.pyplot as plt\n",
    "plt.hist(fair_deals['Amount'])\n",
    "\n",
    "plt.xlabel('Сумма сделки')\n",
    "plt.ylabel('Частота')\n",
    "plt.title('Частотный график по колонке Amount для честных сделок')\n",
    "plt.grid(True)\n",
    "plt.show()\n"
   ]
  },
  {
   "cell_type": "markdown",
   "metadata": {},
   "source": [
    "Большинство честных сделок - это сделки до 5000 по сумме.\n",
    "Посмотрим более внимательно на честные сделки менее 5000:"
   ]
  },
  {
   "cell_type": "code",
   "execution_count": 10,
   "metadata": {},
   "outputs": [
    {
     "data": {
      "image/png": "[encoded data removed]",
      "text/plain": [
       "<Figure size 432x288 with 1 Axes>"
      ]
     },
     "metadata": {
      "needs_background": "light"
     },
     "output_type": "display_data"
    }
   ],
   "source": [
    "small_fair_deals = fair_deals[fair_deals['Amount'] < 5000]\n",
    "plt.hist(small_fair_deals['Amount'])\n",
    "\n",
    "plt.xlabel('Сумма сделки')\n",
    "plt.ylabel('Частота')\n",
    "plt.title('Частотный график по колонке Amount для честных сделок менее 5000')\n",
    "plt.grid(True)\n",
    "plt.show()"
   ]
  },
  {
   "cell_type": "markdown",
   "metadata": {},
   "source": [
    "Большинство честных сделок - это сделки по сумме до 1000"
   ]
  },
  {
   "cell_type": "code",
   "execution_count": 11,
   "metadata": {},
   "outputs": [
    {
     "data": {
      "image/png": "[encoded data removed]",
      "text/plain": [
       "<Figure size 432x288 with 1 Axes>"
      ]
     },
     "metadata": {
      "needs_background": "light"
     },
     "output_type": "display_data"
    }
   ],
   "source": [
    "plt.hist(unfair_deals['Amount'])\n",
    "\n",
    "plt.xlabel('Сумма сделки')\n",
    "plt.ylabel('Частота')\n",
    "plt.title('Частотный график по колонке Amount для нечетных сделок')\n",
    "plt.grid(True)\n",
    "plt.show()\n"
   ]
  },
  {
   "cell_type": "markdown",
   "metadata": {},
   "source": [
    "Обманные сделки, как видно из графика, это в основном мелкие сделки до 500. Крупные обманные сделки не превышают 2200 и по количеству являются единичными."
   ]
  },
  {
   "cell_type": "code",
   "execution_count": 12,
   "metadata": {},
   "outputs": [
    {
     "data": {
      "text/html": [
       "<div>\n",
       "<style scoped>\n",
       "    .dataframe tbody tr th:only-of-type {\n",
       "        vertical-align: middle;\n",
       "    }\n",
       "\n",
       "    .dataframe tbody tr th {\n",
       "        vertical-align: top;\n",
       "    }\n",
       "\n",
       "    .dataframe thead th {\n",
       "        text-align: right;\n",
       "    }\n",
       "</style>\n",
       "<table border=\"1\" class=\"dataframe\">\n",
       "  <thead>\n",
       "    <tr style=\"text-align: right;\">\n",
       "      <th></th>\n",
       "      <th>Time</th>\n",
       "      <th>V1</th>\n",
       "      <th>V2</th>\n",
       "      <th>V3</th>\n",
       "      <th>V4</th>\n",
       "      <th>V5</th>\n",
       "      <th>V6</th>\n",
       "      <th>V7</th>\n",
       "      <th>V8</th>\n",
       "      <th>V9</th>\n",
       "      <th>...</th>\n",
       "      <th>V21</th>\n",
       "      <th>V22</th>\n",
       "      <th>V23</th>\n",
       "      <th>V24</th>\n",
       "      <th>V25</th>\n",
       "      <th>V26</th>\n",
       "      <th>V27</th>\n",
       "      <th>V28</th>\n",
       "      <th>Amount</th>\n",
       "      <th>Class</th>\n",
       "    </tr>\n",
       "  </thead>\n",
       "  <tbody>\n",
       "    <tr>\n",
       "      <td>176049</td>\n",
       "      <td>122608.0</td>\n",
       "      <td>-2.00346</td>\n",
       "      <td>-7.159042</td>\n",
       "      <td>-4.050976</td>\n",
       "      <td>1.30958</td>\n",
       "      <td>-2.058102</td>\n",
       "      <td>-0.098621</td>\n",
       "      <td>2.880083</td>\n",
       "      <td>-0.727484</td>\n",
       "      <td>1.460381</td>\n",
       "      <td>...</td>\n",
       "      <td>1.244287</td>\n",
       "      <td>-1.015232</td>\n",
       "      <td>-1.800985</td>\n",
       "      <td>0.657586</td>\n",
       "      <td>-0.435617</td>\n",
       "      <td>-0.894509</td>\n",
       "      <td>-0.397557</td>\n",
       "      <td>0.314262</td>\n",
       "      <td>2125.87</td>\n",
       "      <td>1</td>\n",
       "    </tr>\n",
       "  </tbody>\n",
       "</table>\n",
       "<p>1 rows × 31 columns</p>\n",
       "</div>"
      ],
      "text/plain": [
       "            Time       V1        V2        V3       V4        V5        V6  \\\n",
       "176049  122608.0 -2.00346 -7.159042 -4.050976  1.30958 -2.058102 -0.098621   \n",
       "\n",
       "              V7        V8        V9  ...       V21       V22       V23  \\\n",
       "176049  2.880083 -0.727484  1.460381  ...  1.244287 -1.015232 -1.800985   \n",
       "\n",
       "             V24       V25       V26       V27       V28   Amount  Class  \n",
       "176049  0.657586 -0.435617 -0.894509 -0.397557  0.314262  2125.87      1  \n",
       "\n",
       "[1 rows x 31 columns]"
      ]
     },
     "execution_count": 12,
     "metadata": {},
     "output_type": "execute_result"
    }
   ],
   "source": [
    "#Самая крупная обманная сделка\n",
    "unfair_deals[unfair_deals['Amount'] > 2000]\n"
   ]
  },
  {
   "cell_type": "code",
   "execution_count": 13,
   "metadata": {},
   "outputs": [
    {
     "data": {
      "image/png": "[encoded data removed]",
      "text/plain": [
       "<Figure size 432x288 with 1 Axes>"
      ]
     },
     "metadata": {
      "needs_background": "light"
     },
     "output_type": "display_data"
    }
   ],
   "source": [
    "small_unfair_deals = unfair_deals[unfair_deals['Amount'] < 1000]\n",
    "plt.hist(small_unfair_deals['Amount'])\n",
    "\n",
    "plt.xlabel('Сумма сделки')\n",
    "plt.ylabel('Частота')\n",
    "plt.title('Частотный график по колонке Amount для нечестных сделок менее 1000')\n",
    "plt.grid(True)\n",
    "plt.show()\n"
   ]
  },
  {
   "cell_type": "markdown",
   "metadata": {},
   "source": [
    "В основном обманные сделки - это мелкие сделки до 100 по сумме."
   ]
  },
  {
   "cell_type": "markdown",
   "metadata": {
    "colab_type": "text",
    "id": "ZvLC_vQXiP0N"
   },
   "source": [
    "**5. Построить графики histograms для всех значений**"
   ]
  },
  {
   "cell_type": "code",
   "execution_count": 14,
   "metadata": {},
   "outputs": [
    {
     "data": {
      "image/png": "[encoded data removed]",
      "text/plain": [
       "<Figure size 1440x1440 with 36 Axes>"
      ]
     },
     "metadata": {
      "needs_background": "light"
     },
     "output_type": "display_data"
    }
   ],
   "source": [
    "dataset.hist(figsize=(20,20))\n",
    "plt.show()\n"
   ]
  },
  {
   "cell_type": "markdown",
   "metadata": {
    "colab_type": "text",
    "id": "APD2wPSpi_eH"
   },
   "source": [
    "**6. Построить матрицу корреляций для всех значений**"
   ]
  },
  {
   "cell_type": "markdown",
   "metadata": {},
   "source": [
    "Для того, чтобы посчитать матрицу корреляций, необходимо сначала нормализовать данные"
   ]
  },
  {
   "cell_type": "code",
   "execution_count": 15,
   "metadata": {},
   "outputs": [],
   "source": [
    "headers = list(dataset.columns.values)\n"
   ]
  },
  {
   "cell_type": "code",
   "execution_count": 16,
   "metadata": {},
   "outputs": [
    {
     "data": {
      "text/html": [
       "<div>\n",
       "<style scoped>\n",
       "    .dataframe tbody tr th:only-of-type {\n",
       "        vertical-align: middle;\n",
       "    }\n",
       "\n",
       "    .dataframe tbody tr th {\n",
       "        vertical-align: top;\n",
       "    }\n",
       "\n",
       "    .dataframe thead th {\n",
       "        text-align: right;\n",
       "    }\n",
       "</style>\n",
       "<table border=\"1\" class=\"dataframe\">\n",
       "  <thead>\n",
       "    <tr style=\"text-align: right;\">\n",
       "      <th></th>\n",
       "      <th>0</th>\n",
       "      <th>1</th>\n",
       "      <th>2</th>\n",
       "      <th>3</th>\n",
       "      <th>4</th>\n",
       "      <th>5</th>\n",
       "      <th>6</th>\n",
       "      <th>7</th>\n",
       "      <th>8</th>\n",
       "      <th>9</th>\n",
       "      <th>...</th>\n",
       "      <th>21</th>\n",
       "      <th>22</th>\n",
       "      <th>23</th>\n",
       "      <th>24</th>\n",
       "      <th>25</th>\n",
       "      <th>26</th>\n",
       "      <th>27</th>\n",
       "      <th>28</th>\n",
       "      <th>29</th>\n",
       "      <th>30</th>\n",
       "    </tr>\n",
       "  </thead>\n",
       "  <tbody>\n",
       "    <tr>\n",
       "      <td>0</td>\n",
       "      <td>-1.000000</td>\n",
       "      <td>0.870385</td>\n",
       "      <td>0.532981</td>\n",
       "      <td>0.762730</td>\n",
       "      <td>-0.373955</td>\n",
       "      <td>0.526877</td>\n",
       "      <td>-0.464663</td>\n",
       "      <td>-0.466370</td>\n",
       "      <td>0.572888</td>\n",
       "      <td>-0.049377</td>\n",
       "      <td>...</td>\n",
       "      <td>0.122369</td>\n",
       "      <td>0.045984</td>\n",
       "      <td>0.327586</td>\n",
       "      <td>-0.217495</td>\n",
       "      <td>0.170244</td>\n",
       "      <td>-0.210886</td>\n",
       "      <td>-0.162048</td>\n",
       "      <td>-0.374607</td>\n",
       "      <td>-0.988352</td>\n",
       "      <td>-1.0</td>\n",
       "    </tr>\n",
       "    <tr>\n",
       "      <td>1</td>\n",
       "      <td>-1.000000</td>\n",
       "      <td>0.957084</td>\n",
       "      <td>0.540133</td>\n",
       "      <td>0.680597</td>\n",
       "      <td>-0.456407</td>\n",
       "      <td>0.532241</td>\n",
       "      <td>-0.475617</td>\n",
       "      <td>-0.470249</td>\n",
       "      <td>0.572597</td>\n",
       "      <td>-0.092038</td>\n",
       "      <td>...</td>\n",
       "      <td>0.115680</td>\n",
       "      <td>-0.039526</td>\n",
       "      <td>0.333876</td>\n",
       "      <td>-0.327120</td>\n",
       "      <td>0.174581</td>\n",
       "      <td>-0.107974</td>\n",
       "      <td>-0.167310</td>\n",
       "      <td>-0.373155</td>\n",
       "      <td>-0.999791</td>\n",
       "      <td>-1.0</td>\n",
       "    </tr>\n",
       "    <tr>\n",
       "      <td>2</td>\n",
       "      <td>-0.999988</td>\n",
       "      <td>0.870434</td>\n",
       "      <td>0.506235</td>\n",
       "      <td>0.736282</td>\n",
       "      <td>-0.462469</td>\n",
       "      <td>0.524658</td>\n",
       "      <td>-0.437756</td>\n",
       "      <td>-0.459646</td>\n",
       "      <td>0.576085</td>\n",
       "      <td>-0.178795</td>\n",
       "      <td>...</td>\n",
       "      <td>0.130955</td>\n",
       "      <td>0.092060</td>\n",
       "      <td>0.357878</td>\n",
       "      <td>-0.421292</td>\n",
       "      <td>0.119030</td>\n",
       "      <td>-0.194546</td>\n",
       "      <td>-0.169021</td>\n",
       "      <td>-0.376177</td>\n",
       "      <td>-0.970522</td>\n",
       "      <td>-1.0</td>\n",
       "    </tr>\n",
       "    <tr>\n",
       "      <td>3</td>\n",
       "      <td>-0.999988</td>\n",
       "      <td>0.883756</td>\n",
       "      <td>0.530608</td>\n",
       "      <td>0.736967</td>\n",
       "      <td>-0.572678</td>\n",
       "      <td>0.531294</td>\n",
       "      <td>-0.448882</td>\n",
       "      <td>-0.466394</td>\n",
       "      <td>0.578868</td>\n",
       "      <td>-0.170001</td>\n",
       "      <td>...</td>\n",
       "      <td>0.119467</td>\n",
       "      <td>0.020554</td>\n",
       "      <td>0.325214</td>\n",
       "      <td>-0.552348</td>\n",
       "      <td>0.228491</td>\n",
       "      <td>-0.221607</td>\n",
       "      <td>-0.164663</td>\n",
       "      <td>-0.371258</td>\n",
       "      <td>-0.990386</td>\n",
       "      <td>-1.0</td>\n",
       "    </tr>\n",
       "    <tr>\n",
       "      <td>4</td>\n",
       "      <td>-0.999977</td>\n",
       "      <td>0.877234</td>\n",
       "      <td>0.553040</td>\n",
       "      <td>0.728501</td>\n",
       "      <td>-0.460407</td>\n",
       "      <td>0.525950</td>\n",
       "      <td>-0.472032</td>\n",
       "      <td>-0.462064</td>\n",
       "      <td>0.564967</td>\n",
       "      <td>-0.018101</td>\n",
       "      <td>...</td>\n",
       "      <td>0.122655</td>\n",
       "      <td>0.094541</td>\n",
       "      <td>0.326784</td>\n",
       "      <td>-0.197460</td>\n",
       "      <td>0.132685</td>\n",
       "      <td>0.014994</td>\n",
       "      <td>-0.158878</td>\n",
       "      <td>-0.365020</td>\n",
       "      <td>-0.994551</td>\n",
       "      <td>-1.0</td>\n",
       "    </tr>\n",
       "  </tbody>\n",
       "</table>\n",
       "<p>5 rows × 31 columns</p>\n",
       "</div>"
      ],
      "text/plain": [
       "         0         1         2         3         4         5         6   \\\n",
       "0 -1.000000  0.870385  0.532981  0.762730 -0.373955  0.526877 -0.464663   \n",
       "1 -1.000000  0.957084  0.540133  0.680597 -0.456407  0.532241 -0.475617   \n",
       "2 -0.999988  0.870434  0.506235  0.736282 -0.462469  0.524658 -0.437756   \n",
       "3 -0.999988  0.883756  0.530608  0.736967 -0.572678  0.531294 -0.448882   \n",
       "4 -0.999977  0.877234  0.553040  0.728501 -0.460407  0.525950 -0.472032   \n",
       "\n",
       "         7         8         9   ...        21        22        23        24  \\\n",
       "0 -0.466370  0.572888 -0.049377  ...  0.122369  0.045984  0.327586 -0.217495   \n",
       "1 -0.470249  0.572597 -0.092038  ...  0.115680 -0.039526  0.333876 -0.327120   \n",
       "2 -0.459646  0.576085 -0.178795  ...  0.130955  0.092060  0.357878 -0.421292   \n",
       "3 -0.466394  0.578868 -0.170001  ...  0.119467  0.020554  0.325214 -0.552348   \n",
       "4 -0.462064  0.564967 -0.018101  ...  0.122655  0.094541  0.326784 -0.197460   \n",
       "\n",
       "         25        26        27        28        29   30  \n",
       "0  0.170244 -0.210886 -0.162048 -0.374607 -0.988352 -1.0  \n",
       "1  0.174581 -0.107974 -0.167310 -0.373155 -0.999791 -1.0  \n",
       "2  0.119030 -0.194546 -0.169021 -0.376177 -0.970522 -1.0  \n",
       "3  0.228491 -0.221607 -0.164663 -0.371258 -0.990386 -1.0  \n",
       "4  0.132685  0.014994 -0.158878 -0.365020 -0.994551 -1.0  \n",
       "\n",
       "[5 rows x 31 columns]"
      ]
     },
     "execution_count": 16,
     "metadata": {},
     "output_type": "execute_result"
    }
   ],
   "source": [
    "from sklearn import preprocessing\n",
    "min_max_scaler = preprocessing.MinMaxScaler(feature_range=(-1,1))\n",
    "\n",
    "np_scaled = min_max_scaler.fit_transform(dataset)\n",
    "data_norm = pd.DataFrame(np_scaled)\n",
    "data_norm.head()\n"
   ]
  },
  {
   "cell_type": "code",
   "execution_count": 17,
   "metadata": {},
   "outputs": [
    {
     "data": {
      "text/html": [
       "<div>\n",
       "<style scoped>\n",
       "    .dataframe tbody tr th:only-of-type {\n",
       "        vertical-align: middle;\n",
       "    }\n",
       "\n",
       "    .dataframe tbody tr th {\n",
       "        vertical-align: top;\n",
       "    }\n",
       "\n",
       "    .dataframe thead th {\n",
       "        text-align: right;\n",
       "    }\n",
       "</style>\n",
       "<table border=\"1\" class=\"dataframe\">\n",
       "  <thead>\n",
       "    <tr style=\"text-align: right;\">\n",
       "      <th></th>\n",
       "      <th>Time</th>\n",
       "      <th>V1</th>\n",
       "      <th>V2</th>\n",
       "      <th>V3</th>\n",
       "      <th>V4</th>\n",
       "      <th>V5</th>\n",
       "      <th>V6</th>\n",
       "      <th>V7</th>\n",
       "      <th>V8</th>\n",
       "      <th>V9</th>\n",
       "      <th>...</th>\n",
       "      <th>V21</th>\n",
       "      <th>V22</th>\n",
       "      <th>V23</th>\n",
       "      <th>V24</th>\n",
       "      <th>V25</th>\n",
       "      <th>V26</th>\n",
       "      <th>V27</th>\n",
       "      <th>V28</th>\n",
       "      <th>Amount</th>\n",
       "      <th>Class</th>\n",
       "    </tr>\n",
       "  </thead>\n",
       "  <tbody>\n",
       "    <tr>\n",
       "      <td>0</td>\n",
       "      <td>-1.000000</td>\n",
       "      <td>0.870385</td>\n",
       "      <td>0.532981</td>\n",
       "      <td>0.762730</td>\n",
       "      <td>-0.373955</td>\n",
       "      <td>0.526877</td>\n",
       "      <td>-0.464663</td>\n",
       "      <td>-0.466370</td>\n",
       "      <td>0.572888</td>\n",
       "      <td>-0.049377</td>\n",
       "      <td>...</td>\n",
       "      <td>0.122369</td>\n",
       "      <td>0.045984</td>\n",
       "      <td>0.327586</td>\n",
       "      <td>-0.217495</td>\n",
       "      <td>0.170244</td>\n",
       "      <td>-0.210886</td>\n",
       "      <td>-0.162048</td>\n",
       "      <td>-0.374607</td>\n",
       "      <td>-0.988352</td>\n",
       "      <td>-1.0</td>\n",
       "    </tr>\n",
       "    <tr>\n",
       "      <td>1</td>\n",
       "      <td>-1.000000</td>\n",
       "      <td>0.957084</td>\n",
       "      <td>0.540133</td>\n",
       "      <td>0.680597</td>\n",
       "      <td>-0.456407</td>\n",
       "      <td>0.532241</td>\n",
       "      <td>-0.475617</td>\n",
       "      <td>-0.470249</td>\n",
       "      <td>0.572597</td>\n",
       "      <td>-0.092038</td>\n",
       "      <td>...</td>\n",
       "      <td>0.115680</td>\n",
       "      <td>-0.039526</td>\n",
       "      <td>0.333876</td>\n",
       "      <td>-0.327120</td>\n",
       "      <td>0.174581</td>\n",
       "      <td>-0.107974</td>\n",
       "      <td>-0.167310</td>\n",
       "      <td>-0.373155</td>\n",
       "      <td>-0.999791</td>\n",
       "      <td>-1.0</td>\n",
       "    </tr>\n",
       "    <tr>\n",
       "      <td>2</td>\n",
       "      <td>-0.999988</td>\n",
       "      <td>0.870434</td>\n",
       "      <td>0.506235</td>\n",
       "      <td>0.736282</td>\n",
       "      <td>-0.462469</td>\n",
       "      <td>0.524658</td>\n",
       "      <td>-0.437756</td>\n",
       "      <td>-0.459646</td>\n",
       "      <td>0.576085</td>\n",
       "      <td>-0.178795</td>\n",
       "      <td>...</td>\n",
       "      <td>0.130955</td>\n",
       "      <td>0.092060</td>\n",
       "      <td>0.357878</td>\n",
       "      <td>-0.421292</td>\n",
       "      <td>0.119030</td>\n",
       "      <td>-0.194546</td>\n",
       "      <td>-0.169021</td>\n",
       "      <td>-0.376177</td>\n",
       "      <td>-0.970522</td>\n",
       "      <td>-1.0</td>\n",
       "    </tr>\n",
       "    <tr>\n",
       "      <td>3</td>\n",
       "      <td>-0.999988</td>\n",
       "      <td>0.883756</td>\n",
       "      <td>0.530608</td>\n",
       "      <td>0.736967</td>\n",
       "      <td>-0.572678</td>\n",
       "      <td>0.531294</td>\n",
       "      <td>-0.448882</td>\n",
       "      <td>-0.466394</td>\n",
       "      <td>0.578868</td>\n",
       "      <td>-0.170001</td>\n",
       "      <td>...</td>\n",
       "      <td>0.119467</td>\n",
       "      <td>0.020554</td>\n",
       "      <td>0.325214</td>\n",
       "      <td>-0.552348</td>\n",
       "      <td>0.228491</td>\n",
       "      <td>-0.221607</td>\n",
       "      <td>-0.164663</td>\n",
       "      <td>-0.371258</td>\n",
       "      <td>-0.990386</td>\n",
       "      <td>-1.0</td>\n",
       "    </tr>\n",
       "    <tr>\n",
       "      <td>4</td>\n",
       "      <td>-0.999977</td>\n",
       "      <td>0.877234</td>\n",
       "      <td>0.553040</td>\n",
       "      <td>0.728501</td>\n",
       "      <td>-0.460407</td>\n",
       "      <td>0.525950</td>\n",
       "      <td>-0.472032</td>\n",
       "      <td>-0.462064</td>\n",
       "      <td>0.564967</td>\n",
       "      <td>-0.018101</td>\n",
       "      <td>...</td>\n",
       "      <td>0.122655</td>\n",
       "      <td>0.094541</td>\n",
       "      <td>0.326784</td>\n",
       "      <td>-0.197460</td>\n",
       "      <td>0.132685</td>\n",
       "      <td>0.014994</td>\n",
       "      <td>-0.158878</td>\n",
       "      <td>-0.365020</td>\n",
       "      <td>-0.994551</td>\n",
       "      <td>-1.0</td>\n",
       "    </tr>\n",
       "  </tbody>\n",
       "</table>\n",
       "<p>5 rows × 31 columns</p>\n",
       "</div>"
      ],
      "text/plain": [
       "       Time        V1        V2        V3        V4        V5        V6  \\\n",
       "0 -1.000000  0.870385  0.532981  0.762730 -0.373955  0.526877 -0.464663   \n",
       "1 -1.000000  0.957084  0.540133  0.680597 -0.456407  0.532241 -0.475617   \n",
       "2 -0.999988  0.870434  0.506235  0.736282 -0.462469  0.524658 -0.437756   \n",
       "3 -0.999988  0.883756  0.530608  0.736967 -0.572678  0.531294 -0.448882   \n",
       "4 -0.999977  0.877234  0.553040  0.728501 -0.460407  0.525950 -0.472032   \n",
       "\n",
       "         V7        V8        V9  ...       V21       V22       V23       V24  \\\n",
       "0 -0.466370  0.572888 -0.049377  ...  0.122369  0.045984  0.327586 -0.217495   \n",
       "1 -0.470249  0.572597 -0.092038  ...  0.115680 -0.039526  0.333876 -0.327120   \n",
       "2 -0.459646  0.576085 -0.178795  ...  0.130955  0.092060  0.357878 -0.421292   \n",
       "3 -0.466394  0.578868 -0.170001  ...  0.119467  0.020554  0.325214 -0.552348   \n",
       "4 -0.462064  0.564967 -0.018101  ...  0.122655  0.094541  0.326784 -0.197460   \n",
       "\n",
       "        V25       V26       V27       V28    Amount  Class  \n",
       "0  0.170244 -0.210886 -0.162048 -0.374607 -0.988352   -1.0  \n",
       "1  0.174581 -0.107974 -0.167310 -0.373155 -0.999791   -1.0  \n",
       "2  0.119030 -0.194546 -0.169021 -0.376177 -0.970522   -1.0  \n",
       "3  0.228491 -0.221607 -0.164663 -0.371258 -0.990386   -1.0  \n",
       "4  0.132685  0.014994 -0.158878 -0.365020 -0.994551   -1.0  \n",
       "\n",
       "[5 rows x 31 columns]"
      ]
     },
     "execution_count": 17,
     "metadata": {},
     "output_type": "execute_result"
    }
   ],
   "source": [
    "data_norm.columns = headers\n",
    "data_norm.head()\n"
   ]
  },
  {
   "cell_type": "code",
   "execution_count": 18,
   "metadata": {},
   "outputs": [
    {
     "data": {
      "text/plain": [
       "<matplotlib.axes._subplots.AxesSubplot at 0x1a19e14750>"
      ]
     },
     "execution_count": 18,
     "metadata": {},
     "output_type": "execute_result"
    },
    {
     "data": {
      "image/png": "[encoded data removed]",
      "text/plain": [
       "<Figure size 936x936 with 2 Axes>"
      ]
     },
     "metadata": {
      "needs_background": "light"
     },
     "output_type": "display_data"
    }
   ],
   "source": [
    "import numpy as np\n",
    "f, ax = plt.subplots(figsize=(13, 13))\n",
    "corr = np.round_(data_norm.corr(), decimals=2)\n",
    "sns.heatmap(corr,annot=False,cmap='RdYlGn',linewidths=0.2)\n"
   ]
  },
  {
   "cell_type": "markdown",
   "metadata": {},
   "source": [
    "Из матрицы корреляций видно, что наибольшую обратную корреляцию имеют параметры V2 и Amount, также довольно сильно коррелируют V5 и Amount. В остальном можно отметить, что показатели практически друг с другом не коррелируют."
   ]
  },
  {
   "cell_type": "markdown",
   "metadata": {},
   "source": [
    "**7. Взять все имеющиеся атрибуты из таблицы для предсказания. Разделить на тренировочные и тестовые. Написать модель деревья решений. Сделать classification report.**"
   ]
  },
  {
   "cell_type": "code",
   "execution_count": 19,
   "metadata": {},
   "outputs": [
    {
     "data": {
      "text/html": [
       "<div>\n",
       "<style scoped>\n",
       "    .dataframe tbody tr th:only-of-type {\n",
       "        vertical-align: middle;\n",
       "    }\n",
       "\n",
       "    .dataframe tbody tr th {\n",
       "        vertical-align: top;\n",
       "    }\n",
       "\n",
       "    .dataframe thead th {\n",
       "        text-align: right;\n",
       "    }\n",
       "</style>\n",
       "<table border=\"1\" class=\"dataframe\">\n",
       "  <thead>\n",
       "    <tr style=\"text-align: right;\">\n",
       "      <th></th>\n",
       "      <th>Time</th>\n",
       "      <th>V1</th>\n",
       "      <th>V2</th>\n",
       "      <th>V3</th>\n",
       "      <th>V4</th>\n",
       "      <th>V5</th>\n",
       "      <th>V6</th>\n",
       "      <th>V7</th>\n",
       "      <th>V8</th>\n",
       "      <th>V9</th>\n",
       "      <th>...</th>\n",
       "      <th>V20</th>\n",
       "      <th>V21</th>\n",
       "      <th>V22</th>\n",
       "      <th>V23</th>\n",
       "      <th>V24</th>\n",
       "      <th>V25</th>\n",
       "      <th>V26</th>\n",
       "      <th>V27</th>\n",
       "      <th>V28</th>\n",
       "      <th>Amount</th>\n",
       "    </tr>\n",
       "  </thead>\n",
       "  <tbody>\n",
       "    <tr>\n",
       "      <td>0</td>\n",
       "      <td>0.0</td>\n",
       "      <td>-1.359807</td>\n",
       "      <td>-0.072781</td>\n",
       "      <td>2.536347</td>\n",
       "      <td>1.378155</td>\n",
       "      <td>-0.338321</td>\n",
       "      <td>0.462388</td>\n",
       "      <td>0.239599</td>\n",
       "      <td>0.098698</td>\n",
       "      <td>0.363787</td>\n",
       "      <td>...</td>\n",
       "      <td>0.251412</td>\n",
       "      <td>-0.018307</td>\n",
       "      <td>0.277838</td>\n",
       "      <td>-0.110474</td>\n",
       "      <td>0.066928</td>\n",
       "      <td>0.128539</td>\n",
       "      <td>-0.189115</td>\n",
       "      <td>0.133558</td>\n",
       "      <td>-0.021053</td>\n",
       "      <td>149.62</td>\n",
       "    </tr>\n",
       "    <tr>\n",
       "      <td>1</td>\n",
       "      <td>0.0</td>\n",
       "      <td>1.191857</td>\n",
       "      <td>0.266151</td>\n",
       "      <td>0.166480</td>\n",
       "      <td>0.448154</td>\n",
       "      <td>0.060018</td>\n",
       "      <td>-0.082361</td>\n",
       "      <td>-0.078803</td>\n",
       "      <td>0.085102</td>\n",
       "      <td>-0.255425</td>\n",
       "      <td>...</td>\n",
       "      <td>-0.069083</td>\n",
       "      <td>-0.225775</td>\n",
       "      <td>-0.638672</td>\n",
       "      <td>0.101288</td>\n",
       "      <td>-0.339846</td>\n",
       "      <td>0.167170</td>\n",
       "      <td>0.125895</td>\n",
       "      <td>-0.008983</td>\n",
       "      <td>0.014724</td>\n",
       "      <td>2.69</td>\n",
       "    </tr>\n",
       "    <tr>\n",
       "      <td>2</td>\n",
       "      <td>1.0</td>\n",
       "      <td>-1.358354</td>\n",
       "      <td>-1.340163</td>\n",
       "      <td>1.773209</td>\n",
       "      <td>0.379780</td>\n",
       "      <td>-0.503198</td>\n",
       "      <td>1.800499</td>\n",
       "      <td>0.791461</td>\n",
       "      <td>0.247676</td>\n",
       "      <td>-1.514654</td>\n",
       "      <td>...</td>\n",
       "      <td>0.524980</td>\n",
       "      <td>0.247998</td>\n",
       "      <td>0.771679</td>\n",
       "      <td>0.909412</td>\n",
       "      <td>-0.689281</td>\n",
       "      <td>-0.327642</td>\n",
       "      <td>-0.139097</td>\n",
       "      <td>-0.055353</td>\n",
       "      <td>-0.059752</td>\n",
       "      <td>378.66</td>\n",
       "    </tr>\n",
       "    <tr>\n",
       "      <td>3</td>\n",
       "      <td>1.0</td>\n",
       "      <td>-0.966272</td>\n",
       "      <td>-0.185226</td>\n",
       "      <td>1.792993</td>\n",
       "      <td>-0.863291</td>\n",
       "      <td>-0.010309</td>\n",
       "      <td>1.247203</td>\n",
       "      <td>0.237609</td>\n",
       "      <td>0.377436</td>\n",
       "      <td>-1.387024</td>\n",
       "      <td>...</td>\n",
       "      <td>-0.208038</td>\n",
       "      <td>-0.108300</td>\n",
       "      <td>0.005274</td>\n",
       "      <td>-0.190321</td>\n",
       "      <td>-1.175575</td>\n",
       "      <td>0.647376</td>\n",
       "      <td>-0.221929</td>\n",
       "      <td>0.062723</td>\n",
       "      <td>0.061458</td>\n",
       "      <td>123.50</td>\n",
       "    </tr>\n",
       "  </tbody>\n",
       "</table>\n",
       "<p>4 rows × 30 columns</p>\n",
       "</div>"
      ],
      "text/plain": [
       "   Time        V1        V2        V3        V4        V5        V6        V7  \\\n",
       "0   0.0 -1.359807 -0.072781  2.536347  1.378155 -0.338321  0.462388  0.239599   \n",
       "1   0.0  1.191857  0.266151  0.166480  0.448154  0.060018 -0.082361 -0.078803   \n",
       "2   1.0 -1.358354 -1.340163  1.773209  0.379780 -0.503198  1.800499  0.791461   \n",
       "3   1.0 -0.966272 -0.185226  1.792993 -0.863291 -0.010309  1.247203  0.237609   \n",
       "\n",
       "         V8        V9  ...       V20       V21       V22       V23       V24  \\\n",
       "0  0.098698  0.363787  ...  0.251412 -0.018307  0.277838 -0.110474  0.066928   \n",
       "1  0.085102 -0.255425  ... -0.069083 -0.225775 -0.638672  0.101288 -0.339846   \n",
       "2  0.247676 -1.514654  ...  0.524980  0.247998  0.771679  0.909412 -0.689281   \n",
       "3  0.377436 -1.387024  ... -0.208038 -0.108300  0.005274 -0.190321 -1.175575   \n",
       "\n",
       "        V25       V26       V27       V28  Amount  \n",
       "0  0.128539 -0.189115  0.133558 -0.021053  149.62  \n",
       "1  0.167170  0.125895 -0.008983  0.014724    2.69  \n",
       "2 -0.327642 -0.139097 -0.055353 -0.059752  378.66  \n",
       "3  0.647376 -0.221929  0.062723  0.061458  123.50  \n",
       "\n",
       "[4 rows x 30 columns]"
      ]
     },
     "execution_count": 19,
     "metadata": {},
     "output_type": "execute_result"
    }
   ],
   "source": [
    "data = dataset.iloc[:,:30]\n",
    "data[:4]\n"
   ]
  },
  {
   "cell_type": "code",
   "execution_count": 20,
   "metadata": {},
   "outputs": [],
   "source": [
    "output_y = dataset.iloc[:,30:]\n",
    "input_x = data\n"
   ]
  },
  {
   "cell_type": "code",
   "execution_count": 29,
   "metadata": {},
   "outputs": [
    {
     "data": {
      "text/html": [
       "<div>\n",
       "<style scoped>\n",
       "    .dataframe tbody tr th:only-of-type {\n",
       "        vertical-align: middle;\n",
       "    }\n",
       "\n",
       "    .dataframe tbody tr th {\n",
       "        vertical-align: top;\n",
       "    }\n",
       "\n",
       "    .dataframe thead th {\n",
       "        text-align: right;\n",
       "    }\n",
       "</style>\n",
       "<table border=\"1\" class=\"dataframe\">\n",
       "  <thead>\n",
       "    <tr style=\"text-align: right;\">\n",
       "      <th></th>\n",
       "      <th>Class</th>\n",
       "    </tr>\n",
       "  </thead>\n",
       "  <tbody>\n",
       "    <tr>\n",
       "      <td>0</td>\n",
       "      <td>0</td>\n",
       "    </tr>\n",
       "    <tr>\n",
       "      <td>1</td>\n",
       "      <td>0</td>\n",
       "    </tr>\n",
       "    <tr>\n",
       "      <td>2</td>\n",
       "      <td>0</td>\n",
       "    </tr>\n",
       "    <tr>\n",
       "      <td>3</td>\n",
       "      <td>0</td>\n",
       "    </tr>\n",
       "    <tr>\n",
       "      <td>4</td>\n",
       "      <td>0</td>\n",
       "    </tr>\n",
       "    <tr>\n",
       "      <td>...</td>\n",
       "      <td>...</td>\n",
       "    </tr>\n",
       "    <tr>\n",
       "      <td>284802</td>\n",
       "      <td>0</td>\n",
       "    </tr>\n",
       "    <tr>\n",
       "      <td>284803</td>\n",
       "      <td>0</td>\n",
       "    </tr>\n",
       "    <tr>\n",
       "      <td>284804</td>\n",
       "      <td>0</td>\n",
       "    </tr>\n",
       "    <tr>\n",
       "      <td>284805</td>\n",
       "      <td>0</td>\n",
       "    </tr>\n",
       "    <tr>\n",
       "      <td>284806</td>\n",
       "      <td>0</td>\n",
       "    </tr>\n",
       "  </tbody>\n",
       "</table>\n",
       "<p>284807 rows × 1 columns</p>\n",
       "</div>"
      ],
      "text/plain": [
       "        Class\n",
       "0           0\n",
       "1           0\n",
       "2           0\n",
       "3           0\n",
       "4           0\n",
       "...       ...\n",
       "284802      0\n",
       "284803      0\n",
       "284804      0\n",
       "284805      0\n",
       "284806      0\n",
       "\n",
       "[284807 rows x 1 columns]"
      ]
     },
     "execution_count": 29,
     "metadata": {},
     "output_type": "execute_result"
    }
   ],
   "source": [
    "output_y"
   ]
  },
  {
   "cell_type": "code",
   "execution_count": 33,
   "metadata": {},
   "outputs": [],
   "source": [
    "from sklearn.preprocessing import LabelEncoder\n",
    "le=LabelEncoder()\n",
    "targets=output_y\n",
    "Y=le.fit_transform(targets)\n"
   ]
  },
  {
   "cell_type": "code",
   "execution_count": 34,
   "metadata": {},
   "outputs": [],
   "source": [
    "from sklearn.model_selection import train_test_split\n",
    "X_train, X_test, y_train, y_test = train_test_split(input_x, Y, test_size=0.3)\n"
   ]
  },
  {
   "cell_type": "markdown",
   "metadata": {},
   "source": [
    "Модель Random Forest"
   ]
  },
  {
   "cell_type": "code",
   "execution_count": 35,
   "metadata": {},
   "outputs": [
    {
     "data": {
      "text/plain": [
       "RandomForestClassifier(bootstrap=True, ccp_alpha=0.0, class_weight=None,\n",
       "                       criterion='gini', max_depth=None, max_features='auto',\n",
       "                       max_leaf_nodes=None, max_samples=None,\n",
       "                       min_impurity_decrease=0.0, min_impurity_split=None,\n",
       "                       min_samples_leaf=1, min_samples_split=2,\n",
       "                       min_weight_fraction_leaf=0.0, n_estimators=100,\n",
       "                       n_jobs=None, oob_score=False, random_state=None,\n",
       "                       verbose=0, warm_start=False)"
      ]
     },
     "execution_count": 35,
     "metadata": {},
     "output_type": "execute_result"
    }
   ],
   "source": [
    "from sklearn.ensemble import RandomForestClassifier\n",
    "\n",
    "# создаем модель деревья решений\n",
    "# выбираем 100 деревьев в качестве параметра\n",
    "model=RandomForestClassifier(n_estimators=100)\n",
    "\n",
    "# обучаем модель\n",
    "model.fit(X_train,y_train)\n"
   ]
  },
  {
   "cell_type": "markdown",
   "metadata": {},
   "source": [
    "Classification report:"
   ]
  },
  {
   "cell_type": "code",
   "execution_count": 36,
   "metadata": {},
   "outputs": [
    {
     "name": "stdout",
     "output_type": "stream",
     "text": [
      "              precision    recall  f1-score   support\n",
      "\n",
      "           0       1.00      1.00      1.00     85289\n",
      "           1       0.94      0.79      0.86       154\n",
      "\n",
      "    accuracy                           1.00     85443\n",
      "   macro avg       0.97      0.89      0.93     85443\n",
      "weighted avg       1.00      1.00      1.00     85443\n",
      "\n"
     ]
    },
    {
     "data": {
      "text/plain": [
       "0.9995201479348805"
      ]
     },
     "execution_count": 36,
     "metadata": {},
     "output_type": "execute_result"
    }
   ],
   "source": [
    "from sklearn.metrics import classification_report\n",
    "\n",
    "model_pred = model.predict(X_test)\n",
    "\n",
    "print(classification_report(y_test, model_pred))\n",
    "\n",
    "model.score(X_test, y_test)\n"
   ]
  },
  {
   "cell_type": "markdown",
   "metadata": {},
   "source": [
    "Общая точнсть предсказаний очень высокая - 99 % . Точность по предсказанию нечестных сделок - 94%. "
   ]
  },
  {
   "cell_type": "markdown",
   "metadata": {
    "colab_type": "text",
    "id": "9LPV_8ixUE1X"
   },
   "source": [
    "**8. Нормализовать данные и написать модель Random Forest уже на нормализованных данных. Сделать classification report. Сравнить с результатом, полученном в задаче 7. Нужно ли нормализовывать данные?**"
   ]
  },
  {
   "cell_type": "code",
   "execution_count": 37,
   "metadata": {},
   "outputs": [],
   "source": [
    "data_norm = data_norm.iloc[:,:30]\n",
    "output_y = dataset.iloc[:,30:]\n",
    "input_x = data_norm"
   ]
  },
  {
   "cell_type": "code",
   "execution_count": 43,
   "metadata": {},
   "outputs": [],
   "source": [
    "from sklearn.preprocessing import LabelEncoder\n",
    "le=LabelEncoder()\n",
    "targets=output_y\n",
    "Y=le.fit_transform(targets)"
   ]
  },
  {
   "cell_type": "code",
   "execution_count": 44,
   "metadata": {},
   "outputs": [],
   "source": [
    "from sklearn.model_selection import train_test_split\n",
    "X_train, X_test, y_train, y_test = train_test_split(input_x, Y, test_size=0.3)"
   ]
  },
  {
   "cell_type": "code",
   "execution_count": 45,
   "metadata": {},
   "outputs": [
    {
     "data": {
      "text/plain": [
       "RandomForestClassifier(bootstrap=True, ccp_alpha=0.0, class_weight=None,\n",
       "                       criterion='gini', max_depth=None, max_features='auto',\n",
       "                       max_leaf_nodes=None, max_samples=None,\n",
       "                       min_impurity_decrease=0.0, min_impurity_split=None,\n",
       "                       min_samples_leaf=1, min_samples_split=2,\n",
       "                       min_weight_fraction_leaf=0.0, n_estimators=100,\n",
       "                       n_jobs=None, oob_score=False, random_state=None,\n",
       "                       verbose=0, warm_start=False)"
      ]
     },
     "execution_count": 45,
     "metadata": {},
     "output_type": "execute_result"
    }
   ],
   "source": [
    "from sklearn.ensemble import RandomForestClassifier\n",
    "\n",
    "# создаем модель деревья решений\n",
    "# выбираем 100 деревьев в качестве параметра\n",
    "model=RandomForestClassifier(n_estimators=100)\n",
    "\n",
    "# обучаем модель\n",
    "model.fit(X_train,y_train)"
   ]
  },
  {
   "cell_type": "code",
   "execution_count": 46,
   "metadata": {},
   "outputs": [
    {
     "name": "stdout",
     "output_type": "stream",
     "text": [
      "              precision    recall  f1-score   support\n",
      "\n",
      "           0       1.00      1.00      1.00     85281\n",
      "           1       0.97      0.70      0.82       162\n",
      "\n",
      "    accuracy                           1.00     85443\n",
      "   macro avg       0.99      0.85      0.91     85443\n",
      "weighted avg       1.00      1.00      1.00     85443\n",
      "\n"
     ]
    },
    {
     "data": {
      "text/plain": [
       "0.999403110845827"
      ]
     },
     "execution_count": 46,
     "metadata": {},
     "output_type": "execute_result"
    }
   ],
   "source": [
    "from sklearn.metrics import classification_report\n",
    "\n",
    "model_pred = model.predict(X_test)\n",
    "\n",
    "print(classification_report(y_test, model_pred))\n",
    "\n",
    "model.score(X_test, y_test)"
   ]
  },
  {
   "cell_type": "markdown",
   "metadata": {},
   "source": [
    "Общая точность предсказаний для нормализованных данных не изменилась (99%)."
   ]
  },
  {
   "cell_type": "markdown",
   "metadata": {},
   "source": [
    "**9. Уравновесить классы с помощью up-sampling (тестовые данные не меняем, только тренировочные).**"
   ]
  },
  {
   "cell_type": "markdown",
   "metadata": {},
   "source": [
    "Нормируем датасет:"
   ]
  },
  {
   "cell_type": "code",
   "execution_count": 47,
   "metadata": {},
   "outputs": [
    {
     "data": {
      "text/html": [
       "<div>\n",
       "<style scoped>\n",
       "    .dataframe tbody tr th:only-of-type {\n",
       "        vertical-align: middle;\n",
       "    }\n",
       "\n",
       "    .dataframe tbody tr th {\n",
       "        vertical-align: top;\n",
       "    }\n",
       "\n",
       "    .dataframe thead th {\n",
       "        text-align: right;\n",
       "    }\n",
       "</style>\n",
       "<table border=\"1\" class=\"dataframe\">\n",
       "  <thead>\n",
       "    <tr style=\"text-align: right;\">\n",
       "      <th></th>\n",
       "      <th>Time</th>\n",
       "      <th>V1</th>\n",
       "      <th>V2</th>\n",
       "      <th>V3</th>\n",
       "      <th>V4</th>\n",
       "      <th>V5</th>\n",
       "      <th>V6</th>\n",
       "      <th>V7</th>\n",
       "      <th>V8</th>\n",
       "      <th>V9</th>\n",
       "      <th>...</th>\n",
       "      <th>V21</th>\n",
       "      <th>V22</th>\n",
       "      <th>V23</th>\n",
       "      <th>V24</th>\n",
       "      <th>V25</th>\n",
       "      <th>V26</th>\n",
       "      <th>V27</th>\n",
       "      <th>V28</th>\n",
       "      <th>Amount</th>\n",
       "      <th>Class</th>\n",
       "    </tr>\n",
       "  </thead>\n",
       "  <tbody>\n",
       "    <tr>\n",
       "      <td>0</td>\n",
       "      <td>-1.000000</td>\n",
       "      <td>0.870385</td>\n",
       "      <td>0.532981</td>\n",
       "      <td>0.762730</td>\n",
       "      <td>-0.373955</td>\n",
       "      <td>0.526877</td>\n",
       "      <td>-0.464663</td>\n",
       "      <td>-0.466370</td>\n",
       "      <td>0.572888</td>\n",
       "      <td>-0.049377</td>\n",
       "      <td>...</td>\n",
       "      <td>0.122369</td>\n",
       "      <td>0.045984</td>\n",
       "      <td>0.327586</td>\n",
       "      <td>-0.217495</td>\n",
       "      <td>0.170244</td>\n",
       "      <td>-0.210886</td>\n",
       "      <td>-0.162048</td>\n",
       "      <td>-0.374607</td>\n",
       "      <td>-0.988352</td>\n",
       "      <td>-1.0</td>\n",
       "    </tr>\n",
       "    <tr>\n",
       "      <td>1</td>\n",
       "      <td>-1.000000</td>\n",
       "      <td>0.957084</td>\n",
       "      <td>0.540133</td>\n",
       "      <td>0.680597</td>\n",
       "      <td>-0.456407</td>\n",
       "      <td>0.532241</td>\n",
       "      <td>-0.475617</td>\n",
       "      <td>-0.470249</td>\n",
       "      <td>0.572597</td>\n",
       "      <td>-0.092038</td>\n",
       "      <td>...</td>\n",
       "      <td>0.115680</td>\n",
       "      <td>-0.039526</td>\n",
       "      <td>0.333876</td>\n",
       "      <td>-0.327120</td>\n",
       "      <td>0.174581</td>\n",
       "      <td>-0.107974</td>\n",
       "      <td>-0.167310</td>\n",
       "      <td>-0.373155</td>\n",
       "      <td>-0.999791</td>\n",
       "      <td>-1.0</td>\n",
       "    </tr>\n",
       "    <tr>\n",
       "      <td>2</td>\n",
       "      <td>-0.999988</td>\n",
       "      <td>0.870434</td>\n",
       "      <td>0.506235</td>\n",
       "      <td>0.736282</td>\n",
       "      <td>-0.462469</td>\n",
       "      <td>0.524658</td>\n",
       "      <td>-0.437756</td>\n",
       "      <td>-0.459646</td>\n",
       "      <td>0.576085</td>\n",
       "      <td>-0.178795</td>\n",
       "      <td>...</td>\n",
       "      <td>0.130955</td>\n",
       "      <td>0.092060</td>\n",
       "      <td>0.357878</td>\n",
       "      <td>-0.421292</td>\n",
       "      <td>0.119030</td>\n",
       "      <td>-0.194546</td>\n",
       "      <td>-0.169021</td>\n",
       "      <td>-0.376177</td>\n",
       "      <td>-0.970522</td>\n",
       "      <td>-1.0</td>\n",
       "    </tr>\n",
       "    <tr>\n",
       "      <td>3</td>\n",
       "      <td>-0.999988</td>\n",
       "      <td>0.883756</td>\n",
       "      <td>0.530608</td>\n",
       "      <td>0.736967</td>\n",
       "      <td>-0.572678</td>\n",
       "      <td>0.531294</td>\n",
       "      <td>-0.448882</td>\n",
       "      <td>-0.466394</td>\n",
       "      <td>0.578868</td>\n",
       "      <td>-0.170001</td>\n",
       "      <td>...</td>\n",
       "      <td>0.119467</td>\n",
       "      <td>0.020554</td>\n",
       "      <td>0.325214</td>\n",
       "      <td>-0.552348</td>\n",
       "      <td>0.228491</td>\n",
       "      <td>-0.221607</td>\n",
       "      <td>-0.164663</td>\n",
       "      <td>-0.371258</td>\n",
       "      <td>-0.990386</td>\n",
       "      <td>-1.0</td>\n",
       "    </tr>\n",
       "    <tr>\n",
       "      <td>4</td>\n",
       "      <td>-0.999977</td>\n",
       "      <td>0.877234</td>\n",
       "      <td>0.553040</td>\n",
       "      <td>0.728501</td>\n",
       "      <td>-0.460407</td>\n",
       "      <td>0.525950</td>\n",
       "      <td>-0.472032</td>\n",
       "      <td>-0.462064</td>\n",
       "      <td>0.564967</td>\n",
       "      <td>-0.018101</td>\n",
       "      <td>...</td>\n",
       "      <td>0.122655</td>\n",
       "      <td>0.094541</td>\n",
       "      <td>0.326784</td>\n",
       "      <td>-0.197460</td>\n",
       "      <td>0.132685</td>\n",
       "      <td>0.014994</td>\n",
       "      <td>-0.158878</td>\n",
       "      <td>-0.365020</td>\n",
       "      <td>-0.994551</td>\n",
       "      <td>-1.0</td>\n",
       "    </tr>\n",
       "  </tbody>\n",
       "</table>\n",
       "<p>5 rows × 31 columns</p>\n",
       "</div>"
      ],
      "text/plain": [
       "       Time        V1        V2        V3        V4        V5        V6  \\\n",
       "0 -1.000000  0.870385  0.532981  0.762730 -0.373955  0.526877 -0.464663   \n",
       "1 -1.000000  0.957084  0.540133  0.680597 -0.456407  0.532241 -0.475617   \n",
       "2 -0.999988  0.870434  0.506235  0.736282 -0.462469  0.524658 -0.437756   \n",
       "3 -0.999988  0.883756  0.530608  0.736967 -0.572678  0.531294 -0.448882   \n",
       "4 -0.999977  0.877234  0.553040  0.728501 -0.460407  0.525950 -0.472032   \n",
       "\n",
       "         V7        V8        V9  ...       V21       V22       V23       V24  \\\n",
       "0 -0.466370  0.572888 -0.049377  ...  0.122369  0.045984  0.327586 -0.217495   \n",
       "1 -0.470249  0.572597 -0.092038  ...  0.115680 -0.039526  0.333876 -0.327120   \n",
       "2 -0.459646  0.576085 -0.178795  ...  0.130955  0.092060  0.357878 -0.421292   \n",
       "3 -0.466394  0.578868 -0.170001  ...  0.119467  0.020554  0.325214 -0.552348   \n",
       "4 -0.462064  0.564967 -0.018101  ...  0.122655  0.094541  0.326784 -0.197460   \n",
       "\n",
       "        V25       V26       V27       V28    Amount  Class  \n",
       "0  0.170244 -0.210886 -0.162048 -0.374607 -0.988352   -1.0  \n",
       "1  0.174581 -0.107974 -0.167310 -0.373155 -0.999791   -1.0  \n",
       "2  0.119030 -0.194546 -0.169021 -0.376177 -0.970522   -1.0  \n",
       "3  0.228491 -0.221607 -0.164663 -0.371258 -0.990386   -1.0  \n",
       "4  0.132685  0.014994 -0.158878 -0.365020 -0.994551   -1.0  \n",
       "\n",
       "[5 rows x 31 columns]"
      ]
     },
     "execution_count": 47,
     "metadata": {},
     "output_type": "execute_result"
    }
   ],
   "source": [
    "headers = list(dataset.columns.values)\n",
    "\n",
    "min_max_scaler = preprocessing.MinMaxScaler(feature_range=(-1,1))\n",
    "\n",
    "np_scaled = min_max_scaler.fit_transform(dataset)\n",
    "data_norm = pd.DataFrame(np_scaled)\n",
    "\n",
    "data_norm.columns = headers\n",
    "data_norm.head()"
   ]
  },
  {
   "cell_type": "markdown",
   "metadata": {},
   "source": [
    "Делим данные на тестовые 30% и тренировочные 70%:"
   ]
  },
  {
   "cell_type": "code",
   "execution_count": 48,
   "metadata": {},
   "outputs": [],
   "source": [
    "from sklearn.model_selection import train_test_split\n",
    "X_train,X_test,y_train,y_test = train_test_split(data_norm,\n",
    "                                                 Y,\n",
    "                                                 test_size = 0.3,#%70 train, 30% test\n",
    "                                                 random_state = 3)"
   ]
  },
  {
   "cell_type": "markdown",
   "metadata": {},
   "source": [
    "Дополняем тренировочные данные:"
   ]
  },
  {
   "cell_type": "code",
   "execution_count": 49,
   "metadata": {},
   "outputs": [
    {
     "name": "stdout",
     "output_type": "stream",
     "text": [
      "Количество элементов до операции: 199364\n",
      "Количество элементов после операции: 398048\n"
     ]
    }
   ],
   "source": [
    "from imblearn.over_sampling import RandomOverSampler\n",
    "from imblearn.under_sampling import RandomUnderSampler\n",
    "\n",
    "ros = RandomOverSampler(random_state=0)\n",
    "\n",
    "ros.fit(X_train, y_train)\n",
    "X_resampled, y_resampled = ros.fit_sample(X_train, y_train)\n",
    "print('Количество элементов до операции:', len(X_train))\n",
    "print('Количество элементов после операции:', len(X_resampled))\n"
   ]
  },
  {
   "cell_type": "markdown",
   "metadata": {},
   "source": [
    "Уравняли классы по количеству:"
   ]
  },
  {
   "cell_type": "code",
   "execution_count": 50,
   "metadata": {},
   "outputs": [
    {
     "data": {
      "text/plain": [
       "{0: 199024, 1: 199024}"
      ]
     },
     "execution_count": 50,
     "metadata": {},
     "output_type": "execute_result"
    }
   ],
   "source": [
    "unique, counts = np.unique(y_resampled, return_counts=True)\n",
    "dict(zip(unique, counts))"
   ]
  },
  {
   "cell_type": "markdown",
   "metadata": {},
   "source": [
    "Тестовые данные остались несбаласированны:"
   ]
  },
  {
   "cell_type": "code",
   "execution_count": 51,
   "metadata": {},
   "outputs": [
    {
     "data": {
      "text/plain": [
       "{0: 85291, 1: 152}"
      ]
     },
     "execution_count": 51,
     "metadata": {},
     "output_type": "execute_result"
    }
   ],
   "source": [
    "unique, counts = np.unique(y_test, return_counts=True)\n",
    "dict(zip(unique, counts))"
   ]
  }
 ],
 "metadata": {
  "colab": {
   "include_colab_link": true,
   "name": "dz_4.version2.ipynb",
   "provenance": [],
   "toc_visible": true
  },
  "kernelspec": {
   "display_name": "Python 3",
   "language": "python",
   "name": "python3"
  },
  "language_info": {
   "codemirror_mode": {
    "name": "ipython",
    "version": 3
   },
   "file_extension": ".py",
   "mimetype": "text/x-python",
   "name": "python",
   "nbconvert_exporter": "python",
   "pygments_lexer": "ipython3",
   "version": "3.7.4"
  }
 },
 "nbformat": 4,
 "nbformat_minor": 1
}
