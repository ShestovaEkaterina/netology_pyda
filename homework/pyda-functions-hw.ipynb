{
 "cells": [
  {
   "cell_type": "markdown",
   "metadata": {},
   "source": [
    "## Задание 1"
   ]
  },
  {
   "cell_type": "markdown",
   "metadata": {},
   "source": [
    "Дан список вида:"
   ]
  },
  {
   "cell_type": "code",
   "execution_count": null,
   "metadata": {},
   "outputs": [],
   "source": [
    "data = [\n",
    "    [13, 25, 23, 34],\n",
    "    [45, 32, 44, 47],\n",
    "    [12, 33, 23, 95],\n",
    "    [13, 53, 34, 35]\n",
    "]"
   ]
  },
  {
   "cell_type": "markdown",
   "metadata": {},
   "source": [
    "Напишите функцию, которая возвращает сумму элементов на диагонали. Т. е. 13+32+23+35.  \n",
    "Список может быть любой длины, но всегда является \"квадратным\" (количество элементов во вложенных списках равно их количеству)."
   ]
  },
  {
   "cell_type": "code",
   "execution_count": null,
   "metadata": {},
   "outputs": [],
   "source": [
    "def diag_sum ():\n",
    "    sum_elem = 0\n",
    "    for i in range(len(data)):\n",
    "        for j in range (len(data)):\n",
    "            if i == j:\n",
    "                sum_elem += data [i][j]\n",
    "    return sum_elem\n",
    "print(diag_sum())\n"
   ]
  },
  {
   "cell_type": "markdown",
   "metadata": {},
   "source": [
    "## Задание 2"
   ]
  },
  {
   "cell_type": "markdown",
   "metadata": {},
   "source": [
    "Напишите функцию, возвращающую сумму первых n чисел Фибоначчи (для этого вам может понадобится ознакомиться с рекурсией)."
   ]
  },
  {
   "cell_type": "markdown",
   "metadata": {},
   "source": [
    "Последовательность Фибоначчи определяется так:\n",
    "φ0 = 0,  φ1 = 1,  φn = φn−1 + φn−2."
   ]
  },
  {
   "cell_type": "code",
   "execution_count": null,
   "metadata": {},
   "outputs": [],
   "source": [
    "def fib(n):\n",
    "    if n ==0:\n",
    "        return 0\n",
    "    elif n == 1:\n",
    "        return 1\n",
    "    elif n>1:\n",
    "        fib_n = fib(n-2)+fib(n-1)\n",
    "        return fib_n\n",
    "    \n",
    "def sum_fib(n):\n",
    "    sum_fib_numbers = 0\n",
    "    for number in range(n+1):\n",
    "        sum_fib_numbers += fib(number)\n",
    "    return sum_fib_numbers\n",
    "    \n",
    "print(sum_fib(int(input('Введите n: '))))\n"
   ]
  },
  {
   "cell_type": "markdown",
   "metadata": {},
   "source": [
    "## Задание 3\n"
   ]
  },
  {
   "cell_type": "markdown",
   "metadata": {},
   "source": [
    "Напишите функцию, преобразующую произвольный список вида ['2018-01-01', 'yandex', 'cpc', 100] (он может быть любой длины) в словарь {'2018-01-01': {'yandex': {'cpc': 100}}}"
   ]
  },
  {
   "cell_type": "code",
   "execution_count": 1,
   "metadata": {},
   "outputs": [
    {
     "name": "stdout",
     "output_type": "stream",
     "text": [
      "Введите список через запятую: 2018-01-01, yandex, cpc, 100\n",
      "{'2018-01-01': {' yandex': {' cpc': ' 100'}}}\n"
     ]
    }
   ],
   "source": [
    "def get_dict(user_list):\n",
    "    result = {user_list[-2]: user_list[-1]}\n",
    "    for name in reversed(user_list[:-2]):\n",
    "        result = {name: result}\n",
    "    return result\n",
    "\n",
    "print(get_dict(input('Введите список через запятую: ').split(',') ))\n",
    "    "
   ]
  },
  {
   "cell_type": "markdown",
   "metadata": {},
   "source": [
    "Второй способ решения задачи через функцию reduce:\n"
   ]
  },
  {
   "cell_type": "code",
   "execution_count": 21,
   "metadata": {},
   "outputs": [
    {
     "name": "stdout",
     "output_type": "stream",
     "text": [
      "Введите список через запятую: 2018-01-01, yandex, cps, 100\n",
      "{'2018-01-01': {' yandex': {' cps': ' 100'}}}\n"
     ]
    }
   ],
   "source": [
    "def get_dict_2(user_list):\n",
    "    from functools import reduce\n",
    "    result = reduce(lambda value, key: {key: value}, reversed(user_list))\n",
    "    return result\n",
    "\n",
    "print(get_dict_2(input('Введите список через запятую: ').split(',') ))\n"
   ]
  },
  {
   "cell_type": "code",
   "execution_count": null,
   "metadata": {},
   "outputs": [],
   "source": []
  },
  {
   "cell_type": "markdown",
   "metadata": {},
   "source": [
    "## Задание 4\n"
   ]
  },
  {
   "cell_type": "markdown",
   "metadata": {},
   "source": [
    "Вы работаете секретарем и вам постоянно приходят различные документы. Вы должны быть очень внимательны, чтобы не потерять ни один документ. Каталог документов хранится в следующем виде:\n"
   ]
  },
  {
   "cell_type": "code",
   "execution_count": 1,
   "metadata": {},
   "outputs": [],
   "source": [
    "documents = [\n",
    "    {'type': 'passport', 'number': '2207 876234', 'name': 'Василий Гупкин'},\n",
    "    {'type': 'invoice', 'number': '11-2', 'name': 'Геннадий Покемонов'},\n",
    "    {'type': 'insurance', 'number': '10006', 'name': 'Аристарх Павлов'}\n",
    "]"
   ]
  },
  {
   "cell_type": "markdown",
   "metadata": {},
   "source": [
    "Перечень полок, на которых находятся документы хранится в следующем виде:"
   ]
  },
  {
   "cell_type": "code",
   "execution_count": 2,
   "metadata": {},
   "outputs": [],
   "source": [
    "directories = {\n",
    "    '1': ['2207 876234', '11-2', '5455 028765'],\n",
    "    '2': ['10006', '5400 028765', '5455 002299'],\n",
    "    '3': []\n",
    "}"
   ]
  },
  {
   "cell_type": "markdown",
   "metadata": {},
   "source": [
    "Необходимо реализовать пользовательские команды (внимание! это не название функций, которые должны быть выразительными, а команды, которые вводит пользователь, чтобы получить необходимый результат):\n",
    "  \n",
    "- p – people – команда, которая спросит номер документа и выведет имя человека, которому он принадлежит;  \n",
    "- s – shelf – команда, которая спросит номер документа и выведет номер полки, на которой он находится  \n",
    "Правильно обработайте ситуацию, когда пользователь будет вводить несуществующий документ.\n",
    "- l – list – команда, которая выведет список всех документов в формате   \n",
    "**passport \"2207 876234\" \"Василий Гупкин\"**  \n",
    "- as – add shelf – команда, которая спросит номер новой полки и добавит ее в перечень\n",
    "- d – delete – команда, которая спросит номер документа и удалит его из каталога и из перечня полок. Предусмотрите сценарий, когда пользователь вводит несуществующий документ;  \n",
    "- m – move – команда, которая спросит номер документа и целевую полку и переместит его с текущей полки на целевую. Корректно обработайте кейсы, когда пользователь пытается переместить несуществующий документ или переместить документ на несуществующую полку;  \n",
    "- a – add – команда, которая добавит новый документ в каталог и в перечень полок, спросив его номер, тип, имя владельца и номер полки, на котором он будет храниться."
   ]
  },
  {
   "cell_type": "code",
   "execution_count": 13,
   "metadata": {},
   "outputs": [
    {
     "name": "stdout",
     "output_type": "stream",
     "text": [
      "Введите команду: a\n",
      "Введите тип документа: passport\n",
      "Введите номер документа: 345678\n",
      "Введите имя владельца документа: jack\n",
      "Введите номер полки, где необходимо разместить документ: 4\n",
      "Документ добавлен в каталог:\n",
      "[{'type': 'passport', 'number': '2207 876234', 'name': 'Василий Гупкин'}, {'type': 'invoice', 'number': '11-2', 'name': 'Геннадий Покемонов'}, {'type': 'passport', 'number': '345678', 'name': 'jack'}]\n",
      "Документ добавлен в хранилище: {'1': ['2207 876234', '5455 028765'], '2': ['5400 028765', '5455 002299'], '3': [], '4': ['11-2', '345678']}\n"
     ]
    }
   ],
   "source": [
    "#Если вводится номер, которого нет, функция возвращает None\n",
    "def get_name_by_number (doc_number):\n",
    "    count = 0\n",
    "    for info in documents:\n",
    "        if doc_number == info['number']:\n",
    "            count +=1\n",
    "            doc_name = info['name'] \n",
    "    if count == 1:\n",
    "        return doc_name\n",
    "    else:\n",
    "        return\n",
    "        \n",
    "#Если вводится номер несуществующего документа,то функция возвращает None\n",
    "def get_shelf_by_number (doc_number):\n",
    "    count = 0\n",
    "    for shelf, docs in directories.items():\n",
    "        for numbers in docs:\n",
    "            if doc_number == numbers:\n",
    "                count +=1\n",
    "                shelf_number = shelf\n",
    "    if count == 1:\n",
    "        return shelf_number\n",
    "    else:\n",
    "        return\n",
    "        \n",
    "def get_list_doc ():\n",
    "    for info in documents:\n",
    "        info_list = list(info.values())\n",
    "        for i in range(len(info_list)):\n",
    "            print (info_list[i], end = ' ')\n",
    "        print()\n",
    "        \n",
    "# В случае если пользователь вводить номер полки,которая уже существует, функция возвращает None\n",
    "def add_shelf (shelf_number):\n",
    "    for shelf in directories.keys():\n",
    "        if shelf == shelf_number:\n",
    "            return\n",
    "    directories.setdefault(str(shelf_number), [])\n",
    "    return directories\n",
    "\n",
    "#При попытке удалить несуществующий документ, функция возвращает None\n",
    "def delete_doc_from_documents(doc_number):\n",
    "    not_exist = 0\n",
    "    count = 0\n",
    "    for info in documents:\n",
    "        if doc_number == info['number']:\n",
    "            del(documents[count])\n",
    "            not_exist +=1\n",
    "        count +=1\n",
    "    if not_exist == 1:\n",
    "        return documents\n",
    "    else:\n",
    "        return\n",
    "\n",
    "#При попытке удалить несуществующий документ, функция возвращает None\n",
    "def delete_doc_from_directories(doc_number):\n",
    "    not_exist = 0\n",
    "    for shelf, docs in directories.items():\n",
    "        count = 0\n",
    "        for numbers in docs:\n",
    "            if doc_number == numbers:\n",
    "                del(docs[count])\n",
    "                not_exist +=1\n",
    "            count +=1\n",
    "    if not_exist == 1:\n",
    "        return directories\n",
    "    else:\n",
    "        return\n",
    "    \n",
    "def add_doc_to_documents (doc_type, doc_number, doc_name):\n",
    "    documents.append({'type': doc_type, 'number':doc_number, 'name':doc_name})\n",
    "    return documents\n",
    "\n",
    "#При попытке добавить документ на несуществующую полку возвращает None\n",
    "def add_doc_to_directories (doc_number, shelf_number):\n",
    "    for shelf, docs in directories.items():\n",
    "        if shelf == shelf_number:\n",
    "            docs.append(doc_number)\n",
    "    if shelf_number > shelf:\n",
    "        return\n",
    "    else:\n",
    "        return directories\n",
    "\n",
    "#При попытке добавить документ на несуществующую полку возвращает None\n",
    "#При попытке переместить несуществующий документ возвращает None\n",
    "\n",
    "def move_document(doc_number, new_shelf_number):\n",
    "    new_directories = delete_doc_from_directories(doc_number)\n",
    "    if new_directories is None:\n",
    "        return\n",
    "    else:\n",
    "        return add_doc_to_directories(doc_number, new_shelf_number)\n",
    "\n",
    "def print_result (res, message, info):\n",
    "    if res is None:\n",
    "        print (message)\n",
    "    else:\n",
    "        print(info,res)\n",
    "    \n",
    "    \n",
    "def main():\n",
    "    user_input = input('Введите команду: ')\n",
    "    if user_input == 'p':\n",
    "        doc_number = input ('Введите номер документа: ')\n",
    "        print_result(get_name_by_number (doc_number), 'Документа с таким номером не существует', 'Документ принадлежит:')\n",
    "    elif user_input == 's':\n",
    "        doc_number = input ('Введите номер документа: ')\n",
    "        print_result(get_shelf_by_number(doc_number), 'Документа с таким номером не существует','Документ находится на полке:')\n",
    "    elif user_input == 'l':\n",
    "        print ('Список всех имеющихся документов: ')\n",
    "        get_list_doc()\n",
    "    elif user_input == 'as':\n",
    "        shelf_number = input('Введите номер новой полки: ')\n",
    "        print_result(add_shelf(shelf_number), 'Полка с таким номером уже существует', 'Полка доавлена:')\n",
    "    elif user_input == 'd':\n",
    "        doc_number = input ('Введите номер документа: ')\n",
    "        print_result(delete_doc_from_documents(doc_number),'Документа с таким номером не существует, невозможно удалить из каталога','Документ удален из каталога:')\n",
    "        print_result(delete_doc_from_directories(doc_number),'Документа с таким номером не существует, невозможно удалить из хранилища','Документ удален из хранилища:') \n",
    "    elif user_input == 'm': \n",
    "        doc_number = input ('Введите номер документа: ')\n",
    "        new_shelf_number = input ('Введите номер полки, на которую необходимо переместить документ: ')\n",
    "        print_result(move_document(doc_number, new_shelf_number),'Такого номера документа или номера полки не существует','Документ перемещен:')\n",
    "    elif user_input == 'a':\n",
    "        doc_type = input('Введите тип документа: ')\n",
    "        doc_number = input('Введите номер документа: ')\n",
    "        doc_name = input('Введите имя владельца документа: ')\n",
    "        shelf_number = input ('Введите номер полки, где необходимо разместить документ: ')\n",
    "        print('Документ добавлен в каталог:')\n",
    "        print(add_doc_to_documents (doc_type, doc_number, doc_name))\n",
    "        print_result(add_doc_to_directories (doc_number, shelf_number),'Такого номера полки не существует','Документ добавлен в хранилище:')     \n",
    "    else:\n",
    "        print('Такой команды нет')\n",
    "\n",
    "main()"
   ]
  },
  {
   "cell_type": "code",
   "execution_count": null,
   "metadata": {},
   "outputs": [],
   "source": [
    "\n",
    "    "
   ]
  },
  {
   "cell_type": "code",
   "execution_count": null,
   "metadata": {},
   "outputs": [],
   "source": []
  },
  {
   "cell_type": "code",
   "execution_count": null,
   "metadata": {},
   "outputs": [],
   "source": []
  }
 ],
 "metadata": {
  "kernelspec": {
   "display_name": "Python 3",
   "language": "python",
   "name": "python3"
  },
  "language_info": {
   "codemirror_mode": {
    "name": "ipython",
    "version": 3
   },
   "file_extension": ".py",
   "mimetype": "text/x-python",
   "name": "python",
   "nbconvert_exporter": "python",
   "pygments_lexer": "ipython3",
   "version": "3.7.4"
  }
 },
 "nbformat": 4,
 "nbformat_minor": 2
}
